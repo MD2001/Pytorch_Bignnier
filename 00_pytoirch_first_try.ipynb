{
  "nbformat": 4,
  "nbformat_minor": 0,
  "metadata": {
    "colab": {
      "provenance": [],
      "gpuType": "T4",
      "authorship_tag": "ABX9TyM+0HEHFT54xssYQAv1nAoo",
      "include_colab_link": true
    },
    "kernelspec": {
      "name": "python3",
      "display_name": "Python 3"
    },
    "language_info": {
      "name": "python"
    }
  },
  "cells": [
    {
      "cell_type": "markdown",
      "metadata": {
        "id": "view-in-github",
        "colab_type": "text"
      },
      "source": [
        "<a href=\"https://colab.research.google.com/github/MD2001/Pytorch_Bignnier/blob/main/00_pytoirch_first_try.ipynb\" target=\"_parent\"><img src=\"https://colab.research.google.com/assets/colab-badge.svg\" alt=\"Open In Colab\"/></a>"
      ]
    },
    {
      "cell_type": "markdown",
      "source": [
        "## Title: 00. PyTorch Fundamentals\n",
        "Resource notebook: https://www.learnpytorch.io/00_pytorch_fundamentals/\n",
        "\n",
        "Discussion forum: https://github.com/mrdbourke/pytorch-deep-learning/discussions"
      ],
      "metadata": {
        "id": "0e83aUeWF9Dz"
      }
    },
    {
      "cell_type": "code",
      "execution_count": 1,
      "metadata": {
        "colab": {
          "base_uri": "https://localhost:8080/"
        },
        "id": "22YQ1fs4Fq0N",
        "outputId": "2eeeeca1-1e4b-4d9f-f101-638428213d80"
      },
      "outputs": [
        {
          "output_type": "stream",
          "name": "stdout",
          "text": [
            "2.8.0+cu126\n"
          ]
        }
      ],
      "source": [
        "import torch\n",
        "import pandas as pd\n",
        "import numpy as np\n",
        "import matplotlib.pyplot as plt\n",
        "print(torch.__version__)"
      ]
    },
    {
      "cell_type": "markdown",
      "source": [
        "## introduction\n",
        "### tensors"
      ],
      "metadata": {
        "id": "UOicOkERGZy4"
      }
    },
    {
      "cell_type": "code",
      "source": [
        "#scaler\n",
        "scaler=torch.tensor(7)\n",
        "scaler"
      ],
      "metadata": {
        "colab": {
          "base_uri": "https://localhost:8080/"
        },
        "id": "VciDj-PUHFQS",
        "outputId": "f25b62d6-4467-486d-c685-26e86cb4fe4b"
      },
      "execution_count": 2,
      "outputs": [
        {
          "output_type": "execute_result",
          "data": {
            "text/plain": [
              "tensor(7)"
            ]
          },
          "metadata": {},
          "execution_count": 2
        }
      ]
    },
    {
      "cell_type": "code",
      "source": [
        "scaler.shape"
      ],
      "metadata": {
        "colab": {
          "base_uri": "https://localhost:8080/"
        },
        "id": "SPUx3EwaOfaC",
        "outputId": "101ea011-f24b-4b9d-a108-ab69592225e6"
      },
      "execution_count": 3,
      "outputs": [
        {
          "output_type": "execute_result",
          "data": {
            "text/plain": [
              "torch.Size([])"
            ]
          },
          "metadata": {},
          "execution_count": 3
        }
      ]
    },
    {
      "cell_type": "code",
      "source": [
        "scaler.ndim"
      ],
      "metadata": {
        "colab": {
          "base_uri": "https://localhost:8080/"
        },
        "id": "JifVtElKOiOx",
        "outputId": "05a0c028-2f2e-4373-b2f3-59eac5a7c702"
      },
      "execution_count": 4,
      "outputs": [
        {
          "output_type": "execute_result",
          "data": {
            "text/plain": [
              "0"
            ]
          },
          "metadata": {},
          "execution_count": 4
        }
      ]
    },
    {
      "cell_type": "code",
      "source": [
        "#Vector\n",
        "Vector=torch.tensor([7,7])\n",
        "Vector"
      ],
      "metadata": {
        "colab": {
          "base_uri": "https://localhost:8080/"
        },
        "id": "7CIzc3JHOrOZ",
        "outputId": "e2a2aa12-da56-4e45-f75d-41b113fdd635"
      },
      "execution_count": 5,
      "outputs": [
        {
          "output_type": "execute_result",
          "data": {
            "text/plain": [
              "tensor([7, 7])"
            ]
          },
          "metadata": {},
          "execution_count": 5
        }
      ]
    },
    {
      "cell_type": "code",
      "source": [
        "Vector.shape"
      ],
      "metadata": {
        "colab": {
          "base_uri": "https://localhost:8080/"
        },
        "id": "AE1nhNg0OukR",
        "outputId": "e3f84b7f-4f2f-4dbc-83c1-a8883a0ccd91"
      },
      "execution_count": 6,
      "outputs": [
        {
          "output_type": "execute_result",
          "data": {
            "text/plain": [
              "torch.Size([2])"
            ]
          },
          "metadata": {},
          "execution_count": 6
        }
      ]
    },
    {
      "cell_type": "code",
      "source": [
        "Vector.ndim"
      ],
      "metadata": {
        "colab": {
          "base_uri": "https://localhost:8080/"
        },
        "id": "ELIcgDtMO-7a",
        "outputId": "ac1b9310-8577-4932-84b2-ab7bcd54def7"
      },
      "execution_count": 7,
      "outputs": [
        {
          "output_type": "execute_result",
          "data": {
            "text/plain": [
              "1"
            ]
          },
          "metadata": {},
          "execution_count": 7
        }
      ]
    },
    {
      "cell_type": "code",
      "source": [
        "#MATRIX\n",
        "MATRIX =torch.tensor([[1,3],[2,4]])\n",
        "MATRIX"
      ],
      "metadata": {
        "colab": {
          "base_uri": "https://localhost:8080/"
        },
        "id": "lnKrOHGJPD-i",
        "outputId": "b8b621ce-7826-4c33-8a89-dfb61f286ddf"
      },
      "execution_count": 8,
      "outputs": [
        {
          "output_type": "execute_result",
          "data": {
            "text/plain": [
              "tensor([[1, 3],\n",
              "        [2, 4]])"
            ]
          },
          "metadata": {},
          "execution_count": 8
        }
      ]
    },
    {
      "cell_type": "code",
      "source": [
        "MATRIX.shape"
      ],
      "metadata": {
        "colab": {
          "base_uri": "https://localhost:8080/"
        },
        "id": "BAAQ128APSFa",
        "outputId": "5450b073-d631-4321-9b28-d2c8ba056ec1"
      },
      "execution_count": 9,
      "outputs": [
        {
          "output_type": "execute_result",
          "data": {
            "text/plain": [
              "torch.Size([2, 2])"
            ]
          },
          "metadata": {},
          "execution_count": 9
        }
      ]
    },
    {
      "cell_type": "code",
      "source": [
        "MATRIX.ndim"
      ],
      "metadata": {
        "colab": {
          "base_uri": "https://localhost:8080/"
        },
        "id": "2tq80fJhPXXS",
        "outputId": "32aa58b2-edfa-4b01-a309-e0f21af89672"
      },
      "execution_count": 10,
      "outputs": [
        {
          "output_type": "execute_result",
          "data": {
            "text/plain": [
              "2"
            ]
          },
          "metadata": {},
          "execution_count": 10
        }
      ]
    },
    {
      "cell_type": "code",
      "source": [
        "MATRIX[0]"
      ],
      "metadata": {
        "colab": {
          "base_uri": "https://localhost:8080/"
        },
        "id": "Re0pS3G1PgLy",
        "outputId": "26f6e94f-f428-4954-9581-ac707a1f2c97"
      },
      "execution_count": 11,
      "outputs": [
        {
          "output_type": "execute_result",
          "data": {
            "text/plain": [
              "tensor([1, 3])"
            ]
          },
          "metadata": {},
          "execution_count": 11
        }
      ]
    },
    {
      "cell_type": "code",
      "source": [
        "MATRIX[1]"
      ],
      "metadata": {
        "colab": {
          "base_uri": "https://localhost:8080/"
        },
        "id": "IiOfer8RQOfK",
        "outputId": "be470ce4-7a65-47b7-a41e-6cebea544293"
      },
      "execution_count": 12,
      "outputs": [
        {
          "output_type": "execute_result",
          "data": {
            "text/plain": [
              "tensor([2, 4])"
            ]
          },
          "metadata": {},
          "execution_count": 12
        }
      ]
    },
    {
      "cell_type": "code",
      "source": [
        "#Tensors\n",
        "TENSOR = torch.tensor([[[1,2,3,4],[5,6,7,8],[9,10,11,12]]])\n",
        "TENSOR"
      ],
      "metadata": {
        "colab": {
          "base_uri": "https://localhost:8080/"
        },
        "id": "n25J-YdcQSCK",
        "outputId": "be488074-5339-4246-9504-ffe6d48d7edd"
      },
      "execution_count": 13,
      "outputs": [
        {
          "output_type": "execute_result",
          "data": {
            "text/plain": [
              "tensor([[[ 1,  2,  3,  4],\n",
              "         [ 5,  6,  7,  8],\n",
              "         [ 9, 10, 11, 12]]])"
            ]
          },
          "metadata": {},
          "execution_count": 13
        }
      ]
    },
    {
      "cell_type": "code",
      "source": [
        "TENSOR.shape"
      ],
      "metadata": {
        "colab": {
          "base_uri": "https://localhost:8080/"
        },
        "id": "tkVcZiJnQXxi",
        "outputId": "bb8a4443-f2dc-4fc0-8cd6-ba3171f9b079"
      },
      "execution_count": 14,
      "outputs": [
        {
          "output_type": "execute_result",
          "data": {
            "text/plain": [
              "torch.Size([1, 3, 4])"
            ]
          },
          "metadata": {},
          "execution_count": 14
        }
      ]
    },
    {
      "cell_type": "code",
      "source": [
        "TENSOR.ndim"
      ],
      "metadata": {
        "colab": {
          "base_uri": "https://localhost:8080/"
        },
        "id": "SHmVrFvLQxvi",
        "outputId": "721ab924-e2ba-46cf-d333-2af20099c706"
      },
      "execution_count": 15,
      "outputs": [
        {
          "output_type": "execute_result",
          "data": {
            "text/plain": [
              "3"
            ]
          },
          "metadata": {},
          "execution_count": 15
        }
      ]
    },
    {
      "cell_type": "code",
      "source": [
        "TENSOR[0]"
      ],
      "metadata": {
        "colab": {
          "base_uri": "https://localhost:8080/"
        },
        "id": "AEwxzbAiQ4vq",
        "outputId": "ab7ac30b-430f-4574-c9aa-375c9fd64793"
      },
      "execution_count": 16,
      "outputs": [
        {
          "output_type": "execute_result",
          "data": {
            "text/plain": [
              "tensor([[ 1,  2,  3,  4],\n",
              "        [ 5,  6,  7,  8],\n",
              "        [ 9, 10, 11, 12]])"
            ]
          },
          "metadata": {},
          "execution_count": 16
        }
      ]
    },
    {
      "cell_type": "code",
      "source": [
        "Tesnor2=torch.tensor([[[1,2],[3,4],[5,6]],[[7,8],[9,10],[11,12]]])\n",
        "Tesnor2"
      ],
      "metadata": {
        "colab": {
          "base_uri": "https://localhost:8080/"
        },
        "id": "ez_LtaTjQ6ka",
        "outputId": "49c411a0-e2a5-446d-bc12-e90e95d668ee"
      },
      "execution_count": 17,
      "outputs": [
        {
          "output_type": "execute_result",
          "data": {
            "text/plain": [
              "tensor([[[ 1,  2],\n",
              "         [ 3,  4],\n",
              "         [ 5,  6]],\n",
              "\n",
              "        [[ 7,  8],\n",
              "         [ 9, 10],\n",
              "         [11, 12]]])"
            ]
          },
          "metadata": {},
          "execution_count": 17
        }
      ]
    },
    {
      "cell_type": "code",
      "source": [
        "Tesnor2.ndim"
      ],
      "metadata": {
        "colab": {
          "base_uri": "https://localhost:8080/"
        },
        "id": "MxFQTjiaQ-ka",
        "outputId": "abaf744c-e95c-4391-a4f9-0a017b43712e"
      },
      "execution_count": 18,
      "outputs": [
        {
          "output_type": "execute_result",
          "data": {
            "text/plain": [
              "3"
            ]
          },
          "metadata": {},
          "execution_count": 18
        }
      ]
    },
    {
      "cell_type": "code",
      "source": [
        "Tesnor2.shape"
      ],
      "metadata": {
        "colab": {
          "base_uri": "https://localhost:8080/"
        },
        "id": "eGnClSgVWSzW",
        "outputId": "aeb2ad28-6e1e-4f2c-9640-598c9213bf7c"
      },
      "execution_count": 19,
      "outputs": [
        {
          "output_type": "execute_result",
          "data": {
            "text/plain": [
              "torch.Size([2, 3, 2])"
            ]
          },
          "metadata": {},
          "execution_count": 19
        }
      ]
    },
    {
      "cell_type": "markdown",
      "source": [
        "## Random tensors\n",
        "### Why random tensors?\n",
        "### Random tensors are important because the way many neural networks learn is that they start with tensors full of random numbers and then\n",
        "### Torch random tensors-https://docs.pytorch.org/docs/stable/generated/torch.rand.html"
      ],
      "metadata": {
        "id": "pUsMxHP5WYAz"
      }
    },
    {
      "cell_type": "code",
      "source": [
        "tensore_rand=torch.rand(3,4)\n",
        "tensore_rand"
      ],
      "metadata": {
        "colab": {
          "base_uri": "https://localhost:8080/"
        },
        "id": "EDTkZ56yxqa6",
        "outputId": "db04b8f3-f1e7-47a6-9cfa-3b7b3d60a18d"
      },
      "execution_count": 20,
      "outputs": [
        {
          "output_type": "execute_result",
          "data": {
            "text/plain": [
              "tensor([[0.6216, 0.4021, 0.3021, 0.3254],\n",
              "        [0.8195, 0.3274, 0.9559, 0.5192],\n",
              "        [0.8246, 0.1910, 0.3819, 0.9650]])"
            ]
          },
          "metadata": {},
          "execution_count": 20
        }
      ]
    },
    {
      "cell_type": "code",
      "source": [
        "tensore_rand2=torch.rand(size=(3,224,224))\n",
        "tensore_rand2"
      ],
      "metadata": {
        "colab": {
          "base_uri": "https://localhost:8080/"
        },
        "id": "PiMJWhaHxx27",
        "outputId": "d902818c-ec2f-4f75-c10d-c496d4ff3142"
      },
      "execution_count": 21,
      "outputs": [
        {
          "output_type": "execute_result",
          "data": {
            "text/plain": [
              "tensor([[[0.1597, 0.7884, 0.7837,  ..., 0.2076, 0.3312, 0.0765],\n",
              "         [0.0380, 0.2401, 0.9731,  ..., 0.3974, 0.3668, 0.4356],\n",
              "         [0.1255, 0.4664, 0.6167,  ..., 0.0250, 0.6378, 0.6836],\n",
              "         ...,\n",
              "         [0.2760, 0.6852, 0.8285,  ..., 0.0081, 0.6784, 0.0887],\n",
              "         [0.2647, 0.6092, 0.0090,  ..., 0.3375, 0.1681, 0.3273],\n",
              "         [0.8377, 0.5787, 0.9644,  ..., 0.1628, 0.7750, 0.7449]],\n",
              "\n",
              "        [[0.9646, 0.5656, 0.8725,  ..., 0.1098, 0.6162, 0.8611],\n",
              "         [0.0552, 0.5560, 0.6498,  ..., 0.9505, 0.0571, 0.8631],\n",
              "         [0.5582, 0.6312, 0.6366,  ..., 0.5389, 0.6499, 0.2737],\n",
              "         ...,\n",
              "         [0.8947, 0.1410, 0.5466,  ..., 0.6735, 0.0114, 0.6963],\n",
              "         [0.2713, 0.2576, 0.1575,  ..., 0.0081, 0.0934, 0.6353],\n",
              "         [0.3536, 0.4660, 0.5417,  ..., 0.4156, 0.6770, 0.0521]],\n",
              "\n",
              "        [[0.3346, 0.7963, 0.6772,  ..., 0.1417, 0.5873, 0.3489],\n",
              "         [0.0497, 0.7612, 0.4346,  ..., 0.5040, 0.0633, 0.4333],\n",
              "         [0.6126, 0.0396, 0.4372,  ..., 0.2588, 0.3663, 0.4607],\n",
              "         ...,\n",
              "         [0.8387, 0.3348, 0.3406,  ..., 0.7980, 0.0624, 0.5182],\n",
              "         [0.6267, 0.1278, 0.3453,  ..., 0.1983, 0.5400, 0.9865],\n",
              "         [0.8071, 0.1508, 0.9431,  ..., 0.3983, 0.9646, 0.1171]]])"
            ]
          },
          "metadata": {},
          "execution_count": 21
        }
      ]
    },
    {
      "cell_type": "code",
      "source": [
        "tensore_rand2.ndim , tensore_rand2.shape"
      ],
      "metadata": {
        "colab": {
          "base_uri": "https://localhost:8080/"
        },
        "id": "TNbJhmLByJOD",
        "outputId": "85543420-4cdf-474e-978a-811f26ceb79a"
      },
      "execution_count": 22,
      "outputs": [
        {
          "output_type": "execute_result",
          "data": {
            "text/plain": [
              "(3, torch.Size([3, 224, 224]))"
            ]
          },
          "metadata": {},
          "execution_count": 22
        }
      ]
    },
    {
      "cell_type": "markdown",
      "source": [
        "## zeros or ones arrays useed often to mask biger arrays"
      ],
      "metadata": {
        "id": "x5Ssi8J1z9R8"
      }
    },
    {
      "cell_type": "code",
      "source": [
        "zeros=torch.zeros(size=(3,4))\n",
        "zeros"
      ],
      "metadata": {
        "colab": {
          "base_uri": "https://localhost:8080/"
        },
        "id": "iGAD4OdrycC8",
        "outputId": "5263ef28-dbe5-4191-837b-478e5cb3e3ee"
      },
      "execution_count": 23,
      "outputs": [
        {
          "output_type": "execute_result",
          "data": {
            "text/plain": [
              "tensor([[0., 0., 0., 0.],\n",
              "        [0., 0., 0., 0.],\n",
              "        [0., 0., 0., 0.]])"
            ]
          },
          "metadata": {},
          "execution_count": 23
        }
      ]
    },
    {
      "cell_type": "code",
      "source": [
        "ones=torch.ones(size=(3,4))\n",
        "ones"
      ],
      "metadata": {
        "colab": {
          "base_uri": "https://localhost:8080/"
        },
        "id": "Wss6DNfnzxUL",
        "outputId": "33a8664c-0204-4f27-ec25-bc6c6d824c29"
      },
      "execution_count": 24,
      "outputs": [
        {
          "output_type": "execute_result",
          "data": {
            "text/plain": [
              "tensor([[1., 1., 1., 1.],\n",
              "        [1., 1., 1., 1.],\n",
              "        [1., 1., 1., 1.]])"
            ]
          },
          "metadata": {},
          "execution_count": 24
        }
      ]
    },
    {
      "cell_type": "code",
      "source": [
        "aranges=torch.arange(1,11,1)\n",
        "aranges"
      ],
      "metadata": {
        "colab": {
          "base_uri": "https://localhost:8080/"
        },
        "id": "qXAetFmyz4tq",
        "outputId": "bfb17bb4-f8ae-4e5b-8f23-4cf531a101c8"
      },
      "execution_count": 25,
      "outputs": [
        {
          "output_type": "execute_result",
          "data": {
            "text/plain": [
              "tensor([ 1,  2,  3,  4,  5,  6,  7,  8,  9, 10])"
            ]
          },
          "metadata": {},
          "execution_count": 25
        }
      ]
    },
    {
      "cell_type": "code",
      "source": [
        "zeros_like=torch.zeros_like(input=aranges)\n",
        "zeros_like"
      ],
      "metadata": {
        "colab": {
          "base_uri": "https://localhost:8080/"
        },
        "id": "1UsF3L0a0ruN",
        "outputId": "5d7a05a5-9fd7-4f7f-c635-a37b95e4ada8"
      },
      "execution_count": 26,
      "outputs": [
        {
          "output_type": "execute_result",
          "data": {
            "text/plain": [
              "tensor([0, 0, 0, 0, 0, 0, 0, 0, 0, 0])"
            ]
          },
          "metadata": {},
          "execution_count": 26
        }
      ]
    },
    {
      "cell_type": "markdown",
      "source": [
        "### Tensor datatypes\n",
        "**Note:** Tensor datatypes is one of the 3 big errors you'll run into with PyTorch\n",
        "& deep learning:\n",
        "1. Tensors not right datatype\n",
        "2. Tensors not right shape\n",
        "3. Tensors not on the right device"
      ],
      "metadata": {
        "id": "Lcoo9keUO6iO"
      }
    },
    {
      "cell_type": "code",
      "source": [
        "float_32_tensor=torch.tensor([3.0,6.0,9.0],\n",
        "                             dtype=None,\n",
        "                             device=None,\n",
        "                             requires_grad=False)\n",
        "float_32_tensor"
      ],
      "metadata": {
        "id": "1eShMBWC10O9",
        "colab": {
          "base_uri": "https://localhost:8080/"
        },
        "outputId": "7769dccc-f2db-4b14-ab58-7611ab258f98"
      },
      "execution_count": 27,
      "outputs": [
        {
          "output_type": "execute_result",
          "data": {
            "text/plain": [
              "tensor([3., 6., 9.])"
            ]
          },
          "metadata": {},
          "execution_count": 27
        }
      ]
    },
    {
      "cell_type": "code",
      "source": [
        "float_16_tensor=float_32_tensor.type(torch.float16)\n",
        "float_16_tensor"
      ],
      "metadata": {
        "colab": {
          "base_uri": "https://localhost:8080/"
        },
        "id": "N5h3XyGpPT70",
        "outputId": "a06abded-3f97-4b11-a32b-32065909f012"
      },
      "execution_count": 28,
      "outputs": [
        {
          "output_type": "execute_result",
          "data": {
            "text/plain": [
              "tensor([3., 6., 9.], dtype=torch.float16)"
            ]
          },
          "metadata": {},
          "execution_count": 28
        }
      ]
    },
    {
      "cell_type": "code",
      "source": [
        "float_16_tensor*float_32_tensor ## why this work?"
      ],
      "metadata": {
        "colab": {
          "base_uri": "https://localhost:8080/"
        },
        "id": "P8mXggQCQRoF",
        "outputId": "a858f21c-2379-4578-83d5-03a52f39101d"
      },
      "execution_count": 29,
      "outputs": [
        {
          "output_type": "execute_result",
          "data": {
            "text/plain": [
              "tensor([ 9., 36., 81.])"
            ]
          },
          "metadata": {},
          "execution_count": 29
        }
      ]
    },
    {
      "cell_type": "code",
      "source": [
        "int_32_tensor=torch.tensor([1,2,3],dtype=torch.int32)\n",
        "int_32_tensor"
      ],
      "metadata": {
        "id": "HxkmWW3sQoAs",
        "colab": {
          "base_uri": "https://localhost:8080/"
        },
        "outputId": "0fe62ce5-9cc0-44b8-db84-b827fd4eec84"
      },
      "execution_count": 30,
      "outputs": [
        {
          "output_type": "execute_result",
          "data": {
            "text/plain": [
              "tensor([1, 2, 3], dtype=torch.int32)"
            ]
          },
          "metadata": {},
          "execution_count": 30
        }
      ]
    },
    {
      "cell_type": "code",
      "source": [
        "float_16_tensor*int_32_tensor"
      ],
      "metadata": {
        "colab": {
          "base_uri": "https://localhost:8080/"
        },
        "id": "H3gvKmr8E5wk",
        "outputId": "62ab3642-7e36-4644-d07a-b1af4a084586"
      },
      "execution_count": 31,
      "outputs": [
        {
          "output_type": "execute_result",
          "data": {
            "text/plain": [
              "tensor([ 3., 12., 27.], dtype=torch.float16)"
            ]
          },
          "metadata": {},
          "execution_count": 31
        }
      ]
    },
    {
      "cell_type": "code",
      "source": [
        "some_tensor=torch.rand(3,4)\n",
        "some_tensor"
      ],
      "metadata": {
        "colab": {
          "base_uri": "https://localhost:8080/"
        },
        "id": "LSvXYJCyE_sz",
        "outputId": "cbe4283c-5e62-4353-ad01-40f1701ba8eb"
      },
      "execution_count": 32,
      "outputs": [
        {
          "output_type": "execute_result",
          "data": {
            "text/plain": [
              "tensor([[0.6775, 0.7792, 0.7232, 0.0187],\n",
              "        [0.5518, 0.2100, 0.1968, 0.9648],\n",
              "        [0.7054, 0.9073, 0.5390, 0.4065]])"
            ]
          },
          "metadata": {},
          "execution_count": 32
        }
      ]
    },
    {
      "cell_type": "code",
      "source": [
        "print(some_tensor)\n",
        "print(f\"this is the dtype of tensor: {some_tensor.dtype}\")\n",
        "print(f\"this is the shape of tenosr: {some_tensor.shape}\")\n",
        "print(f\"this is the device of tensor: {some_tensor.device}\")"
      ],
      "metadata": {
        "colab": {
          "base_uri": "https://localhost:8080/"
        },
        "id": "MGbE5HtYGrLU",
        "outputId": "564584d4-3b38-4f4a-d942-d3e307d87d36"
      },
      "execution_count": 33,
      "outputs": [
        {
          "output_type": "stream",
          "name": "stdout",
          "text": [
            "tensor([[0.6775, 0.7792, 0.7232, 0.0187],\n",
            "        [0.5518, 0.2100, 0.1968, 0.9648],\n",
            "        [0.7054, 0.9073, 0.5390, 0.4065]])\n",
            "this is the dtype of tensor: torch.float32\n",
            "this is the shape of tenosr: torch.Size([3, 4])\n",
            "this is the device of tensor: cpu\n"
          ]
        }
      ]
    },
    {
      "cell_type": "markdown",
      "source": [
        "##math in tensors"
      ],
      "metadata": {
        "id": "Kobaa0ShG-7F"
      }
    },
    {
      "cell_type": "code",
      "source": [
        "tensor=torch.tensor([1,2,3])\n",
        "tensor"
      ],
      "metadata": {
        "colab": {
          "base_uri": "https://localhost:8080/"
        },
        "id": "GhaZVXKjJfts",
        "outputId": "8e13938f-8b32-47dd-c51f-a36a00b8988b"
      },
      "execution_count": 34,
      "outputs": [
        {
          "output_type": "execute_result",
          "data": {
            "text/plain": [
              "tensor([1, 2, 3])"
            ]
          },
          "metadata": {},
          "execution_count": 34
        }
      ]
    },
    {
      "cell_type": "code",
      "source": [
        "tensor+10"
      ],
      "metadata": {
        "colab": {
          "base_uri": "https://localhost:8080/"
        },
        "id": "87nx9CHjJlcM",
        "outputId": "bf6bd808-5352-46b5-b7ab-68578c781da7"
      },
      "execution_count": 35,
      "outputs": [
        {
          "output_type": "execute_result",
          "data": {
            "text/plain": [
              "tensor([11, 12, 13])"
            ]
          },
          "metadata": {},
          "execution_count": 35
        }
      ]
    },
    {
      "cell_type": "code",
      "source": [
        "tensor*10"
      ],
      "metadata": {
        "colab": {
          "base_uri": "https://localhost:8080/"
        },
        "id": "X7Brkwm8JoWH",
        "outputId": "baf12564-00ca-47b0-e8f5-f0f81e046266"
      },
      "execution_count": 36,
      "outputs": [
        {
          "output_type": "execute_result",
          "data": {
            "text/plain": [
              "tensor([10, 20, 30])"
            ]
          },
          "metadata": {},
          "execution_count": 36
        }
      ]
    },
    {
      "cell_type": "code",
      "source": [
        "tensor-10"
      ],
      "metadata": {
        "colab": {
          "base_uri": "https://localhost:8080/"
        },
        "id": "ap5cvfK-JoTy",
        "outputId": "e38a46fe-7791-420a-b673-8cff6385332a"
      },
      "execution_count": 37,
      "outputs": [
        {
          "output_type": "execute_result",
          "data": {
            "text/plain": [
              "tensor([-9, -8, -7])"
            ]
          },
          "metadata": {},
          "execution_count": 37
        }
      ]
    },
    {
      "cell_type": "code",
      "source": [
        "torch.add(tensor,10)"
      ],
      "metadata": {
        "colab": {
          "base_uri": "https://localhost:8080/"
        },
        "id": "Zr7U6KnpJoRe",
        "outputId": "5c31e2de-47a6-4ae2-9155-4d83f84b91d6"
      },
      "execution_count": 38,
      "outputs": [
        {
          "output_type": "execute_result",
          "data": {
            "text/plain": [
              "tensor([11, 12, 13])"
            ]
          },
          "metadata": {},
          "execution_count": 38
        }
      ]
    },
    {
      "cell_type": "markdown",
      "source": [
        "Matrix multiplication\n",
        "Two main ways of performing multiplication in neural networks and deep learning:\n",
        "1. Element-wise multiplication\n",
        "2. Matrix mutliplication (dot product)\n",
        "More information on multiplying matrices -  https://www.mathsisfun.com/algebra/matrix-multiplying.html\n"
      ],
      "metadata": {
        "id": "0f8EgpQxLI0t"
      }
    },
    {
      "cell_type": "code",
      "source": [
        "%%time\n",
        "torch.matmul(tensor,tensor)\n",
        "## since the total time is 10 time or more less than for loop this method is too better"
      ],
      "metadata": {
        "colab": {
          "base_uri": "https://localhost:8080/"
        },
        "id": "AThTEaGnJoPS",
        "outputId": "45cf370e-c5b0-4013-86e1-dc34a4a02f2c"
      },
      "execution_count": 39,
      "outputs": [
        {
          "output_type": "stream",
          "name": "stdout",
          "text": [
            "CPU times: user 0 ns, sys: 986 µs, total: 986 µs\n",
            "Wall time: 14.5 ms\n"
          ]
        },
        {
          "output_type": "execute_result",
          "data": {
            "text/plain": [
              "tensor(14)"
            ]
          },
          "metadata": {},
          "execution_count": 39
        }
      ]
    },
    {
      "cell_type": "code",
      "source": [
        "%%time\n",
        "value = 0\n",
        "for i in range(len(tensor)):\n",
        "  value += tensor[i] * tensor[i]\n",
        "print(value)"
      ],
      "metadata": {
        "colab": {
          "base_uri": "https://localhost:8080/"
        },
        "id": "4_CLfEtKJoNE",
        "outputId": "4ead6f97-3712-4204-d406-64c3e95c4d04"
      },
      "execution_count": 40,
      "outputs": [
        {
          "output_type": "stream",
          "name": "stdout",
          "text": [
            "tensor(14)\n",
            "CPU times: user 1.43 ms, sys: 0 ns, total: 1.43 ms\n",
            "Wall time: 1.46 ms\n"
          ]
        }
      ]
    },
    {
      "cell_type": "markdown",
      "source": [
        "* short cut for torch.matmul is @\n",
        "1. the first rule in matrxt multiblication is the inner dimintion should be equla\n",
        "- for example:\n",
        "* '(3,2)'@'(3,2)' not work\n",
        "* '(3,2)'@'(2,3)' will work\n",
        "* '(2,3)'@'(3,2)' will work\n",
        "2. the resultin is the outer dimintion"
      ],
      "metadata": {
        "id": "z56ejk-LV4Xp"
      }
    },
    {
      "cell_type": "code",
      "source": [
        "(torch.rand(3,2) @ torch.rand(2,3) ).shape"
      ],
      "metadata": {
        "colab": {
          "base_uri": "https://localhost:8080/"
        },
        "id": "NEnANCqmJoKp",
        "outputId": "2fbed53e-53cb-4c90-a6c2-befb77ac575c"
      },
      "execution_count": 41,
      "outputs": [
        {
          "output_type": "execute_result",
          "data": {
            "text/plain": [
              "torch.Size([3, 3])"
            ]
          },
          "metadata": {},
          "execution_count": 41
        }
      ]
    },
    {
      "cell_type": "markdown",
      "source": [
        "#the transpose is importatint how to use it"
      ],
      "metadata": {
        "id": "TJHRb0tkJoIF"
      }
    },
    {
      "cell_type": "code",
      "source": [
        "tensor=torch.rand(3,2)\n",
        "tensor"
      ],
      "metadata": {
        "colab": {
          "base_uri": "https://localhost:8080/"
        },
        "id": "B_RjhCGJbZIw",
        "outputId": "ea6c2ae9-af46-4a5d-afdd-6bdc962355c5"
      },
      "execution_count": 42,
      "outputs": [
        {
          "output_type": "execute_result",
          "data": {
            "text/plain": [
              "tensor([[0.4805, 0.3414],\n",
              "        [0.3681, 0.2995],\n",
              "        [0.3529, 0.7040]])"
            ]
          },
          "metadata": {},
          "execution_count": 42
        }
      ]
    },
    {
      "cell_type": "code",
      "source": [
        "tensor @ tensor.T"
      ],
      "metadata": {
        "colab": {
          "base_uri": "https://localhost:8080/"
        },
        "id": "sSuSBiEdbgZw",
        "outputId": "cbf51bf9-90cd-453c-f114-7745701776ae"
      },
      "execution_count": 43,
      "outputs": [
        {
          "output_type": "execute_result",
          "data": {
            "text/plain": [
              "tensor([[0.3474, 0.2791, 0.4099],\n",
              "        [0.2791, 0.2252, 0.3407],\n",
              "        [0.4099, 0.3407, 0.6201]])"
            ]
          },
          "metadata": {},
          "execution_count": 43
        }
      ]
    },
    {
      "cell_type": "code",
      "source": [
        "x=torch.arange(0,100,10)\n",
        "x"
      ],
      "metadata": {
        "id": "wbO8FvOPbkEA",
        "colab": {
          "base_uri": "https://localhost:8080/"
        },
        "outputId": "5f9b586a-5db2-4109-8bf0-55a4be26fff9"
      },
      "execution_count": 44,
      "outputs": [
        {
          "output_type": "execute_result",
          "data": {
            "text/plain": [
              "tensor([ 0, 10, 20, 30, 40, 50, 60, 70, 80, 90])"
            ]
          },
          "metadata": {},
          "execution_count": 44
        }
      ]
    },
    {
      "cell_type": "code",
      "source": [
        "torch.max(x),x.max()"
      ],
      "metadata": {
        "colab": {
          "base_uri": "https://localhost:8080/"
        },
        "id": "oYcowH7iEpMQ",
        "outputId": "c694131b-fcd0-4f51-9279-6661eed59033"
      },
      "execution_count": 45,
      "outputs": [
        {
          "output_type": "execute_result",
          "data": {
            "text/plain": [
              "(tensor(90), tensor(90))"
            ]
          },
          "metadata": {},
          "execution_count": 45
        }
      ]
    },
    {
      "cell_type": "code",
      "source": [
        "torch.min(x),x.min()"
      ],
      "metadata": {
        "colab": {
          "base_uri": "https://localhost:8080/"
        },
        "id": "AtOvCwbbEvq-",
        "outputId": "afc49791-6860-484f-d4c5-44a3ee20a2d6"
      },
      "execution_count": 46,
      "outputs": [
        {
          "output_type": "execute_result",
          "data": {
            "text/plain": [
              "(tensor(0), tensor(0))"
            ]
          },
          "metadata": {},
          "execution_count": 46
        }
      ]
    },
    {
      "cell_type": "code",
      "source": [
        "torch.mean(x.type(torch.float32)),x.type(torch.float32).mean()"
      ],
      "metadata": {
        "colab": {
          "base_uri": "https://localhost:8080/"
        },
        "id": "C4uBji8UEz0X",
        "outputId": "18c768fa-4b0d-4768-ba55-8ca67f36f029"
      },
      "execution_count": 47,
      "outputs": [
        {
          "output_type": "execute_result",
          "data": {
            "text/plain": [
              "(tensor(45.), tensor(45.))"
            ]
          },
          "metadata": {},
          "execution_count": 47
        }
      ]
    },
    {
      "cell_type": "code",
      "source": [
        "torch.sum(x),x.sum()"
      ],
      "metadata": {
        "colab": {
          "base_uri": "https://localhost:8080/"
        },
        "id": "LZNk-7RYE3K_",
        "outputId": "e9a10e0d-7f1e-4909-89a6-e0576655d76a"
      },
      "execution_count": 48,
      "outputs": [
        {
          "output_type": "execute_result",
          "data": {
            "text/plain": [
              "(tensor(450), tensor(450))"
            ]
          },
          "metadata": {},
          "execution_count": 48
        }
      ]
    },
    {
      "cell_type": "code",
      "source": [
        "x.argmax()"
      ],
      "metadata": {
        "colab": {
          "base_uri": "https://localhost:8080/"
        },
        "id": "EZyp-ixXF6uX",
        "outputId": "8478e0b3-0ae2-4919-bc43-2ceedd9acf00"
      },
      "execution_count": 49,
      "outputs": [
        {
          "output_type": "execute_result",
          "data": {
            "text/plain": [
              "tensor(9)"
            ]
          },
          "metadata": {},
          "execution_count": 49
        }
      ]
    },
    {
      "cell_type": "code",
      "source": [
        "x.argmin()"
      ],
      "metadata": {
        "id": "0dNs-nNvG4yn",
        "outputId": "a1ff3074-b6f4-4716-a80f-c93733c12d10",
        "colab": {
          "base_uri": "https://localhost:8080/"
        }
      },
      "execution_count": 50,
      "outputs": [
        {
          "output_type": "execute_result",
          "data": {
            "text/plain": [
              "tensor(0)"
            ]
          },
          "metadata": {},
          "execution_count": 50
        }
      ]
    },
    {
      "cell_type": "markdown",
      "source": [
        "##Reshaping, stacking, squeezing and unsqueezing tensors\n",
        "* Reshaping - reshapes an input tensor to a defined shape\n",
        "View\n",
        "* Return a view of an input tensor of certain shape but keep the same memory as the original tensor\n",
        "Stacking\n",
        "* combine multiple tensors on top of each other (vstack) or side by side (hstack)\n",
        "Squeeze\n",
        "* removes all 1 dimensions from a tensor\n",
        "Unsqueeze\n",
        "* add a 1 dimension to a target tensor\n",
        "Permute\n",
        "* Return a view of the input with dimensions permuted (swapped) in a certain way"
      ],
      "metadata": {
        "id": "muIaSSToG6Lf"
      }
    },
    {
      "cell_type": "code",
      "source": [
        "tensor=torch.arange(1,10)\n",
        "tensor,tensor.shape"
      ],
      "metadata": {
        "id": "XmW19RUtdl6E",
        "colab": {
          "base_uri": "https://localhost:8080/"
        },
        "outputId": "41df54e8-fcd7-4ff9-c76a-a41b8ca83211"
      },
      "execution_count": 52,
      "outputs": [
        {
          "output_type": "execute_result",
          "data": {
            "text/plain": [
              "(tensor([1, 2, 3, 4, 5, 6, 7, 8, 9]), torch.Size([9]))"
            ]
          },
          "metadata": {},
          "execution_count": 52
        }
      ]
    },
    {
      "cell_type": "code",
      "source": [
        "tensor_reshape=tensor.reshape(1,9)\n",
        "tensor_reshape,tensor_reshape.shape"
      ],
      "metadata": {
        "colab": {
          "base_uri": "https://localhost:8080/"
        },
        "id": "lZHHyYTH0s5a",
        "outputId": "a68b0813-4525-487a-a409-7c649231d82e"
      },
      "execution_count": 57,
      "outputs": [
        {
          "output_type": "execute_result",
          "data": {
            "text/plain": [
              "(tensor([[1, 2, 3, 4, 5, 6, 7, 8, 9]]), torch.Size([1, 9]))"
            ]
          },
          "metadata": {},
          "execution_count": 57
        }
      ]
    },
    {
      "cell_type": "code",
      "source": [
        "tensor_reshape=tensor.reshape(3,3)\n",
        "tensor_reshape,tensor_reshape.shape"
      ],
      "metadata": {
        "colab": {
          "base_uri": "https://localhost:8080/"
        },
        "id": "-i6UWn8K04pw",
        "outputId": "f918f02d-3228-484a-b077-962ca3273bbe"
      },
      "execution_count": 58,
      "outputs": [
        {
          "output_type": "execute_result",
          "data": {
            "text/plain": [
              "(tensor([[1, 2, 3],\n",
              "         [4, 5, 6],\n",
              "         [7, 8, 9]]),\n",
              " torch.Size([3, 3]))"
            ]
          },
          "metadata": {},
          "execution_count": 58
        }
      ]
    },
    {
      "cell_type": "code",
      "source": [
        "tensor , tensor_reshape"
      ],
      "metadata": {
        "colab": {
          "base_uri": "https://localhost:8080/"
        },
        "id": "5BkmVSRD0zKP",
        "outputId": "157a0f00-8911-4494-9e6c-8e545620aeaf"
      },
      "execution_count": 59,
      "outputs": [
        {
          "output_type": "execute_result",
          "data": {
            "text/plain": [
              "(tensor([1, 2, 3, 4, 5, 6, 7, 8, 9]),\n",
              " tensor([[1, 2, 3],\n",
              "         [4, 5, 6],\n",
              "         [7, 8, 9]]))"
            ]
          },
          "metadata": {},
          "execution_count": 59
        }
      ]
    },
    {
      "cell_type": "code",
      "source": [
        "tensor[0]=66\n",
        "tensor , tensor_reshape"
      ],
      "metadata": {
        "colab": {
          "base_uri": "https://localhost:8080/"
        },
        "id": "NbaSurwY6IQC",
        "outputId": "2c25b65b-656b-46bb-b6ba-c74a3725202a"
      },
      "execution_count": 64,
      "outputs": [
        {
          "output_type": "execute_result",
          "data": {
            "text/plain": [
              "(tensor([66,  2,  3,  4,  5,  6,  7,  8,  9]),\n",
              " tensor([[66,  2,  3],\n",
              "         [ 4,  5,  6],\n",
              "         [ 7,  8,  9]]))"
            ]
          },
          "metadata": {},
          "execution_count": 64
        }
      ]
    },
    {
      "cell_type": "code",
      "source": [
        "x=torch.arange(1,10)\n",
        "x ,x.shape"
      ],
      "metadata": {
        "colab": {
          "base_uri": "https://localhost:8080/"
        },
        "id": "6C5dVrka1DFV",
        "outputId": "7a381e37-4ea2-459b-b11f-546b7e579787"
      },
      "execution_count": 60,
      "outputs": [
        {
          "output_type": "execute_result",
          "data": {
            "text/plain": [
              "(tensor([1, 2, 3, 4, 5, 6, 7, 8, 9]), torch.Size([9]))"
            ]
          },
          "metadata": {},
          "execution_count": 60
        }
      ]
    },
    {
      "cell_type": "code",
      "source": [
        "z=x.view(3,3)\n",
        "z"
      ],
      "metadata": {
        "colab": {
          "base_uri": "https://localhost:8080/"
        },
        "id": "y0-xT3Ev1DC-",
        "outputId": "68481396-5b16-4f9c-d787-cf42deb8f1b7"
      },
      "execution_count": 62,
      "outputs": [
        {
          "output_type": "execute_result",
          "data": {
            "text/plain": [
              "tensor([[1, 2, 3],\n",
              "        [4, 5, 6],\n",
              "        [7, 8, 9]])"
            ]
          },
          "metadata": {},
          "execution_count": 62
        }
      ]
    },
    {
      "cell_type": "code",
      "source": [
        "x[0]=55\n",
        "x,z\n",
        "#reshape and view do the same"
      ],
      "metadata": {
        "colab": {
          "base_uri": "https://localhost:8080/"
        },
        "id": "EfaM4nPk1DAm",
        "outputId": "8ad30ad2-0754-4f19-8c7b-cfbe715d2fcc"
      },
      "execution_count": 66,
      "outputs": [
        {
          "output_type": "execute_result",
          "data": {
            "text/plain": [
              "(tensor([55,  2,  3,  4,  5,  6,  7,  8,  9]),\n",
              " tensor([[55,  2,  3],\n",
              "         [ 4,  5,  6],\n",
              "         [ 7,  8,  9]]))"
            ]
          },
          "metadata": {},
          "execution_count": 66
        }
      ]
    },
    {
      "cell_type": "markdown",
      "source": [
        "**contiguous memore** : \"each row follows the previous one directly in memory\"\n",
        "* view : contiguous it work fine but if not not work\n",
        "* reshape : if not contiguous it rearnge it and work fine.\n",
        "\n",
        "**then what make tensor not contiguous ??**"
      ],
      "metadata": {
        "id": "vqFzMTz7ELzl"
      }
    },
    {
      "cell_type": "code",
      "source": [
        "a = torch.tensor([1, 2, 3])\n",
        "b = torch.tensor([4, 5, 6])\n",
        "x = torch.stack((a, b))\n",
        "x,x.shape"
      ],
      "metadata": {
        "colab": {
          "base_uri": "https://localhost:8080/"
        },
        "id": "mMFAySxJ1C-N",
        "outputId": "d40a97ae-c1a2-499e-dabe-3cfdf2d7063a"
      },
      "execution_count": 96,
      "outputs": [
        {
          "output_type": "execute_result",
          "data": {
            "text/plain": [
              "(tensor([[1, 2, 3],\n",
              "         [4, 5, 6]]),\n",
              " torch.Size([2, 3]))"
            ]
          },
          "metadata": {},
          "execution_count": 96
        }
      ]
    },
    {
      "cell_type": "markdown",
      "source": [
        "the .stack() functions add two tensore together\n",
        "* but using dim attribute behave like: \"where the index of new diminshin will be\"\n",
        "\n",
        "  and this shape how the output will be"
      ],
      "metadata": {
        "id": "cglARpiSTyro"
      }
    },
    {
      "cell_type": "code",
      "source": [
        "x = torch.stack((a, b),dim=0)\n",
        "x,x.shape"
      ],
      "metadata": {
        "colab": {
          "base_uri": "https://localhost:8080/"
        },
        "id": "inOhQ-hp1C7q",
        "outputId": "4655fb80-208e-4908-b0fb-05d4f418f249"
      },
      "execution_count": 97,
      "outputs": [
        {
          "output_type": "execute_result",
          "data": {
            "text/plain": [
              "(tensor([[1, 2, 3],\n",
              "         [4, 5, 6]]),\n",
              " torch.Size([2, 3]))"
            ]
          },
          "metadata": {},
          "execution_count": 97
        }
      ]
    },
    {
      "cell_type": "code",
      "source": [
        "x = torch.stack((a, b),dim=1)\n",
        "x,x.shape"
      ],
      "metadata": {
        "colab": {
          "base_uri": "https://localhost:8080/"
        },
        "id": "eZkE_4h71C5J",
        "outputId": "fac770de-6bfd-4e7c-9e3b-a6f62560b624"
      },
      "execution_count": 98,
      "outputs": [
        {
          "output_type": "execute_result",
          "data": {
            "text/plain": [
              "(tensor([[1, 4],\n",
              "         [2, 5],\n",
              "         [3, 6]]),\n",
              " torch.Size([3, 2]))"
            ]
          },
          "metadata": {},
          "execution_count": 98
        }
      ]
    },
    {
      "cell_type": "markdown",
      "source": [
        "### try higher diminshions"
      ],
      "metadata": {
        "id": "nBluMjaZVqow"
      }
    },
    {
      "cell_type": "code",
      "source": [
        "a = torch.randn(2, 3)\n",
        "b = torch.randn(2, 3)\n",
        "d = torch.randn(2, 3)\n",
        "out = torch.stack((a, b, d), dim=0)\n",
        "print(out,out.shape)\n",
        "print(\"************************************************************************************************\")\n",
        "out = torch.stack((a, b, d), dim=1)\n",
        "print(out,out.shape)\n",
        "print(\"************************************************************************************************\")\n",
        "out = torch.stack((a, b, d), dim=2)\n",
        "print(out,out.shape)\n",
        "## the dim = 3 cuse error"
      ],
      "metadata": {
        "colab": {
          "base_uri": "https://localhost:8080/"
        },
        "id": "V_c2ktP91C24",
        "outputId": "9866abee-4faa-4f05-ca78-553459016e9a"
      },
      "execution_count": 109,
      "outputs": [
        {
          "output_type": "stream",
          "name": "stdout",
          "text": [
            "tensor([[[-0.7721,  0.0875,  1.4551],\n",
            "         [ 0.7687, -2.1235, -0.5734]],\n",
            "\n",
            "        [[ 0.1822,  1.0570, -0.9065],\n",
            "         [-0.7110, -0.1339,  0.0666]],\n",
            "\n",
            "        [[-0.9552,  0.4038,  0.1224],\n",
            "         [-0.0674,  0.8338,  0.2746]]]) torch.Size([3, 2, 3])\n",
            "************************************************************************************************\n",
            "tensor([[[-0.7721,  0.0875,  1.4551],\n",
            "         [ 0.1822,  1.0570, -0.9065],\n",
            "         [-0.9552,  0.4038,  0.1224]],\n",
            "\n",
            "        [[ 0.7687, -2.1235, -0.5734],\n",
            "         [-0.7110, -0.1339,  0.0666],\n",
            "         [-0.0674,  0.8338,  0.2746]]]) torch.Size([2, 3, 3])\n",
            "************************************************************************************************\n",
            "tensor([[[-0.7721,  0.1822, -0.9552],\n",
            "         [ 0.0875,  1.0570,  0.4038],\n",
            "         [ 1.4551, -0.9065,  0.1224]],\n",
            "\n",
            "        [[ 0.7687, -0.7110, -0.0674],\n",
            "         [-2.1235, -0.1339,  0.8338],\n",
            "         [-0.5734,  0.0666,  0.2746]]]) torch.Size([2, 3, 3])\n"
          ]
        }
      ]
    },
    {
      "cell_type": "code",
      "source": [],
      "metadata": {
        "id": "Afad0RE2Fb5z"
      },
      "execution_count": 80,
      "outputs": []
    }
  ]
}