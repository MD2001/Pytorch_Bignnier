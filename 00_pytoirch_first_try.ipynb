{
  "nbformat": 4,
  "nbformat_minor": 0,
  "metadata": {
    "colab": {
      "provenance": [],
      "gpuType": "T4",
      "authorship_tag": "ABX9TyMyxUY6zLhGN6J5LmUVV1y5",
      "include_colab_link": true
    },
    "kernelspec": {
      "name": "python3",
      "display_name": "Python 3"
    },
    "language_info": {
      "name": "python"
    },
    "accelerator": "GPU"
  },
  "cells": [
    {
      "cell_type": "markdown",
      "metadata": {
        "id": "view-in-github",
        "colab_type": "text"
      },
      "source": [
        "<a href=\"https://colab.research.google.com/github/MD2001/Pytorch_Bignnier/blob/main/00_pytoirch_first_try.ipynb\" target=\"_parent\"><img src=\"https://colab.research.google.com/assets/colab-badge.svg\" alt=\"Open In Colab\"/></a>"
      ]
    },
    {
      "cell_type": "markdown",
      "source": [
        "## Title: 00. PyTorch Fundamentals\n",
        "Resource notebook: https://www.learnpytorch.io/00_pytorch_fundamentals/\n",
        "\n",
        "Discussion forum: https://github.com/mrdbourke/pytorch-deep-learning/discussions"
      ],
      "metadata": {
        "id": "0e83aUeWF9Dz"
      }
    },
    {
      "cell_type": "code",
      "execution_count": 3,
      "metadata": {
        "colab": {
          "base_uri": "https://localhost:8080/"
        },
        "id": "22YQ1fs4Fq0N",
        "outputId": "4ba9dbb7-3142-4371-fb60-2fdfee382d7f"
      },
      "outputs": [
        {
          "output_type": "stream",
          "name": "stdout",
          "text": [
            "2.8.0+cu126\n"
          ]
        }
      ],
      "source": [
        "import torch\n",
        "import pandas as pd\n",
        "import numpy as np\n",
        "import matplotlib.pyplot as plt\n",
        "print(torch.__version__)"
      ]
    },
    {
      "cell_type": "markdown",
      "source": [
        "## introduction\n",
        "### tensors"
      ],
      "metadata": {
        "id": "UOicOkERGZy4"
      }
    },
    {
      "cell_type": "code",
      "source": [
        "#scaler\n",
        "scaler=torch.tensor(7)\n",
        "scaler"
      ],
      "metadata": {
        "colab": {
          "base_uri": "https://localhost:8080/"
        },
        "id": "VciDj-PUHFQS",
        "outputId": "48c3d1fe-60c1-42f1-ad25-47bdae505580"
      },
      "execution_count": 4,
      "outputs": [
        {
          "output_type": "execute_result",
          "data": {
            "text/plain": [
              "tensor(7)"
            ]
          },
          "metadata": {},
          "execution_count": 4
        }
      ]
    },
    {
      "cell_type": "code",
      "source": [
        "scaler.shape"
      ],
      "metadata": {
        "colab": {
          "base_uri": "https://localhost:8080/"
        },
        "id": "SPUx3EwaOfaC",
        "outputId": "6f7cc183-6af2-4bdd-dccd-7cee052349de"
      },
      "execution_count": 5,
      "outputs": [
        {
          "output_type": "execute_result",
          "data": {
            "text/plain": [
              "torch.Size([])"
            ]
          },
          "metadata": {},
          "execution_count": 5
        }
      ]
    },
    {
      "cell_type": "code",
      "source": [
        "scaler.ndim"
      ],
      "metadata": {
        "colab": {
          "base_uri": "https://localhost:8080/"
        },
        "id": "JifVtElKOiOx",
        "outputId": "9ff94ed4-374e-4329-c6c0-bb4a6b8424fb"
      },
      "execution_count": 6,
      "outputs": [
        {
          "output_type": "execute_result",
          "data": {
            "text/plain": [
              "0"
            ]
          },
          "metadata": {},
          "execution_count": 6
        }
      ]
    },
    {
      "cell_type": "code",
      "source": [
        "#Vector\n",
        "Vector=torch.tensor([7,7])\n",
        "Vector"
      ],
      "metadata": {
        "colab": {
          "base_uri": "https://localhost:8080/"
        },
        "id": "7CIzc3JHOrOZ",
        "outputId": "6f5b2313-081e-4fb8-fc11-9be4da80a5f7"
      },
      "execution_count": 7,
      "outputs": [
        {
          "output_type": "execute_result",
          "data": {
            "text/plain": [
              "tensor([7, 7])"
            ]
          },
          "metadata": {},
          "execution_count": 7
        }
      ]
    },
    {
      "cell_type": "code",
      "source": [
        "Vector.shape"
      ],
      "metadata": {
        "colab": {
          "base_uri": "https://localhost:8080/"
        },
        "id": "AE1nhNg0OukR",
        "outputId": "54f4ea6e-a4f0-4541-c11c-e77fbce121f4"
      },
      "execution_count": 8,
      "outputs": [
        {
          "output_type": "execute_result",
          "data": {
            "text/plain": [
              "torch.Size([2])"
            ]
          },
          "metadata": {},
          "execution_count": 8
        }
      ]
    },
    {
      "cell_type": "code",
      "source": [
        "Vector.ndim"
      ],
      "metadata": {
        "colab": {
          "base_uri": "https://localhost:8080/"
        },
        "id": "ELIcgDtMO-7a",
        "outputId": "0d72210b-2476-4935-eb0c-e707eb0f3c6e"
      },
      "execution_count": 9,
      "outputs": [
        {
          "output_type": "execute_result",
          "data": {
            "text/plain": [
              "1"
            ]
          },
          "metadata": {},
          "execution_count": 9
        }
      ]
    },
    {
      "cell_type": "code",
      "source": [
        "#MATRIX\n",
        "MATRIX =torch.tensor([[1,3],[2,4]])\n",
        "MATRIX"
      ],
      "metadata": {
        "colab": {
          "base_uri": "https://localhost:8080/"
        },
        "id": "lnKrOHGJPD-i",
        "outputId": "2b236178-0bba-4956-f5e8-cd369ed21741"
      },
      "execution_count": 10,
      "outputs": [
        {
          "output_type": "execute_result",
          "data": {
            "text/plain": [
              "tensor([[1, 3],\n",
              "        [2, 4]])"
            ]
          },
          "metadata": {},
          "execution_count": 10
        }
      ]
    },
    {
      "cell_type": "code",
      "source": [
        "MATRIX.shape"
      ],
      "metadata": {
        "colab": {
          "base_uri": "https://localhost:8080/"
        },
        "id": "BAAQ128APSFa",
        "outputId": "fd6616dd-ef0a-4e1c-dd49-921920fbed43"
      },
      "execution_count": 11,
      "outputs": [
        {
          "output_type": "execute_result",
          "data": {
            "text/plain": [
              "torch.Size([2, 2])"
            ]
          },
          "metadata": {},
          "execution_count": 11
        }
      ]
    },
    {
      "cell_type": "code",
      "source": [
        "MATRIX.ndim"
      ],
      "metadata": {
        "colab": {
          "base_uri": "https://localhost:8080/"
        },
        "id": "2tq80fJhPXXS",
        "outputId": "cb7802ef-edb4-4692-8278-7ea734a05b61"
      },
      "execution_count": 12,
      "outputs": [
        {
          "output_type": "execute_result",
          "data": {
            "text/plain": [
              "2"
            ]
          },
          "metadata": {},
          "execution_count": 12
        }
      ]
    },
    {
      "cell_type": "code",
      "source": [
        "MATRIX[0]"
      ],
      "metadata": {
        "colab": {
          "base_uri": "https://localhost:8080/"
        },
        "id": "Re0pS3G1PgLy",
        "outputId": "1938f270-4d9b-4186-95be-f2f1c2e2392e"
      },
      "execution_count": 13,
      "outputs": [
        {
          "output_type": "execute_result",
          "data": {
            "text/plain": [
              "tensor([1, 3])"
            ]
          },
          "metadata": {},
          "execution_count": 13
        }
      ]
    },
    {
      "cell_type": "code",
      "source": [
        "MATRIX[1]"
      ],
      "metadata": {
        "colab": {
          "base_uri": "https://localhost:8080/"
        },
        "id": "IiOfer8RQOfK",
        "outputId": "c39d7ed6-cc34-464d-c129-b4e765a55348"
      },
      "execution_count": 14,
      "outputs": [
        {
          "output_type": "execute_result",
          "data": {
            "text/plain": [
              "tensor([2, 4])"
            ]
          },
          "metadata": {},
          "execution_count": 14
        }
      ]
    },
    {
      "cell_type": "code",
      "source": [
        "#Tensors\n",
        "TENSOR = torch.tensor([[[1,2,3,4],[5,6,7,8],[9,10,11,12]]])\n",
        "TENSOR"
      ],
      "metadata": {
        "colab": {
          "base_uri": "https://localhost:8080/"
        },
        "id": "n25J-YdcQSCK",
        "outputId": "c358e934-786c-4d50-e43e-aef866c34976"
      },
      "execution_count": 15,
      "outputs": [
        {
          "output_type": "execute_result",
          "data": {
            "text/plain": [
              "tensor([[[ 1,  2,  3,  4],\n",
              "         [ 5,  6,  7,  8],\n",
              "         [ 9, 10, 11, 12]]])"
            ]
          },
          "metadata": {},
          "execution_count": 15
        }
      ]
    },
    {
      "cell_type": "code",
      "source": [
        "TENSOR.shape"
      ],
      "metadata": {
        "colab": {
          "base_uri": "https://localhost:8080/"
        },
        "id": "tkVcZiJnQXxi",
        "outputId": "9ba37c94-66c4-456f-a279-f35c12c96e1e"
      },
      "execution_count": 16,
      "outputs": [
        {
          "output_type": "execute_result",
          "data": {
            "text/plain": [
              "torch.Size([1, 3, 4])"
            ]
          },
          "metadata": {},
          "execution_count": 16
        }
      ]
    },
    {
      "cell_type": "code",
      "source": [
        "TENSOR.ndim"
      ],
      "metadata": {
        "colab": {
          "base_uri": "https://localhost:8080/"
        },
        "id": "SHmVrFvLQxvi",
        "outputId": "0c6e22fb-5fc2-4d08-fc7d-31c4a3b1edd4"
      },
      "execution_count": 17,
      "outputs": [
        {
          "output_type": "execute_result",
          "data": {
            "text/plain": [
              "3"
            ]
          },
          "metadata": {},
          "execution_count": 17
        }
      ]
    },
    {
      "cell_type": "code",
      "source": [
        "TENSOR[0]"
      ],
      "metadata": {
        "colab": {
          "base_uri": "https://localhost:8080/"
        },
        "id": "AEwxzbAiQ4vq",
        "outputId": "99ccc7be-1509-419d-d025-51d987c3c817"
      },
      "execution_count": 18,
      "outputs": [
        {
          "output_type": "execute_result",
          "data": {
            "text/plain": [
              "tensor([[ 1,  2,  3,  4],\n",
              "        [ 5,  6,  7,  8],\n",
              "        [ 9, 10, 11, 12]])"
            ]
          },
          "metadata": {},
          "execution_count": 18
        }
      ]
    },
    {
      "cell_type": "code",
      "source": [
        "Tesnor2=torch.tensor([[[1,2],[3,4],[5,6]],[[7,8],[9,10],[11,12]]])\n",
        "Tesnor2"
      ],
      "metadata": {
        "colab": {
          "base_uri": "https://localhost:8080/"
        },
        "id": "ez_LtaTjQ6ka",
        "outputId": "cea70972-d389-4239-d4e7-b8d3f6ad1495"
      },
      "execution_count": 19,
      "outputs": [
        {
          "output_type": "execute_result",
          "data": {
            "text/plain": [
              "tensor([[[ 1,  2],\n",
              "         [ 3,  4],\n",
              "         [ 5,  6]],\n",
              "\n",
              "        [[ 7,  8],\n",
              "         [ 9, 10],\n",
              "         [11, 12]]])"
            ]
          },
          "metadata": {},
          "execution_count": 19
        }
      ]
    },
    {
      "cell_type": "code",
      "source": [
        "Tesnor2.ndim"
      ],
      "metadata": {
        "colab": {
          "base_uri": "https://localhost:8080/"
        },
        "id": "MxFQTjiaQ-ka",
        "outputId": "5b8c4676-3ebf-4167-8290-83808b0d7751"
      },
      "execution_count": 20,
      "outputs": [
        {
          "output_type": "execute_result",
          "data": {
            "text/plain": [
              "3"
            ]
          },
          "metadata": {},
          "execution_count": 20
        }
      ]
    },
    {
      "cell_type": "code",
      "source": [
        "Tesnor2.shape"
      ],
      "metadata": {
        "colab": {
          "base_uri": "https://localhost:8080/"
        },
        "id": "eGnClSgVWSzW",
        "outputId": "14ce21ff-414a-40aa-efa2-675654bded51"
      },
      "execution_count": 21,
      "outputs": [
        {
          "output_type": "execute_result",
          "data": {
            "text/plain": [
              "torch.Size([2, 3, 2])"
            ]
          },
          "metadata": {},
          "execution_count": 21
        }
      ]
    },
    {
      "cell_type": "markdown",
      "source": [
        "## Random tensors\n",
        "### Why random tensors?\n",
        "### Random tensors are important because the way many neural networks learn is that they start with tensors full of random numbers and then\n",
        "### Torch random tensors-https://docs.pytorch.org/docs/stable/generated/torch.rand.html"
      ],
      "metadata": {
        "id": "pUsMxHP5WYAz"
      }
    },
    {
      "cell_type": "code",
      "source": [
        "tensore_rand=torch.rand(3,4)\n",
        "tensore_rand"
      ],
      "metadata": {
        "colab": {
          "base_uri": "https://localhost:8080/"
        },
        "id": "EDTkZ56yxqa6",
        "outputId": "9f8c1e11-3efc-4936-da9c-a6eaa8ced599"
      },
      "execution_count": 22,
      "outputs": [
        {
          "output_type": "execute_result",
          "data": {
            "text/plain": [
              "tensor([[0.0115, 0.1458, 0.9407, 0.6447],\n",
              "        [0.7050, 0.7829, 0.0122, 0.4209],\n",
              "        [0.0439, 0.0042, 0.6193, 0.8707]])"
            ]
          },
          "metadata": {},
          "execution_count": 22
        }
      ]
    },
    {
      "cell_type": "code",
      "source": [
        "tensore_rand2=torch.rand(size=(3,224,224))\n",
        "tensore_rand2"
      ],
      "metadata": {
        "colab": {
          "base_uri": "https://localhost:8080/"
        },
        "id": "PiMJWhaHxx27",
        "outputId": "607d72e6-f8cc-4d23-eee1-bff0833ae91a"
      },
      "execution_count": 23,
      "outputs": [
        {
          "output_type": "execute_result",
          "data": {
            "text/plain": [
              "tensor([[[9.0127e-03, 4.6912e-02, 6.7591e-01,  ..., 1.4989e-01,\n",
              "          1.4851e-01, 6.5810e-01],\n",
              "         [3.3050e-01, 2.4828e-01, 6.3569e-01,  ..., 1.6010e-01,\n",
              "          5.0105e-01, 1.5899e-02],\n",
              "         [1.6753e-01, 1.5654e-01, 3.1923e-01,  ..., 2.6369e-01,\n",
              "          4.6691e-01, 3.9161e-02],\n",
              "         ...,\n",
              "         [8.4726e-01, 7.9292e-01, 8.3101e-01,  ..., 1.6136e-01,\n",
              "          2.3324e-01, 4.7410e-01],\n",
              "         [8.3770e-02, 9.5213e-01, 4.9229e-01,  ..., 8.9702e-02,\n",
              "          4.1616e-01, 9.5996e-01],\n",
              "         [4.8863e-01, 7.4798e-01, 9.5838e-01,  ..., 8.9036e-01,\n",
              "          2.7049e-01, 9.6068e-01]],\n",
              "\n",
              "        [[1.9921e-01, 9.7602e-01, 9.1667e-01,  ..., 4.4841e-01,\n",
              "          5.8582e-01, 2.8442e-01],\n",
              "         [4.7001e-01, 9.0934e-02, 3.7043e-01,  ..., 4.8218e-01,\n",
              "          8.5646e-01, 9.2041e-01],\n",
              "         [7.9901e-01, 9.6905e-02, 4.6343e-01,  ..., 8.8784e-01,\n",
              "          1.5399e-01, 1.0514e-01],\n",
              "         ...,\n",
              "         [6.3521e-01, 2.8354e-01, 4.2030e-01,  ..., 5.7530e-04,\n",
              "          2.7074e-01, 6.1365e-01],\n",
              "         [2.6864e-01, 2.6526e-01, 3.2583e-01,  ..., 5.8602e-01,\n",
              "          9.4434e-01, 7.9331e-03],\n",
              "         [6.7127e-01, 9.5488e-01, 2.4867e-01,  ..., 4.1647e-01,\n",
              "          5.1927e-01, 8.8550e-01]],\n",
              "\n",
              "        [[5.4063e-01, 6.1621e-01, 6.6798e-01,  ..., 2.7905e-01,\n",
              "          1.7156e-01, 3.6219e-01],\n",
              "         [4.9411e-01, 7.3701e-04, 1.8521e-01,  ..., 1.0547e-01,\n",
              "          1.2449e-02, 3.6487e-02],\n",
              "         [6.2333e-01, 5.8813e-02, 4.4015e-01,  ..., 4.7181e-01,\n",
              "          4.1900e-01, 4.1507e-01],\n",
              "         ...,\n",
              "         [8.8164e-01, 6.4534e-01, 7.3408e-01,  ..., 5.6630e-01,\n",
              "          7.6680e-01, 6.9715e-01],\n",
              "         [5.5410e-01, 3.8467e-01, 2.7999e-01,  ..., 5.8573e-01,\n",
              "          3.3373e-01, 9.3828e-01],\n",
              "         [2.2777e-01, 6.5369e-01, 2.6207e-01,  ..., 9.2305e-01,\n",
              "          5.9876e-01, 7.7627e-01]]])"
            ]
          },
          "metadata": {},
          "execution_count": 23
        }
      ]
    },
    {
      "cell_type": "code",
      "source": [
        "tensore_rand2.ndim , tensore_rand2.shape"
      ],
      "metadata": {
        "colab": {
          "base_uri": "https://localhost:8080/"
        },
        "id": "TNbJhmLByJOD",
        "outputId": "22ce7dc9-8c5a-4a68-906b-b2c0c81e0c0d"
      },
      "execution_count": 24,
      "outputs": [
        {
          "output_type": "execute_result",
          "data": {
            "text/plain": [
              "(3, torch.Size([3, 224, 224]))"
            ]
          },
          "metadata": {},
          "execution_count": 24
        }
      ]
    },
    {
      "cell_type": "markdown",
      "source": [
        "## zeros or ones arrays useed often to mask biger arrays"
      ],
      "metadata": {
        "id": "x5Ssi8J1z9R8"
      }
    },
    {
      "cell_type": "code",
      "source": [
        "zeros=torch.zeros(size=(3,4))\n",
        "zeros"
      ],
      "metadata": {
        "colab": {
          "base_uri": "https://localhost:8080/"
        },
        "id": "iGAD4OdrycC8",
        "outputId": "e0dcca93-8e04-46f5-961a-1c8d21526e0a"
      },
      "execution_count": 25,
      "outputs": [
        {
          "output_type": "execute_result",
          "data": {
            "text/plain": [
              "tensor([[0., 0., 0., 0.],\n",
              "        [0., 0., 0., 0.],\n",
              "        [0., 0., 0., 0.]])"
            ]
          },
          "metadata": {},
          "execution_count": 25
        }
      ]
    },
    {
      "cell_type": "code",
      "source": [
        "ones=torch.ones(size=(3,4))\n",
        "ones"
      ],
      "metadata": {
        "colab": {
          "base_uri": "https://localhost:8080/"
        },
        "id": "Wss6DNfnzxUL",
        "outputId": "3d9de85a-f2d2-4977-9417-bad4b4a37cc9"
      },
      "execution_count": 26,
      "outputs": [
        {
          "output_type": "execute_result",
          "data": {
            "text/plain": [
              "tensor([[1., 1., 1., 1.],\n",
              "        [1., 1., 1., 1.],\n",
              "        [1., 1., 1., 1.]])"
            ]
          },
          "metadata": {},
          "execution_count": 26
        }
      ]
    },
    {
      "cell_type": "code",
      "source": [
        "aranges=torch.arange(1,11,1)\n",
        "aranges"
      ],
      "metadata": {
        "colab": {
          "base_uri": "https://localhost:8080/"
        },
        "id": "qXAetFmyz4tq",
        "outputId": "d8f2505d-a94c-4c90-beb8-3635befd6ef9"
      },
      "execution_count": 27,
      "outputs": [
        {
          "output_type": "execute_result",
          "data": {
            "text/plain": [
              "tensor([ 1,  2,  3,  4,  5,  6,  7,  8,  9, 10])"
            ]
          },
          "metadata": {},
          "execution_count": 27
        }
      ]
    },
    {
      "cell_type": "code",
      "source": [
        "zeros_like=torch.zeros_like(input=aranges)\n",
        "zeros_like"
      ],
      "metadata": {
        "colab": {
          "base_uri": "https://localhost:8080/"
        },
        "id": "1UsF3L0a0ruN",
        "outputId": "792d0699-e4ad-4025-8b47-5b4039e2606e"
      },
      "execution_count": 28,
      "outputs": [
        {
          "output_type": "execute_result",
          "data": {
            "text/plain": [
              "tensor([0, 0, 0, 0, 0, 0, 0, 0, 0, 0])"
            ]
          },
          "metadata": {},
          "execution_count": 28
        }
      ]
    },
    {
      "cell_type": "markdown",
      "source": [
        "### Tensor datatypes\n",
        "**Note:** Tensor datatypes is one of the 3 big errors you'll run into with PyTorch\n",
        "& deep learning:\n",
        "1. Tensors not right datatype\n",
        "2. Tensors not right shape\n",
        "3. Tensors not on the right device"
      ],
      "metadata": {
        "id": "Lcoo9keUO6iO"
      }
    },
    {
      "cell_type": "code",
      "source": [
        "float_32_tensor=torch.tensor([3.0,6.0,9.0],\n",
        "                             dtype=None,\n",
        "                             device=None,\n",
        "                             requires_grad=False)\n",
        "float_32_tensor"
      ],
      "metadata": {
        "id": "1eShMBWC10O9",
        "colab": {
          "base_uri": "https://localhost:8080/"
        },
        "outputId": "b94d38d4-4964-4a88-de26-ac77f5f1e1a4"
      },
      "execution_count": 29,
      "outputs": [
        {
          "output_type": "execute_result",
          "data": {
            "text/plain": [
              "tensor([3., 6., 9.])"
            ]
          },
          "metadata": {},
          "execution_count": 29
        }
      ]
    },
    {
      "cell_type": "code",
      "source": [
        "float_16_tensor=float_32_tensor.type(torch.float16)\n",
        "float_16_tensor"
      ],
      "metadata": {
        "colab": {
          "base_uri": "https://localhost:8080/"
        },
        "id": "N5h3XyGpPT70",
        "outputId": "28e061e7-1a86-4c22-b3c4-0a5c227f0a15"
      },
      "execution_count": 30,
      "outputs": [
        {
          "output_type": "execute_result",
          "data": {
            "text/plain": [
              "tensor([3., 6., 9.], dtype=torch.float16)"
            ]
          },
          "metadata": {},
          "execution_count": 30
        }
      ]
    },
    {
      "cell_type": "code",
      "source": [
        "float_16_tensor*float_32_tensor ## why this work?"
      ],
      "metadata": {
        "colab": {
          "base_uri": "https://localhost:8080/"
        },
        "id": "P8mXggQCQRoF",
        "outputId": "7ec1b576-d301-47de-a529-12f58ed9783b"
      },
      "execution_count": 31,
      "outputs": [
        {
          "output_type": "execute_result",
          "data": {
            "text/plain": [
              "tensor([ 9., 36., 81.])"
            ]
          },
          "metadata": {},
          "execution_count": 31
        }
      ]
    },
    {
      "cell_type": "code",
      "source": [
        "int_32_tensor=torch.tensor([1,2,3],dtype=torch.int32)\n",
        "int_32_tensor"
      ],
      "metadata": {
        "id": "HxkmWW3sQoAs",
        "colab": {
          "base_uri": "https://localhost:8080/"
        },
        "outputId": "c04fda49-8ff0-44de-c9fa-e54b0c5cfd35"
      },
      "execution_count": 32,
      "outputs": [
        {
          "output_type": "execute_result",
          "data": {
            "text/plain": [
              "tensor([1, 2, 3], dtype=torch.int32)"
            ]
          },
          "metadata": {},
          "execution_count": 32
        }
      ]
    },
    {
      "cell_type": "code",
      "source": [
        "float_16_tensor*int_32_tensor"
      ],
      "metadata": {
        "colab": {
          "base_uri": "https://localhost:8080/"
        },
        "id": "H3gvKmr8E5wk",
        "outputId": "90b6ec90-1945-4822-8537-4ef64c791c12"
      },
      "execution_count": 33,
      "outputs": [
        {
          "output_type": "execute_result",
          "data": {
            "text/plain": [
              "tensor([ 3., 12., 27.], dtype=torch.float16)"
            ]
          },
          "metadata": {},
          "execution_count": 33
        }
      ]
    },
    {
      "cell_type": "code",
      "source": [
        "some_tensor=torch.rand(3,4)\n",
        "some_tensor"
      ],
      "metadata": {
        "colab": {
          "base_uri": "https://localhost:8080/"
        },
        "id": "LSvXYJCyE_sz",
        "outputId": "fead0bb5-0cda-48ed-97fc-f03e488a761a"
      },
      "execution_count": 34,
      "outputs": [
        {
          "output_type": "execute_result",
          "data": {
            "text/plain": [
              "tensor([[0.4812, 0.7332, 0.2066, 0.3211],\n",
              "        [0.0142, 0.4409, 0.6979, 0.4678],\n",
              "        [0.6839, 0.2751, 0.2230, 0.6850]])"
            ]
          },
          "metadata": {},
          "execution_count": 34
        }
      ]
    },
    {
      "cell_type": "code",
      "source": [
        "print(some_tensor)\n",
        "print(f\"this is the dtype of tensor: {some_tensor.dtype}\")\n",
        "print(f\"this is the shape of tenosr: {some_tensor.shape}\")\n",
        "print(f\"this is the device of tensor: {some_tensor.device}\")"
      ],
      "metadata": {
        "colab": {
          "base_uri": "https://localhost:8080/"
        },
        "id": "MGbE5HtYGrLU",
        "outputId": "2fd0a857-91c3-40aa-cbbd-75f8d0d0d491"
      },
      "execution_count": 35,
      "outputs": [
        {
          "output_type": "stream",
          "name": "stdout",
          "text": [
            "tensor([[0.4812, 0.7332, 0.2066, 0.3211],\n",
            "        [0.0142, 0.4409, 0.6979, 0.4678],\n",
            "        [0.6839, 0.2751, 0.2230, 0.6850]])\n",
            "this is the dtype of tensor: torch.float32\n",
            "this is the shape of tenosr: torch.Size([3, 4])\n",
            "this is the device of tensor: cpu\n"
          ]
        }
      ]
    },
    {
      "cell_type": "markdown",
      "source": [
        "##math in tensors"
      ],
      "metadata": {
        "id": "Kobaa0ShG-7F"
      }
    },
    {
      "cell_type": "code",
      "source": [
        "tensor=torch.tensor([1,2,3])\n",
        "tensor"
      ],
      "metadata": {
        "colab": {
          "base_uri": "https://localhost:8080/"
        },
        "id": "GhaZVXKjJfts",
        "outputId": "cad35e37-8f16-4473-e4cf-da9be2be31bd"
      },
      "execution_count": 36,
      "outputs": [
        {
          "output_type": "execute_result",
          "data": {
            "text/plain": [
              "tensor([1, 2, 3])"
            ]
          },
          "metadata": {},
          "execution_count": 36
        }
      ]
    },
    {
      "cell_type": "code",
      "source": [
        "tensor+10"
      ],
      "metadata": {
        "colab": {
          "base_uri": "https://localhost:8080/"
        },
        "id": "87nx9CHjJlcM",
        "outputId": "57e9d568-232d-442c-dea0-c8f86aa5f041"
      },
      "execution_count": 37,
      "outputs": [
        {
          "output_type": "execute_result",
          "data": {
            "text/plain": [
              "tensor([11, 12, 13])"
            ]
          },
          "metadata": {},
          "execution_count": 37
        }
      ]
    },
    {
      "cell_type": "code",
      "source": [
        "tensor*10"
      ],
      "metadata": {
        "colab": {
          "base_uri": "https://localhost:8080/"
        },
        "id": "X7Brkwm8JoWH",
        "outputId": "abfbc4ab-28ee-4df2-b101-d88b514aaeea"
      },
      "execution_count": 38,
      "outputs": [
        {
          "output_type": "execute_result",
          "data": {
            "text/plain": [
              "tensor([10, 20, 30])"
            ]
          },
          "metadata": {},
          "execution_count": 38
        }
      ]
    },
    {
      "cell_type": "code",
      "source": [
        "tensor-10"
      ],
      "metadata": {
        "colab": {
          "base_uri": "https://localhost:8080/"
        },
        "id": "ap5cvfK-JoTy",
        "outputId": "be9c557c-068c-442a-ed92-cd36082d8e41"
      },
      "execution_count": 39,
      "outputs": [
        {
          "output_type": "execute_result",
          "data": {
            "text/plain": [
              "tensor([-9, -8, -7])"
            ]
          },
          "metadata": {},
          "execution_count": 39
        }
      ]
    },
    {
      "cell_type": "code",
      "source": [
        "torch.add(tensor,10)"
      ],
      "metadata": {
        "colab": {
          "base_uri": "https://localhost:8080/"
        },
        "id": "Zr7U6KnpJoRe",
        "outputId": "5daf27f2-2c70-485c-87cc-465b3915d3db"
      },
      "execution_count": 40,
      "outputs": [
        {
          "output_type": "execute_result",
          "data": {
            "text/plain": [
              "tensor([11, 12, 13])"
            ]
          },
          "metadata": {},
          "execution_count": 40
        }
      ]
    },
    {
      "cell_type": "markdown",
      "source": [
        "Matrix multiplication\n",
        "Two main ways of performing multiplication in neural networks and deep learning:\n",
        "1. Element-wise multiplication\n",
        "2. Matrix mutliplication (dot product)\n",
        "More information on multiplying matrices -  https://www.mathsisfun.com/algebra/matrix-multiplying.html\n"
      ],
      "metadata": {
        "id": "0f8EgpQxLI0t"
      }
    },
    {
      "cell_type": "code",
      "source": [
        "%%time\n",
        "torch.matmul(tensor,tensor)\n",
        "## since the total time is 10 time or more less than for loop this method is too better"
      ],
      "metadata": {
        "colab": {
          "base_uri": "https://localhost:8080/"
        },
        "id": "AThTEaGnJoPS",
        "outputId": "4f784953-692f-496e-d4d5-eb5d30b2d7d4"
      },
      "execution_count": 41,
      "outputs": [
        {
          "output_type": "stream",
          "name": "stdout",
          "text": [
            "CPU times: user 1.27 ms, sys: 39 µs, total: 1.31 ms\n",
            "Wall time: 14 ms\n"
          ]
        },
        {
          "output_type": "execute_result",
          "data": {
            "text/plain": [
              "tensor(14)"
            ]
          },
          "metadata": {},
          "execution_count": 41
        }
      ]
    },
    {
      "cell_type": "code",
      "source": [
        "%%time\n",
        "value = 0\n",
        "for i in range(len(tensor)):\n",
        "  value += tensor[i] * tensor[i]\n",
        "print(value)"
      ],
      "metadata": {
        "colab": {
          "base_uri": "https://localhost:8080/"
        },
        "id": "4_CLfEtKJoNE",
        "outputId": "9a4862de-fc39-44d2-9800-f44829e31d99"
      },
      "execution_count": 42,
      "outputs": [
        {
          "output_type": "stream",
          "name": "stdout",
          "text": [
            "tensor(14)\n",
            "CPU times: user 1.31 ms, sys: 0 ns, total: 1.31 ms\n",
            "Wall time: 1.75 ms\n"
          ]
        }
      ]
    },
    {
      "cell_type": "markdown",
      "source": [
        "* short cut for torch.matmul is @\n",
        "1. the first rule in matrxt multiblication is the inner dimintion should be equla\n",
        "- for example:\n",
        "* '(3,2)'@'(3,2)' not work\n",
        "* '(3,2)'@'(2,3)' will work\n",
        "* '(2,3)'@'(3,2)' will work\n",
        "2. the resultin is the outer dimintion"
      ],
      "metadata": {
        "id": "z56ejk-LV4Xp"
      }
    },
    {
      "cell_type": "code",
      "source": [
        "(torch.rand(3,2) @ torch.rand(2,3) ).shape"
      ],
      "metadata": {
        "colab": {
          "base_uri": "https://localhost:8080/"
        },
        "id": "NEnANCqmJoKp",
        "outputId": "30668dab-503a-4909-b65b-6474bcdcb6ea"
      },
      "execution_count": 43,
      "outputs": [
        {
          "output_type": "execute_result",
          "data": {
            "text/plain": [
              "torch.Size([3, 3])"
            ]
          },
          "metadata": {},
          "execution_count": 43
        }
      ]
    },
    {
      "cell_type": "markdown",
      "source": [
        "#the transpose is importatint how to use it"
      ],
      "metadata": {
        "id": "TJHRb0tkJoIF"
      }
    },
    {
      "cell_type": "code",
      "source": [
        "tensor=torch.rand(3,2)\n",
        "tensor"
      ],
      "metadata": {
        "colab": {
          "base_uri": "https://localhost:8080/"
        },
        "id": "B_RjhCGJbZIw",
        "outputId": "a7e15229-3654-45d1-a1fa-2ef3fc5a2b8e"
      },
      "execution_count": 44,
      "outputs": [
        {
          "output_type": "execute_result",
          "data": {
            "text/plain": [
              "tensor([[0.0997, 0.4081],\n",
              "        [0.1328, 0.1536],\n",
              "        [0.7177, 0.1222]])"
            ]
          },
          "metadata": {},
          "execution_count": 44
        }
      ]
    },
    {
      "cell_type": "code",
      "source": [
        "tensor @ tensor.T"
      ],
      "metadata": {
        "colab": {
          "base_uri": "https://localhost:8080/"
        },
        "id": "sSuSBiEdbgZw",
        "outputId": "4ba5b3a9-3d12-4e1a-a7c4-06da045ebcc5"
      },
      "execution_count": 45,
      "outputs": [
        {
          "output_type": "execute_result",
          "data": {
            "text/plain": [
              "tensor([[0.1765, 0.0759, 0.1215],\n",
              "        [0.0759, 0.0412, 0.1141],\n",
              "        [0.1215, 0.1141, 0.5301]])"
            ]
          },
          "metadata": {},
          "execution_count": 45
        }
      ]
    },
    {
      "cell_type": "code",
      "source": [
        "x=torch.arange(0,100,10)\n",
        "x"
      ],
      "metadata": {
        "id": "wbO8FvOPbkEA",
        "colab": {
          "base_uri": "https://localhost:8080/"
        },
        "outputId": "58d1d7e0-83dc-430d-eb0e-3f94b1399093"
      },
      "execution_count": 46,
      "outputs": [
        {
          "output_type": "execute_result",
          "data": {
            "text/plain": [
              "tensor([ 0, 10, 20, 30, 40, 50, 60, 70, 80, 90])"
            ]
          },
          "metadata": {},
          "execution_count": 46
        }
      ]
    },
    {
      "cell_type": "code",
      "source": [
        "torch.max(x),x.max()"
      ],
      "metadata": {
        "colab": {
          "base_uri": "https://localhost:8080/"
        },
        "id": "oYcowH7iEpMQ",
        "outputId": "ef3185ca-b830-4390-f7ad-98ab4386c781"
      },
      "execution_count": 47,
      "outputs": [
        {
          "output_type": "execute_result",
          "data": {
            "text/plain": [
              "(tensor(90), tensor(90))"
            ]
          },
          "metadata": {},
          "execution_count": 47
        }
      ]
    },
    {
      "cell_type": "code",
      "source": [
        "torch.min(x),x.min()"
      ],
      "metadata": {
        "colab": {
          "base_uri": "https://localhost:8080/"
        },
        "id": "AtOvCwbbEvq-",
        "outputId": "872b96d5-b6cd-4c89-bf1d-4d2243caa827"
      },
      "execution_count": 48,
      "outputs": [
        {
          "output_type": "execute_result",
          "data": {
            "text/plain": [
              "(tensor(0), tensor(0))"
            ]
          },
          "metadata": {},
          "execution_count": 48
        }
      ]
    },
    {
      "cell_type": "code",
      "source": [
        "torch.mean(x.type(torch.float32)),x.type(torch.float32).mean()"
      ],
      "metadata": {
        "colab": {
          "base_uri": "https://localhost:8080/"
        },
        "id": "C4uBji8UEz0X",
        "outputId": "e5c63fe3-9d6b-4bcd-c6d6-c9703dae862e"
      },
      "execution_count": 49,
      "outputs": [
        {
          "output_type": "execute_result",
          "data": {
            "text/plain": [
              "(tensor(45.), tensor(45.))"
            ]
          },
          "metadata": {},
          "execution_count": 49
        }
      ]
    },
    {
      "cell_type": "code",
      "source": [
        "torch.sum(x),x.sum()"
      ],
      "metadata": {
        "colab": {
          "base_uri": "https://localhost:8080/"
        },
        "id": "LZNk-7RYE3K_",
        "outputId": "2755f999-8c32-4c77-89af-ee46635afdc3"
      },
      "execution_count": 50,
      "outputs": [
        {
          "output_type": "execute_result",
          "data": {
            "text/plain": [
              "(tensor(450), tensor(450))"
            ]
          },
          "metadata": {},
          "execution_count": 50
        }
      ]
    },
    {
      "cell_type": "code",
      "source": [
        "x.argmax()"
      ],
      "metadata": {
        "colab": {
          "base_uri": "https://localhost:8080/"
        },
        "id": "EZyp-ixXF6uX",
        "outputId": "956112a1-5e3a-4e75-c086-0b8bfac9ba07"
      },
      "execution_count": 51,
      "outputs": [
        {
          "output_type": "execute_result",
          "data": {
            "text/plain": [
              "tensor(9)"
            ]
          },
          "metadata": {},
          "execution_count": 51
        }
      ]
    },
    {
      "cell_type": "code",
      "source": [
        "x.argmin()"
      ],
      "metadata": {
        "id": "0dNs-nNvG4yn",
        "outputId": "7f6b1080-811f-4700-bdf4-3df8f08ac938",
        "colab": {
          "base_uri": "https://localhost:8080/"
        }
      },
      "execution_count": 52,
      "outputs": [
        {
          "output_type": "execute_result",
          "data": {
            "text/plain": [
              "tensor(0)"
            ]
          },
          "metadata": {},
          "execution_count": 52
        }
      ]
    },
    {
      "cell_type": "markdown",
      "source": [
        "##Reshaping, stacking, squeezing and unsqueezing tensors\n",
        "* Reshaping - reshapes an input tensor to a defined shape\n",
        "View\n",
        "* Return a view of an input tensor of certain shape but keep the same memory as the original tensor\n",
        "Stacking\n",
        "* combine multiple tensors on top of each other (vstack) or side by side (hstack)\n",
        "\n",
        "* Squeeze removes all 1 dimensions from a tensor\n",
        "\n",
        "* Unsqueeze add a 1 dimension to a target tensor\n",
        "\n",
        "* Permute Return a view of the input with dimensions permuted (swapped) in a certain way"
      ],
      "metadata": {
        "id": "muIaSSToG6Lf"
      }
    },
    {
      "cell_type": "code",
      "source": [
        "tensor=torch.arange(1,10)\n",
        "tensor,tensor.shape"
      ],
      "metadata": {
        "id": "XmW19RUtdl6E",
        "colab": {
          "base_uri": "https://localhost:8080/"
        },
        "outputId": "ea683fe3-3204-4f04-cef6-1456f3181d70"
      },
      "execution_count": 53,
      "outputs": [
        {
          "output_type": "execute_result",
          "data": {
            "text/plain": [
              "(tensor([1, 2, 3, 4, 5, 6, 7, 8, 9]), torch.Size([9]))"
            ]
          },
          "metadata": {},
          "execution_count": 53
        }
      ]
    },
    {
      "cell_type": "code",
      "source": [
        "tensor_reshape=tensor.reshape(1,9)\n",
        "tensor_reshape,tensor_reshape.shape"
      ],
      "metadata": {
        "colab": {
          "base_uri": "https://localhost:8080/"
        },
        "id": "lZHHyYTH0s5a",
        "outputId": "bf05234f-4884-4427-de46-a24792ec38bc"
      },
      "execution_count": 54,
      "outputs": [
        {
          "output_type": "execute_result",
          "data": {
            "text/plain": [
              "(tensor([[1, 2, 3, 4, 5, 6, 7, 8, 9]]), torch.Size([1, 9]))"
            ]
          },
          "metadata": {},
          "execution_count": 54
        }
      ]
    },
    {
      "cell_type": "code",
      "source": [
        "tensor_reshape=tensor.reshape(3,3)\n",
        "tensor_reshape,tensor_reshape.shape"
      ],
      "metadata": {
        "colab": {
          "base_uri": "https://localhost:8080/"
        },
        "id": "-i6UWn8K04pw",
        "outputId": "fa77cb9b-898e-4d8a-e22d-745632c04ecf"
      },
      "execution_count": 55,
      "outputs": [
        {
          "output_type": "execute_result",
          "data": {
            "text/plain": [
              "(tensor([[1, 2, 3],\n",
              "         [4, 5, 6],\n",
              "         [7, 8, 9]]),\n",
              " torch.Size([3, 3]))"
            ]
          },
          "metadata": {},
          "execution_count": 55
        }
      ]
    },
    {
      "cell_type": "code",
      "source": [
        "tensor , tensor_reshape"
      ],
      "metadata": {
        "colab": {
          "base_uri": "https://localhost:8080/"
        },
        "id": "5BkmVSRD0zKP",
        "outputId": "48387800-c0a1-4000-b34a-f6085cc15c26"
      },
      "execution_count": 56,
      "outputs": [
        {
          "output_type": "execute_result",
          "data": {
            "text/plain": [
              "(tensor([1, 2, 3, 4, 5, 6, 7, 8, 9]),\n",
              " tensor([[1, 2, 3],\n",
              "         [4, 5, 6],\n",
              "         [7, 8, 9]]))"
            ]
          },
          "metadata": {},
          "execution_count": 56
        }
      ]
    },
    {
      "cell_type": "code",
      "source": [
        "tensor[0]=66\n",
        "tensor , tensor_reshape"
      ],
      "metadata": {
        "colab": {
          "base_uri": "https://localhost:8080/"
        },
        "id": "NbaSurwY6IQC",
        "outputId": "1df0b37c-2e4a-4fa4-dfc7-8bc3c3ffbed6"
      },
      "execution_count": 57,
      "outputs": [
        {
          "output_type": "execute_result",
          "data": {
            "text/plain": [
              "(tensor([66,  2,  3,  4,  5,  6,  7,  8,  9]),\n",
              " tensor([[66,  2,  3],\n",
              "         [ 4,  5,  6],\n",
              "         [ 7,  8,  9]]))"
            ]
          },
          "metadata": {},
          "execution_count": 57
        }
      ]
    },
    {
      "cell_type": "code",
      "source": [
        "x=torch.arange(1,10)\n",
        "x ,x.shape"
      ],
      "metadata": {
        "colab": {
          "base_uri": "https://localhost:8080/"
        },
        "id": "6C5dVrka1DFV",
        "outputId": "4dcb316d-82a6-49bb-9993-2fc5417842af"
      },
      "execution_count": 58,
      "outputs": [
        {
          "output_type": "execute_result",
          "data": {
            "text/plain": [
              "(tensor([1, 2, 3, 4, 5, 6, 7, 8, 9]), torch.Size([9]))"
            ]
          },
          "metadata": {},
          "execution_count": 58
        }
      ]
    },
    {
      "cell_type": "code",
      "source": [
        "z=x.view(3,3)\n",
        "z"
      ],
      "metadata": {
        "colab": {
          "base_uri": "https://localhost:8080/"
        },
        "id": "y0-xT3Ev1DC-",
        "outputId": "4a238165-2598-4fba-90b9-0928a8caa035"
      },
      "execution_count": 59,
      "outputs": [
        {
          "output_type": "execute_result",
          "data": {
            "text/plain": [
              "tensor([[1, 2, 3],\n",
              "        [4, 5, 6],\n",
              "        [7, 8, 9]])"
            ]
          },
          "metadata": {},
          "execution_count": 59
        }
      ]
    },
    {
      "cell_type": "code",
      "source": [
        "x[0]=55\n",
        "x,z\n",
        "#reshape and view do the same"
      ],
      "metadata": {
        "colab": {
          "base_uri": "https://localhost:8080/"
        },
        "id": "EfaM4nPk1DAm",
        "outputId": "790468e9-21bd-4ea8-f684-3b29f6710cfb"
      },
      "execution_count": 60,
      "outputs": [
        {
          "output_type": "execute_result",
          "data": {
            "text/plain": [
              "(tensor([55,  2,  3,  4,  5,  6,  7,  8,  9]),\n",
              " tensor([[55,  2,  3],\n",
              "         [ 4,  5,  6],\n",
              "         [ 7,  8,  9]]))"
            ]
          },
          "metadata": {},
          "execution_count": 60
        }
      ]
    },
    {
      "cell_type": "markdown",
      "source": [
        "**contiguous memore** : \"each row follows the previous one directly in memory\"\n",
        "* view : contiguous it work fine but if not not work\n",
        "* reshape : if not contiguous it rearnge it and work fine.\n",
        "\n",
        "**then what make tensor not contiguous ??**"
      ],
      "metadata": {
        "id": "vqFzMTz7ELzl"
      }
    },
    {
      "cell_type": "code",
      "source": [
        "a = torch.tensor([1, 2, 3])\n",
        "b = torch.tensor([4, 5, 6])\n",
        "x = torch.stack((a, b))\n",
        "x,x.shape"
      ],
      "metadata": {
        "colab": {
          "base_uri": "https://localhost:8080/"
        },
        "id": "mMFAySxJ1C-N",
        "outputId": "eb5f5fb8-dbd0-4dfb-bf3c-fe42a5a080d2"
      },
      "execution_count": 61,
      "outputs": [
        {
          "output_type": "execute_result",
          "data": {
            "text/plain": [
              "(tensor([[1, 2, 3],\n",
              "         [4, 5, 6]]),\n",
              " torch.Size([2, 3]))"
            ]
          },
          "metadata": {},
          "execution_count": 61
        }
      ]
    },
    {
      "cell_type": "markdown",
      "source": [
        "the .stack() functions add two tensore together\n",
        "* but using dim attribute behave like: \"where the index of new diminshin will be\"\n",
        "\n",
        "  and this shape how the output will be"
      ],
      "metadata": {
        "id": "cglARpiSTyro"
      }
    },
    {
      "cell_type": "code",
      "source": [
        "x = torch.stack((a, b),dim=0)\n",
        "x,x.shape"
      ],
      "metadata": {
        "colab": {
          "base_uri": "https://localhost:8080/"
        },
        "id": "inOhQ-hp1C7q",
        "outputId": "61836437-e3af-4bfe-b0f1-8cbc4a1360c8"
      },
      "execution_count": 62,
      "outputs": [
        {
          "output_type": "execute_result",
          "data": {
            "text/plain": [
              "(tensor([[1, 2, 3],\n",
              "         [4, 5, 6]]),\n",
              " torch.Size([2, 3]))"
            ]
          },
          "metadata": {},
          "execution_count": 62
        }
      ]
    },
    {
      "cell_type": "code",
      "source": [
        "x = torch.stack((a, b),dim=1)\n",
        "x,x.shape"
      ],
      "metadata": {
        "colab": {
          "base_uri": "https://localhost:8080/"
        },
        "id": "eZkE_4h71C5J",
        "outputId": "7179004d-3546-42d2-9115-daac251d94c9"
      },
      "execution_count": 63,
      "outputs": [
        {
          "output_type": "execute_result",
          "data": {
            "text/plain": [
              "(tensor([[1, 4],\n",
              "         [2, 5],\n",
              "         [3, 6]]),\n",
              " torch.Size([3, 2]))"
            ]
          },
          "metadata": {},
          "execution_count": 63
        }
      ]
    },
    {
      "cell_type": "markdown",
      "source": [
        "### try higher diminshions"
      ],
      "metadata": {
        "id": "nBluMjaZVqow"
      }
    },
    {
      "cell_type": "code",
      "source": [
        "a = torch.randn(2, 3)\n",
        "b = torch.randn(2, 3)\n",
        "d = torch.randn(2, 3)\n",
        "print(f\"The stack when dim is 0 :\\n{torch.stack((a, b, d), dim=0)}\")\n",
        "print(f\"The shpae of stack when The dim is 0 :\\n{torch.stack((a, b, d), dim=0).shape}\")\n",
        "print(\"************************************************************************************************\")\n",
        "print(f\"The stack when dim is 1 :\\n{torch.stack((a, b, d), dim=1)}\")\n",
        "print(f\"The shpae of stack when The dim is 1 :\\n{torch.stack((a, b, d), dim=1).shape}\")\n",
        "print(\"************************************************************************************************\")\n",
        "print(f\"The stack when dim is 2 :\\n{torch.stack((a, b, d), dim=2)}\")\n",
        "print(f\"The shpae of stack when The dim is 2 :\\n{torch.stack((a, b, d), dim=2).shape}\")\n",
        "## the dim = 3 cuse error"
      ],
      "metadata": {
        "colab": {
          "base_uri": "https://localhost:8080/"
        },
        "id": "V_c2ktP91C24",
        "outputId": "0f6c4013-667b-4100-f6ff-b4f937b6b661"
      },
      "execution_count": 64,
      "outputs": [
        {
          "output_type": "stream",
          "name": "stdout",
          "text": [
            "The stack when dim is 0 :\n",
            "tensor([[[-0.6085,  0.5635, -0.1615],\n",
            "         [-2.4490,  0.7763,  0.1091]],\n",
            "\n",
            "        [[-0.2544, -0.6590,  0.1214],\n",
            "         [-0.1328, -0.9848,  0.4930]],\n",
            "\n",
            "        [[-0.4603, -1.1238, -1.3459],\n",
            "         [-1.1426,  2.0416, -0.0734]]])\n",
            "The shpae of stack when The dim is 0 :\n",
            "torch.Size([3, 2, 3])\n",
            "************************************************************************************************\n",
            "The stack when dim is 1 :\n",
            "tensor([[[-0.6085,  0.5635, -0.1615],\n",
            "         [-0.2544, -0.6590,  0.1214],\n",
            "         [-0.4603, -1.1238, -1.3459]],\n",
            "\n",
            "        [[-2.4490,  0.7763,  0.1091],\n",
            "         [-0.1328, -0.9848,  0.4930],\n",
            "         [-1.1426,  2.0416, -0.0734]]])\n",
            "The shpae of stack when The dim is 1 :\n",
            "torch.Size([2, 3, 3])\n",
            "************************************************************************************************\n",
            "The stack when dim is 2 :\n",
            "tensor([[[-0.6085, -0.2544, -0.4603],\n",
            "         [ 0.5635, -0.6590, -1.1238],\n",
            "         [-0.1615,  0.1214, -1.3459]],\n",
            "\n",
            "        [[-2.4490, -0.1328, -1.1426],\n",
            "         [ 0.7763, -0.9848,  2.0416],\n",
            "         [ 0.1091,  0.4930, -0.0734]]])\n",
            "The shpae of stack when The dim is 2 :\n",
            "torch.Size([2, 3, 3])\n"
          ]
        }
      ]
    },
    {
      "cell_type": "markdown",
      "source": [
        "###the squeeze tensors"
      ],
      "metadata": {
        "id": "Afad0RE2Fb5z"
      }
    },
    {
      "cell_type": "code",
      "source": [
        "tensor=torch.arange(1,10).reshape(1,9)\n",
        "tensor, tensor.shape\n",
        "\n",
        "print(f\"the tensore before squezze:{tensor}\")\n",
        "print(f\"the shape before squezze:{tensor.shape}\")\n",
        "print(\"************************************************************************************************\")\n",
        "print(f\"the tensore after squezze:{tensor.squeeze()}\")\n",
        "print(f\"the shape after squezze:{tensor.squeeze().shape}\")"
      ],
      "metadata": {
        "colab": {
          "base_uri": "https://localhost:8080/"
        },
        "id": "AGUHT3XJdViK",
        "outputId": "75d7140b-5efb-48f5-b6f8-6321afa778de"
      },
      "execution_count": 65,
      "outputs": [
        {
          "output_type": "stream",
          "name": "stdout",
          "text": [
            "the tensore before squezze:tensor([[1, 2, 3, 4, 5, 6, 7, 8, 9]])\n",
            "the shape before squezze:torch.Size([1, 9])\n",
            "************************************************************************************************\n",
            "the tensore after squezze:tensor([1, 2, 3, 4, 5, 6, 7, 8, 9])\n",
            "the shape after squezze:torch.Size([9])\n"
          ]
        }
      ]
    },
    {
      "cell_type": "code",
      "source": [
        "tensor=torch.arange(1,10)\n",
        "tensor, tensor.shape\n",
        "\n",
        "print(f\"the tensore before unsquezze:{tensor}\")\n",
        "print(f\"the shape before unsquezze:{tensor.shape}\")\n",
        "print(\"************************************************************************************************\")\n",
        "print(f\"the tensore after unsquezze dim = 0:{tensor.unsqueeze(dim=0)}\")\n",
        "print(f\"the shape after unsquezze dim = 0:{tensor.unsqueeze(dim=0).shape}\")\n",
        "print(\"************************************************************************************************\")\n",
        "print(f\"the tensore after unsquezze dim = 1:{tensor.unsqueeze(dim=1)}\")\n",
        "print(f\"the shape after unsquezze dim = 1:{tensor.unsqueeze(dim=1).shape}\")"
      ],
      "metadata": {
        "colab": {
          "base_uri": "https://localhost:8080/"
        },
        "id": "KoxLGss2detR",
        "outputId": "3f9257ad-d198-4bb8-9f63-da3049264601"
      },
      "execution_count": 66,
      "outputs": [
        {
          "output_type": "stream",
          "name": "stdout",
          "text": [
            "the tensore before unsquezze:tensor([1, 2, 3, 4, 5, 6, 7, 8, 9])\n",
            "the shape before unsquezze:torch.Size([9])\n",
            "************************************************************************************************\n",
            "the tensore after unsquezze dim = 0:tensor([[1, 2, 3, 4, 5, 6, 7, 8, 9]])\n",
            "the shape after unsquezze dim = 0:torch.Size([1, 9])\n",
            "************************************************************************************************\n",
            "the tensore after unsquezze dim = 1:tensor([[1],\n",
            "        [2],\n",
            "        [3],\n",
            "        [4],\n",
            "        [5],\n",
            "        [6],\n",
            "        [7],\n",
            "        [8],\n",
            "        [9]])\n",
            "the shape after unsquezze dim = 1:torch.Size([9, 1])\n"
          ]
        }
      ]
    },
    {
      "cell_type": "code",
      "source": [
        "orginal_tensor=torch.rand(size=(5,6,7))\n",
        "tranc_tensor=orginal_tensor.permute(2,0,1)\n",
        "print(f\"orginal_tensor shape:{orginal_tensor.shape}\")\n",
        "print(f\"trans_tensor shape:{tranc_tensor.shape}\")\n",
        "print(f\"orginal_tensor shape:{orginal_tensor.shape}\")\n",
        "## poth share the same memory but have diffrent view\n",
        "print(f\"the index on orginal tensor:{orginal_tensor[0,0,0]}\")\n",
        "print(f\"the index on trans_tensor:{tranc_tensor[0,0,0]}\")\n",
        "orginal_tensor[0,0,0]=2\n",
        "print(f\"the index on orginal tensor after change:{orginal_tensor[0,0,0]}\")\n",
        "print(f\"the index on trans_tensor after change:{tranc_tensor[0,0,0]}\")\n",
        "\n"
      ],
      "metadata": {
        "colab": {
          "base_uri": "https://localhost:8080/"
        },
        "id": "wzHP_XAodqEx",
        "outputId": "a32d16cb-42db-480d-bfc6-81412e704ce2"
      },
      "execution_count": 67,
      "outputs": [
        {
          "output_type": "stream",
          "name": "stdout",
          "text": [
            "orginal_tensor shape:torch.Size([5, 6, 7])\n",
            "trans_tensor shape:torch.Size([7, 5, 6])\n",
            "orginal_tensor shape:torch.Size([5, 6, 7])\n",
            "the index on orginal tensor:0.42161720991134644\n",
            "the index on trans_tensor:0.42161720991134644\n",
            "the index on orginal tensor after change:2.0\n",
            "the index on trans_tensor after change:2.0\n"
          ]
        }
      ]
    },
    {
      "cell_type": "markdown",
      "source": [
        "# indexing"
      ],
      "metadata": {
        "id": "RLxhRJ7FivHj"
      }
    },
    {
      "cell_type": "code",
      "source": [
        "x=torch.arange(1,10).reshape(1,3,3)\n",
        "x,x.shape"
      ],
      "metadata": {
        "colab": {
          "base_uri": "https://localhost:8080/"
        },
        "id": "TKQez6iEFIMZ",
        "outputId": "8a806723-7a15-488c-f36b-c1f3d7949a51"
      },
      "execution_count": 68,
      "outputs": [
        {
          "output_type": "execute_result",
          "data": {
            "text/plain": [
              "(tensor([[[1, 2, 3],\n",
              "          [4, 5, 6],\n",
              "          [7, 8, 9]]]),\n",
              " torch.Size([1, 3, 3]))"
            ]
          },
          "metadata": {},
          "execution_count": 68
        }
      ]
    },
    {
      "cell_type": "code",
      "source": [
        "x[0]"
      ],
      "metadata": {
        "colab": {
          "base_uri": "https://localhost:8080/"
        },
        "id": "FvJmVKxLFJt7",
        "outputId": "bb4e7dbe-fd97-456a-a8c6-a9c88b4dfced"
      },
      "execution_count": 69,
      "outputs": [
        {
          "output_type": "execute_result",
          "data": {
            "text/plain": [
              "tensor([[1, 2, 3],\n",
              "        [4, 5, 6],\n",
              "        [7, 8, 9]])"
            ]
          },
          "metadata": {},
          "execution_count": 69
        }
      ]
    },
    {
      "cell_type": "code",
      "source": [
        "x[0][0]"
      ],
      "metadata": {
        "colab": {
          "base_uri": "https://localhost:8080/"
        },
        "id": "GcEIdYcMFJrZ",
        "outputId": "df99fc15-b2a7-44f9-f782-8fcf77d7de33"
      },
      "execution_count": 70,
      "outputs": [
        {
          "output_type": "execute_result",
          "data": {
            "text/plain": [
              "tensor([1, 2, 3])"
            ]
          },
          "metadata": {},
          "execution_count": 70
        }
      ]
    },
    {
      "cell_type": "code",
      "source": [
        "#seperte [n][n][n] is equal to [n,n,n]\n",
        "x[0,0,0]"
      ],
      "metadata": {
        "colab": {
          "base_uri": "https://localhost:8080/"
        },
        "id": "vAU7Kd5eFJom",
        "outputId": "6eba5377-f846-4fd9-99f5-300d69b44da9"
      },
      "execution_count": 71,
      "outputs": [
        {
          "output_type": "execute_result",
          "data": {
            "text/plain": [
              "tensor(1)"
            ]
          },
          "metadata": {},
          "execution_count": 71
        }
      ]
    },
    {
      "cell_type": "code",
      "source": [
        "# we use : to say select all elemnt in this diminshine\n",
        "x[:,0]"
      ],
      "metadata": {
        "colab": {
          "base_uri": "https://localhost:8080/"
        },
        "id": "EhVnATtyFJly",
        "outputId": "a3f7ebe5-1487-4381-96c6-27ff6039fffb"
      },
      "execution_count": 72,
      "outputs": [
        {
          "output_type": "execute_result",
          "data": {
            "text/plain": [
              "tensor([[1, 2, 3]])"
            ]
          },
          "metadata": {},
          "execution_count": 72
        }
      ]
    },
    {
      "cell_type": "code",
      "source": [
        "new=torch.arange(11,20).reshape(1,3,3)\n",
        "x=torch.cat((x,new),dim=0)\n",
        "x"
      ],
      "metadata": {
        "colab": {
          "base_uri": "https://localhost:8080/"
        },
        "id": "EySmPIdTFJjA",
        "outputId": "2eb3e1a8-9770-4d66-8c29-099d1114f4de"
      },
      "execution_count": 73,
      "outputs": [
        {
          "output_type": "execute_result",
          "data": {
            "text/plain": [
              "tensor([[[ 1,  2,  3],\n",
              "         [ 4,  5,  6],\n",
              "         [ 7,  8,  9]],\n",
              "\n",
              "        [[11, 12, 13],\n",
              "         [14, 15, 16],\n",
              "         [17, 18, 19]]])"
            ]
          },
          "metadata": {},
          "execution_count": 73
        }
      ]
    },
    {
      "cell_type": "code",
      "source": [
        "x[:,0]"
      ],
      "metadata": {
        "colab": {
          "base_uri": "https://localhost:8080/"
        },
        "id": "R8BmoGZvFJgA",
        "outputId": "b021cd93-d9fd-4b6c-d6d7-0e19e6d072cf"
      },
      "execution_count": 74,
      "outputs": [
        {
          "output_type": "execute_result",
          "data": {
            "text/plain": [
              "tensor([[ 1,  2,  3],\n",
              "        [11, 12, 13]])"
            ]
          },
          "metadata": {},
          "execution_count": 74
        }
      ]
    },
    {
      "cell_type": "code",
      "source": [
        "x[:,0,2]"
      ],
      "metadata": {
        "colab": {
          "base_uri": "https://localhost:8080/"
        },
        "id": "1k7zlV8HFJc9",
        "outputId": "5381430f-5288-4ac6-c497-59f33a133564"
      },
      "execution_count": 75,
      "outputs": [
        {
          "output_type": "execute_result",
          "data": {
            "text/plain": [
              "tensor([ 3, 13])"
            ]
          },
          "metadata": {},
          "execution_count": 75
        }
      ]
    },
    {
      "cell_type": "markdown",
      "source": [
        "## get start from numpy to tensor"
      ],
      "metadata": {
        "id": "RFanP8y3Qua1"
      }
    },
    {
      "cell_type": "code",
      "source": [
        "import numpy as np\n",
        "array=np.arange(1,8)\n",
        "tensor=torch.from_numpy(array)\n",
        "array,tensor"
      ],
      "metadata": {
        "colab": {
          "base_uri": "https://localhost:8080/"
        },
        "id": "N0B3WiQEFJaK",
        "outputId": "47eed6db-37eb-43a0-ef01-aaa41dc533f7"
      },
      "execution_count": 76,
      "outputs": [
        {
          "output_type": "execute_result",
          "data": {
            "text/plain": [
              "(array([1, 2, 3, 4, 5, 6, 7]), tensor([1, 2, 3, 4, 5, 6, 7]))"
            ]
          },
          "metadata": {},
          "execution_count": 76
        }
      ]
    },
    {
      "cell_type": "code",
      "source": [
        "## every time you run this line you get differant tensor\n",
        "rand_tensor=torch.rand(3,4)\n",
        "rand_tensor\n"
      ],
      "metadata": {
        "id": "TtyOoooYFJXP",
        "colab": {
          "base_uri": "https://localhost:8080/"
        },
        "outputId": "b0988663-575b-4ad2-98ac-e70493405cfe"
      },
      "execution_count": 77,
      "outputs": [
        {
          "output_type": "execute_result",
          "data": {
            "text/plain": [
              "tensor([[0.3942, 0.1374, 0.5976, 0.2256],\n",
              "        [0.5905, 0.5207, 0.5304, 0.7588],\n",
              "        [0.1247, 0.4710, 0.7195, 0.4448]])"
            ]
          },
          "metadata": {},
          "execution_count": 77
        }
      ]
    },
    {
      "cell_type": "code",
      "source": [
        "## always get the same set of number\n",
        "torch.manual_seed(42)\n",
        "rand_tensor=torch.rand(3,4)\n",
        "rand_tensor"
      ],
      "metadata": {
        "id": "NYMepgf0FJU7",
        "colab": {
          "base_uri": "https://localhost:8080/"
        },
        "outputId": "01833402-ae93-4bec-caf3-e6db9537b62e"
      },
      "execution_count": 78,
      "outputs": [
        {
          "output_type": "execute_result",
          "data": {
            "text/plain": [
              "tensor([[0.8823, 0.9150, 0.3829, 0.9593],\n",
              "        [0.3904, 0.6009, 0.2566, 0.7936],\n",
              "        [0.9408, 0.1332, 0.9346, 0.5936]])"
            ]
          },
          "metadata": {},
          "execution_count": 78
        }
      ]
    },
    {
      "cell_type": "code",
      "source": [
        "!nvidia-smi ## do it after reasigne the runtime hardware to gpu"
      ],
      "metadata": {
        "id": "fEYvOIrQFJSd",
        "colab": {
          "base_uri": "https://localhost:8080/"
        },
        "outputId": "f043d4bf-ccb1-4698-c957-22552ad5b8db"
      },
      "execution_count": 79,
      "outputs": [
        {
          "output_type": "stream",
          "name": "stdout",
          "text": [
            "Tue Oct 28 11:00:14 2025       \n",
            "+-----------------------------------------------------------------------------------------+\n",
            "| NVIDIA-SMI 550.54.15              Driver Version: 550.54.15      CUDA Version: 12.4     |\n",
            "|-----------------------------------------+------------------------+----------------------+\n",
            "| GPU  Name                 Persistence-M | Bus-Id          Disp.A | Volatile Uncorr. ECC |\n",
            "| Fan  Temp   Perf          Pwr:Usage/Cap |           Memory-Usage | GPU-Util  Compute M. |\n",
            "|                                         |                        |               MIG M. |\n",
            "|=========================================+========================+======================|\n",
            "|   0  Tesla T4                       Off |   00000000:00:04.0 Off |                    0 |\n",
            "| N/A   47C    P8              9W /   70W |       0MiB /  15360MiB |      0%      Default |\n",
            "|                                         |                        |                  N/A |\n",
            "+-----------------------------------------+------------------------+----------------------+\n",
            "                                                                                         \n",
            "+-----------------------------------------------------------------------------------------+\n",
            "| Processes:                                                                              |\n",
            "|  GPU   GI   CI        PID   Type   Process name                              GPU Memory |\n",
            "|        ID   ID                                                               Usage      |\n",
            "|=========================================================================================|\n",
            "|  No running processes found                                                             |\n",
            "+-----------------------------------------------------------------------------------------+\n"
          ]
        }
      ]
    },
    {
      "cell_type": "code",
      "source": [
        "torch.cuda.is_available()"
      ],
      "metadata": {
        "id": "EDgqdiLHFJPj",
        "colab": {
          "base_uri": "https://localhost:8080/"
        },
        "outputId": "db796f4e-0a67-464a-928d-9a3afc05cd16"
      },
      "execution_count": 81,
      "outputs": [
        {
          "output_type": "execute_result",
          "data": {
            "text/plain": [
              "True"
            ]
          },
          "metadata": {},
          "execution_count": 81
        }
      ]
    },
    {
      "cell_type": "code",
      "source": [
        "torch.cuda.device_count()"
      ],
      "metadata": {
        "id": "ETfTnugmFJMz",
        "colab": {
          "base_uri": "https://localhost:8080/"
        },
        "outputId": "145d524f-2f1f-4222-96d4-9e021681021a"
      },
      "execution_count": 82,
      "outputs": [
        {
          "output_type": "execute_result",
          "data": {
            "text/plain": [
              "1"
            ]
          },
          "metadata": {},
          "execution_count": 82
        }
      ]
    },
    {
      "cell_type": "code",
      "source": [],
      "metadata": {
        "id": "DFTftcExFJKS"
      },
      "execution_count": 79,
      "outputs": []
    }
  ]
}