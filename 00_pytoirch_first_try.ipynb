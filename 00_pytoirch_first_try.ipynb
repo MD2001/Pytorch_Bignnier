{
  "nbformat": 4,
  "nbformat_minor": 0,
  "metadata": {
    "colab": {
      "provenance": [],
      "gpuType": "T4",
      "authorship_tag": "ABX9TyPSoKic/aRBsGhU4eAif6Xp",
      "include_colab_link": true
    },
    "kernelspec": {
      "name": "python3",
      "display_name": "Python 3"
    },
    "language_info": {
      "name": "python"
    }
  },
  "cells": [
    {
      "cell_type": "markdown",
      "metadata": {
        "id": "view-in-github",
        "colab_type": "text"
      },
      "source": [
        "<a href=\"https://colab.research.google.com/github/MD2001/Pytorch_Bignnier/blob/main/00_pytoirch_first_try.ipynb\" target=\"_parent\"><img src=\"https://colab.research.google.com/assets/colab-badge.svg\" alt=\"Open In Colab\"/></a>"
      ]
    },
    {
      "cell_type": "markdown",
      "source": [
        "## Title: 00. PyTorch Fundamentals\n",
        "Resource notebook: https://www.learnpytorch.io/00_pytorch_fundamentals/\n",
        "\n",
        "Discussion forum: https://github.com/mrdbourke/pytorch-deep-learning/discussions"
      ],
      "metadata": {
        "id": "0e83aUeWF9Dz"
      }
    },
    {
      "cell_type": "code",
      "execution_count": 1,
      "metadata": {
        "colab": {
          "base_uri": "https://localhost:8080/"
        },
        "id": "22YQ1fs4Fq0N",
        "outputId": "574c8259-29f5-4b00-a0bc-fda6bbc8cf70"
      },
      "outputs": [
        {
          "output_type": "stream",
          "name": "stdout",
          "text": [
            "2.8.0+cu126\n"
          ]
        }
      ],
      "source": [
        "import torch\n",
        "import pandas as pd\n",
        "import numpy as np\n",
        "import matplotlib.pyplot as plt\n",
        "print(torch.__version__)"
      ]
    },
    {
      "cell_type": "markdown",
      "source": [
        "## introduction\n",
        "### tensors"
      ],
      "metadata": {
        "id": "UOicOkERGZy4"
      }
    },
    {
      "cell_type": "code",
      "source": [
        "#scaler\n",
        "scaler=torch.tensor(7)\n",
        "scaler"
      ],
      "metadata": {
        "colab": {
          "base_uri": "https://localhost:8080/"
        },
        "id": "VciDj-PUHFQS",
        "outputId": "1cfa5f74-beca-40e6-87b0-0d95877615de"
      },
      "execution_count": 2,
      "outputs": [
        {
          "output_type": "execute_result",
          "data": {
            "text/plain": [
              "tensor(7)"
            ]
          },
          "metadata": {},
          "execution_count": 2
        }
      ]
    },
    {
      "cell_type": "code",
      "source": [
        "scaler.shape"
      ],
      "metadata": {
        "colab": {
          "base_uri": "https://localhost:8080/"
        },
        "id": "SPUx3EwaOfaC",
        "outputId": "8c6835e4-393a-4db5-f9f2-1e0da7b7a8d4"
      },
      "execution_count": 3,
      "outputs": [
        {
          "output_type": "execute_result",
          "data": {
            "text/plain": [
              "torch.Size([])"
            ]
          },
          "metadata": {},
          "execution_count": 3
        }
      ]
    },
    {
      "cell_type": "code",
      "source": [
        "scaler.ndim"
      ],
      "metadata": {
        "colab": {
          "base_uri": "https://localhost:8080/"
        },
        "id": "JifVtElKOiOx",
        "outputId": "f778aef3-0b7d-4f39-c2e5-0d3db9adb41d"
      },
      "execution_count": 4,
      "outputs": [
        {
          "output_type": "execute_result",
          "data": {
            "text/plain": [
              "0"
            ]
          },
          "metadata": {},
          "execution_count": 4
        }
      ]
    },
    {
      "cell_type": "code",
      "source": [
        "#Vector\n",
        "Vector=torch.tensor([7,7])\n",
        "Vector"
      ],
      "metadata": {
        "colab": {
          "base_uri": "https://localhost:8080/"
        },
        "id": "7CIzc3JHOrOZ",
        "outputId": "1bcb4371-9af7-4c9b-c60f-94be128813d6"
      },
      "execution_count": 5,
      "outputs": [
        {
          "output_type": "execute_result",
          "data": {
            "text/plain": [
              "tensor([7, 7])"
            ]
          },
          "metadata": {},
          "execution_count": 5
        }
      ]
    },
    {
      "cell_type": "code",
      "source": [
        "Vector.shape"
      ],
      "metadata": {
        "colab": {
          "base_uri": "https://localhost:8080/"
        },
        "id": "AE1nhNg0OukR",
        "outputId": "9a04c68e-7d0c-4210-ebd0-66449d242676"
      },
      "execution_count": 6,
      "outputs": [
        {
          "output_type": "execute_result",
          "data": {
            "text/plain": [
              "torch.Size([2])"
            ]
          },
          "metadata": {},
          "execution_count": 6
        }
      ]
    },
    {
      "cell_type": "code",
      "source": [
        "Vector.ndim"
      ],
      "metadata": {
        "colab": {
          "base_uri": "https://localhost:8080/"
        },
        "id": "ELIcgDtMO-7a",
        "outputId": "a7412347-c2e6-4169-e46b-70bd89ff3cc4"
      },
      "execution_count": 7,
      "outputs": [
        {
          "output_type": "execute_result",
          "data": {
            "text/plain": [
              "1"
            ]
          },
          "metadata": {},
          "execution_count": 7
        }
      ]
    },
    {
      "cell_type": "code",
      "source": [
        "#MATRIX\n",
        "MATRIX =torch.tensor([[1,3],[2,4]])\n",
        "MATRIX"
      ],
      "metadata": {
        "colab": {
          "base_uri": "https://localhost:8080/"
        },
        "id": "lnKrOHGJPD-i",
        "outputId": "b3b2e4c4-3a17-49ca-c9c6-76b9482803df"
      },
      "execution_count": 8,
      "outputs": [
        {
          "output_type": "execute_result",
          "data": {
            "text/plain": [
              "tensor([[1, 3],\n",
              "        [2, 4]])"
            ]
          },
          "metadata": {},
          "execution_count": 8
        }
      ]
    },
    {
      "cell_type": "code",
      "source": [
        "MATRIX.shape"
      ],
      "metadata": {
        "colab": {
          "base_uri": "https://localhost:8080/"
        },
        "id": "BAAQ128APSFa",
        "outputId": "973d4249-c206-49ba-d483-2fa2d15c4a0c"
      },
      "execution_count": 9,
      "outputs": [
        {
          "output_type": "execute_result",
          "data": {
            "text/plain": [
              "torch.Size([2, 2])"
            ]
          },
          "metadata": {},
          "execution_count": 9
        }
      ]
    },
    {
      "cell_type": "code",
      "source": [
        "MATRIX.ndim"
      ],
      "metadata": {
        "colab": {
          "base_uri": "https://localhost:8080/"
        },
        "id": "2tq80fJhPXXS",
        "outputId": "2e3af11c-e3ab-4f92-828c-1c09a389b717"
      },
      "execution_count": 10,
      "outputs": [
        {
          "output_type": "execute_result",
          "data": {
            "text/plain": [
              "2"
            ]
          },
          "metadata": {},
          "execution_count": 10
        }
      ]
    },
    {
      "cell_type": "code",
      "source": [
        "MATRIX[0]"
      ],
      "metadata": {
        "colab": {
          "base_uri": "https://localhost:8080/"
        },
        "id": "Re0pS3G1PgLy",
        "outputId": "b43852d2-ec06-45de-bf3d-0fa1592f90c3"
      },
      "execution_count": 11,
      "outputs": [
        {
          "output_type": "execute_result",
          "data": {
            "text/plain": [
              "tensor([1, 3])"
            ]
          },
          "metadata": {},
          "execution_count": 11
        }
      ]
    },
    {
      "cell_type": "code",
      "source": [
        "MATRIX[1]"
      ],
      "metadata": {
        "colab": {
          "base_uri": "https://localhost:8080/"
        },
        "id": "IiOfer8RQOfK",
        "outputId": "814baae0-4ed5-4334-b8c8-c822fd1966bb"
      },
      "execution_count": 12,
      "outputs": [
        {
          "output_type": "execute_result",
          "data": {
            "text/plain": [
              "tensor([2, 4])"
            ]
          },
          "metadata": {},
          "execution_count": 12
        }
      ]
    },
    {
      "cell_type": "code",
      "source": [
        "#Tensors\n",
        "TENSOR = torch.tensor([[[1,2,3,4],[5,6,7,8],[9,10,11,12]]])\n",
        "TENSOR"
      ],
      "metadata": {
        "colab": {
          "base_uri": "https://localhost:8080/"
        },
        "id": "n25J-YdcQSCK",
        "outputId": "050a3a52-8482-4508-c360-fd8f1f4e7e34"
      },
      "execution_count": 13,
      "outputs": [
        {
          "output_type": "execute_result",
          "data": {
            "text/plain": [
              "tensor([[[ 1,  2,  3,  4],\n",
              "         [ 5,  6,  7,  8],\n",
              "         [ 9, 10, 11, 12]]])"
            ]
          },
          "metadata": {},
          "execution_count": 13
        }
      ]
    },
    {
      "cell_type": "code",
      "source": [
        "TENSOR.shape"
      ],
      "metadata": {
        "colab": {
          "base_uri": "https://localhost:8080/"
        },
        "id": "tkVcZiJnQXxi",
        "outputId": "d7342775-a728-441e-fc9c-238862192767"
      },
      "execution_count": 14,
      "outputs": [
        {
          "output_type": "execute_result",
          "data": {
            "text/plain": [
              "torch.Size([1, 3, 4])"
            ]
          },
          "metadata": {},
          "execution_count": 14
        }
      ]
    },
    {
      "cell_type": "code",
      "source": [
        "TENSOR.ndim"
      ],
      "metadata": {
        "colab": {
          "base_uri": "https://localhost:8080/"
        },
        "id": "SHmVrFvLQxvi",
        "outputId": "a8df6c4b-a100-43ee-ecd8-2946019975b0"
      },
      "execution_count": 15,
      "outputs": [
        {
          "output_type": "execute_result",
          "data": {
            "text/plain": [
              "3"
            ]
          },
          "metadata": {},
          "execution_count": 15
        }
      ]
    },
    {
      "cell_type": "code",
      "source": [
        "TENSOR[0]"
      ],
      "metadata": {
        "colab": {
          "base_uri": "https://localhost:8080/"
        },
        "id": "AEwxzbAiQ4vq",
        "outputId": "438164f0-6356-442b-f7ba-818e1d2f6bd6"
      },
      "execution_count": 16,
      "outputs": [
        {
          "output_type": "execute_result",
          "data": {
            "text/plain": [
              "tensor([[ 1,  2,  3,  4],\n",
              "        [ 5,  6,  7,  8],\n",
              "        [ 9, 10, 11, 12]])"
            ]
          },
          "metadata": {},
          "execution_count": 16
        }
      ]
    },
    {
      "cell_type": "code",
      "source": [
        "Tesnor2=torch.tensor([[[1,2],[3,4],[5,6]],[[7,8],[9,10],[11,12]]])\n",
        "Tesnor2"
      ],
      "metadata": {
        "colab": {
          "base_uri": "https://localhost:8080/"
        },
        "id": "ez_LtaTjQ6ka",
        "outputId": "e0e580c5-a6f2-4f33-bdba-642a044a8c18"
      },
      "execution_count": 17,
      "outputs": [
        {
          "output_type": "execute_result",
          "data": {
            "text/plain": [
              "tensor([[[ 1,  2],\n",
              "         [ 3,  4],\n",
              "         [ 5,  6]],\n",
              "\n",
              "        [[ 7,  8],\n",
              "         [ 9, 10],\n",
              "         [11, 12]]])"
            ]
          },
          "metadata": {},
          "execution_count": 17
        }
      ]
    },
    {
      "cell_type": "code",
      "source": [
        "Tesnor2.ndim"
      ],
      "metadata": {
        "colab": {
          "base_uri": "https://localhost:8080/"
        },
        "id": "MxFQTjiaQ-ka",
        "outputId": "e8616d1a-db91-4064-e475-f3dd589cebea"
      },
      "execution_count": 18,
      "outputs": [
        {
          "output_type": "execute_result",
          "data": {
            "text/plain": [
              "3"
            ]
          },
          "metadata": {},
          "execution_count": 18
        }
      ]
    },
    {
      "cell_type": "code",
      "source": [
        "Tesnor2.shape"
      ],
      "metadata": {
        "colab": {
          "base_uri": "https://localhost:8080/"
        },
        "id": "eGnClSgVWSzW",
        "outputId": "73678c21-6753-496e-bc6f-b62b83de777a"
      },
      "execution_count": 19,
      "outputs": [
        {
          "output_type": "execute_result",
          "data": {
            "text/plain": [
              "torch.Size([2, 3, 2])"
            ]
          },
          "metadata": {},
          "execution_count": 19
        }
      ]
    },
    {
      "cell_type": "markdown",
      "source": [
        "## Random tensors\n",
        "### Why random tensors?\n",
        "### Random tensors are important because the way many neural networks learn is that they start with tensors full of random numbers and then\n",
        "### Torch random tensors-https://docs.pytorch.org/docs/stable/generated/torch.rand.html"
      ],
      "metadata": {
        "id": "pUsMxHP5WYAz"
      }
    },
    {
      "cell_type": "code",
      "source": [
        "tensore_rand=torch.rand(3,4)\n",
        "tensore_rand"
      ],
      "metadata": {
        "colab": {
          "base_uri": "https://localhost:8080/"
        },
        "id": "EDTkZ56yxqa6",
        "outputId": "cab81c4a-01e8-41ec-a024-9004d5b48106"
      },
      "execution_count": 20,
      "outputs": [
        {
          "output_type": "execute_result",
          "data": {
            "text/plain": [
              "tensor([[0.4246, 0.0741, 0.2301, 0.4343],\n",
              "        [0.0805, 0.5112, 0.6793, 0.3658],\n",
              "        [0.8298, 0.5581, 0.9291, 0.9069]])"
            ]
          },
          "metadata": {},
          "execution_count": 20
        }
      ]
    },
    {
      "cell_type": "code",
      "source": [
        "tensore_rand2=torch.rand(size=(3,224,224))\n",
        "tensore_rand2"
      ],
      "metadata": {
        "colab": {
          "base_uri": "https://localhost:8080/"
        },
        "id": "PiMJWhaHxx27",
        "outputId": "4f984c85-1e79-4247-e028-dc22f57db05c"
      },
      "execution_count": 21,
      "outputs": [
        {
          "output_type": "execute_result",
          "data": {
            "text/plain": [
              "tensor([[[0.5958, 0.3872, 0.1113,  ..., 0.2802, 0.2286, 0.5099],\n",
              "         [0.0621, 0.8834, 0.1815,  ..., 0.7163, 0.5119, 0.7412],\n",
              "         [0.7458, 0.8984, 0.3680,  ..., 0.7286, 0.2338, 0.0485],\n",
              "         ...,\n",
              "         [0.9801, 0.8495, 0.5946,  ..., 0.4536, 0.1558, 0.9258],\n",
              "         [0.5503, 0.0490, 0.8151,  ..., 0.6480, 0.0651, 0.0039],\n",
              "         [0.4763, 0.7346, 0.0514,  ..., 0.1454, 0.2568, 0.1449]],\n",
              "\n",
              "        [[0.4094, 0.8203, 0.4544,  ..., 0.0801, 0.8554, 0.7827],\n",
              "         [0.6153, 0.3635, 0.2886,  ..., 0.2304, 0.7643, 0.3136],\n",
              "         [0.0838, 0.9243, 0.0287,  ..., 0.4509, 0.9922, 0.9324],\n",
              "         ...,\n",
              "         [0.6215, 0.3525, 0.6980,  ..., 0.0158, 0.0760, 0.2569],\n",
              "         [0.5284, 0.4768, 0.3821,  ..., 0.0971, 0.2260, 0.2630],\n",
              "         [0.5345, 0.8454, 0.6555,  ..., 0.8591, 0.2705, 0.5058]],\n",
              "\n",
              "        [[0.8678, 0.3187, 0.5386,  ..., 0.7938, 0.8558, 0.4755],\n",
              "         [0.4527, 0.2376, 0.5579,  ..., 0.8789, 0.9538, 0.5292],\n",
              "         [0.7935, 0.5739, 0.4434,  ..., 0.5309, 0.4255, 0.6851],\n",
              "         ...,\n",
              "         [0.0170, 0.9881, 0.5437,  ..., 0.3849, 0.2129, 0.3931],\n",
              "         [0.3245, 0.9540, 0.7644,  ..., 0.5898, 0.0276, 0.1464],\n",
              "         [0.4660, 0.4919, 0.6127,  ..., 0.9631, 0.5413, 0.2130]]])"
            ]
          },
          "metadata": {},
          "execution_count": 21
        }
      ]
    },
    {
      "cell_type": "code",
      "source": [
        "tensore_rand2.ndim , tensore_rand2.shape"
      ],
      "metadata": {
        "colab": {
          "base_uri": "https://localhost:8080/"
        },
        "id": "TNbJhmLByJOD",
        "outputId": "828e515c-55e9-4b6a-961b-5ad6c2f473dc"
      },
      "execution_count": 22,
      "outputs": [
        {
          "output_type": "execute_result",
          "data": {
            "text/plain": [
              "(3, torch.Size([3, 224, 224]))"
            ]
          },
          "metadata": {},
          "execution_count": 22
        }
      ]
    },
    {
      "cell_type": "markdown",
      "source": [
        "## zeros or ones arrays useed often to mask biger arrays"
      ],
      "metadata": {
        "id": "x5Ssi8J1z9R8"
      }
    },
    {
      "cell_type": "code",
      "source": [
        "zeros=torch.zeros(size=(3,4))\n",
        "zeros"
      ],
      "metadata": {
        "colab": {
          "base_uri": "https://localhost:8080/"
        },
        "id": "iGAD4OdrycC8",
        "outputId": "b13491b5-e174-4875-90df-b8c007a015ac"
      },
      "execution_count": 23,
      "outputs": [
        {
          "output_type": "execute_result",
          "data": {
            "text/plain": [
              "tensor([[0., 0., 0., 0.],\n",
              "        [0., 0., 0., 0.],\n",
              "        [0., 0., 0., 0.]])"
            ]
          },
          "metadata": {},
          "execution_count": 23
        }
      ]
    },
    {
      "cell_type": "code",
      "source": [
        "ones=torch.ones(size=(3,4))\n",
        "ones"
      ],
      "metadata": {
        "colab": {
          "base_uri": "https://localhost:8080/"
        },
        "id": "Wss6DNfnzxUL",
        "outputId": "32be590d-7ba9-4b3c-9426-d24f30563f6b"
      },
      "execution_count": 24,
      "outputs": [
        {
          "output_type": "execute_result",
          "data": {
            "text/plain": [
              "tensor([[1., 1., 1., 1.],\n",
              "        [1., 1., 1., 1.],\n",
              "        [1., 1., 1., 1.]])"
            ]
          },
          "metadata": {},
          "execution_count": 24
        }
      ]
    },
    {
      "cell_type": "code",
      "source": [
        "aranges=torch.arange(1,11,1)\n",
        "aranges"
      ],
      "metadata": {
        "colab": {
          "base_uri": "https://localhost:8080/"
        },
        "id": "qXAetFmyz4tq",
        "outputId": "59e1426a-ade5-4475-9476-c14cde7a3924"
      },
      "execution_count": 25,
      "outputs": [
        {
          "output_type": "execute_result",
          "data": {
            "text/plain": [
              "tensor([ 1,  2,  3,  4,  5,  6,  7,  8,  9, 10])"
            ]
          },
          "metadata": {},
          "execution_count": 25
        }
      ]
    },
    {
      "cell_type": "code",
      "source": [
        "zeros_like=torch.zeros_like(input=aranges)\n",
        "zeros_like"
      ],
      "metadata": {
        "colab": {
          "base_uri": "https://localhost:8080/"
        },
        "id": "1UsF3L0a0ruN",
        "outputId": "4a7b6ec8-557f-4a49-f16e-2bab2731f3c1"
      },
      "execution_count": 26,
      "outputs": [
        {
          "output_type": "execute_result",
          "data": {
            "text/plain": [
              "tensor([0, 0, 0, 0, 0, 0, 0, 0, 0, 0])"
            ]
          },
          "metadata": {},
          "execution_count": 26
        }
      ]
    },
    {
      "cell_type": "markdown",
      "source": [
        "### Tensor datatypes\n",
        "**Note:** Tensor datatypes is one of the 3 big errors you'll run into with PyTorch\n",
        "& deep learning:\n",
        "1. Tensors not right datatype\n",
        "2. Tensors not right shape\n",
        "3. Tensors not on the right device"
      ],
      "metadata": {
        "id": "Lcoo9keUO6iO"
      }
    },
    {
      "cell_type": "code",
      "source": [
        "float_32_tensor=torch.tensor([3.0,6.0,9.0],\n",
        "                             dtype=None,\n",
        "                             device=None,\n",
        "                             requires_grad=False)\n",
        "float_32_tensor"
      ],
      "metadata": {
        "id": "1eShMBWC10O9",
        "colab": {
          "base_uri": "https://localhost:8080/"
        },
        "outputId": "1104b25e-1577-4166-86bb-76f4ee3a3b7d"
      },
      "execution_count": 27,
      "outputs": [
        {
          "output_type": "execute_result",
          "data": {
            "text/plain": [
              "tensor([3., 6., 9.])"
            ]
          },
          "metadata": {},
          "execution_count": 27
        }
      ]
    },
    {
      "cell_type": "code",
      "source": [
        "float_16_tensor=float_32_tensor.type(torch.float16)\n",
        "float_16_tensor"
      ],
      "metadata": {
        "colab": {
          "base_uri": "https://localhost:8080/"
        },
        "id": "N5h3XyGpPT70",
        "outputId": "f6f7ad13-08d8-4705-9144-08d062d4e3db"
      },
      "execution_count": 28,
      "outputs": [
        {
          "output_type": "execute_result",
          "data": {
            "text/plain": [
              "tensor([3., 6., 9.], dtype=torch.float16)"
            ]
          },
          "metadata": {},
          "execution_count": 28
        }
      ]
    },
    {
      "cell_type": "code",
      "source": [
        "float_16_tensor*float_32_tensor ## why this work?"
      ],
      "metadata": {
        "colab": {
          "base_uri": "https://localhost:8080/"
        },
        "id": "P8mXggQCQRoF",
        "outputId": "1a24d22b-1dee-43ee-8e24-c5509a434bd2"
      },
      "execution_count": 29,
      "outputs": [
        {
          "output_type": "execute_result",
          "data": {
            "text/plain": [
              "tensor([ 9., 36., 81.])"
            ]
          },
          "metadata": {},
          "execution_count": 29
        }
      ]
    },
    {
      "cell_type": "code",
      "source": [
        "int_32_tensor=torch.tensor([1,2,3],dtype=torch.int32)\n",
        "int_32_tensor"
      ],
      "metadata": {
        "id": "HxkmWW3sQoAs",
        "colab": {
          "base_uri": "https://localhost:8080/"
        },
        "outputId": "2efc7b53-969c-40c4-bbcb-cd342ba1fee4"
      },
      "execution_count": 30,
      "outputs": [
        {
          "output_type": "execute_result",
          "data": {
            "text/plain": [
              "tensor([1, 2, 3], dtype=torch.int32)"
            ]
          },
          "metadata": {},
          "execution_count": 30
        }
      ]
    },
    {
      "cell_type": "code",
      "source": [
        "float_16_tensor*int_32_tensor"
      ],
      "metadata": {
        "colab": {
          "base_uri": "https://localhost:8080/"
        },
        "id": "H3gvKmr8E5wk",
        "outputId": "7d2c79a7-188d-4387-e011-ccaf2b590d20"
      },
      "execution_count": 31,
      "outputs": [
        {
          "output_type": "execute_result",
          "data": {
            "text/plain": [
              "tensor([ 3., 12., 27.], dtype=torch.float16)"
            ]
          },
          "metadata": {},
          "execution_count": 31
        }
      ]
    },
    {
      "cell_type": "code",
      "source": [
        "some_tensor=torch.rand(3,4)\n",
        "some_tensor"
      ],
      "metadata": {
        "colab": {
          "base_uri": "https://localhost:8080/"
        },
        "id": "LSvXYJCyE_sz",
        "outputId": "467a9321-ac19-4edf-8d2c-807ac9f26a1e"
      },
      "execution_count": 32,
      "outputs": [
        {
          "output_type": "execute_result",
          "data": {
            "text/plain": [
              "tensor([[0.2235, 0.2705, 0.7323, 0.7114],\n",
              "        [0.6024, 0.0729, 0.0480, 0.4144],\n",
              "        [0.8322, 0.0618, 0.8275, 0.8111]])"
            ]
          },
          "metadata": {},
          "execution_count": 32
        }
      ]
    },
    {
      "cell_type": "code",
      "source": [
        "print(some_tensor)\n",
        "print(f\"this is the dtype of tensor: {some_tensor.dtype}\")\n",
        "print(f\"this is the shape of tenosr: {some_tensor.shape}\")\n",
        "print(f\"this is the device of tensor: {some_tensor.device}\")"
      ],
      "metadata": {
        "colab": {
          "base_uri": "https://localhost:8080/"
        },
        "id": "MGbE5HtYGrLU",
        "outputId": "b8921b11-8b73-4028-8b16-784e8967f97e"
      },
      "execution_count": 33,
      "outputs": [
        {
          "output_type": "stream",
          "name": "stdout",
          "text": [
            "tensor([[0.2235, 0.2705, 0.7323, 0.7114],\n",
            "        [0.6024, 0.0729, 0.0480, 0.4144],\n",
            "        [0.8322, 0.0618, 0.8275, 0.8111]])\n",
            "this is the dtype of tensor: torch.float32\n",
            "this is the shape of tenosr: torch.Size([3, 4])\n",
            "this is the device of tensor: cpu\n"
          ]
        }
      ]
    },
    {
      "cell_type": "markdown",
      "source": [
        "##math in tensors"
      ],
      "metadata": {
        "id": "Kobaa0ShG-7F"
      }
    },
    {
      "cell_type": "code",
      "source": [
        "tensor=torch.tensor([1,2,3])\n",
        "tensor"
      ],
      "metadata": {
        "colab": {
          "base_uri": "https://localhost:8080/"
        },
        "id": "GhaZVXKjJfts",
        "outputId": "ec6f381e-da1e-4cc9-8951-5ddcb262dc62"
      },
      "execution_count": 34,
      "outputs": [
        {
          "output_type": "execute_result",
          "data": {
            "text/plain": [
              "tensor([1, 2, 3])"
            ]
          },
          "metadata": {},
          "execution_count": 34
        }
      ]
    },
    {
      "cell_type": "code",
      "source": [
        "tensor+10"
      ],
      "metadata": {
        "colab": {
          "base_uri": "https://localhost:8080/"
        },
        "id": "87nx9CHjJlcM",
        "outputId": "22c548ab-e151-4e38-ec47-4b70bca2c2b9"
      },
      "execution_count": 35,
      "outputs": [
        {
          "output_type": "execute_result",
          "data": {
            "text/plain": [
              "tensor([11, 12, 13])"
            ]
          },
          "metadata": {},
          "execution_count": 35
        }
      ]
    },
    {
      "cell_type": "code",
      "source": [
        "tensor*10"
      ],
      "metadata": {
        "colab": {
          "base_uri": "https://localhost:8080/"
        },
        "id": "X7Brkwm8JoWH",
        "outputId": "6653d758-2fde-41d0-c9b8-c960b2f7fa0d"
      },
      "execution_count": 36,
      "outputs": [
        {
          "output_type": "execute_result",
          "data": {
            "text/plain": [
              "tensor([10, 20, 30])"
            ]
          },
          "metadata": {},
          "execution_count": 36
        }
      ]
    },
    {
      "cell_type": "code",
      "source": [
        "tensor-10"
      ],
      "metadata": {
        "colab": {
          "base_uri": "https://localhost:8080/"
        },
        "id": "ap5cvfK-JoTy",
        "outputId": "2e82347c-7550-43f5-e1e2-2567cdcb636f"
      },
      "execution_count": 37,
      "outputs": [
        {
          "output_type": "execute_result",
          "data": {
            "text/plain": [
              "tensor([-9, -8, -7])"
            ]
          },
          "metadata": {},
          "execution_count": 37
        }
      ]
    },
    {
      "cell_type": "code",
      "source": [
        "torch.add(tensor,10)"
      ],
      "metadata": {
        "colab": {
          "base_uri": "https://localhost:8080/"
        },
        "id": "Zr7U6KnpJoRe",
        "outputId": "27a02e0c-1574-4d2d-ba9f-cd0a3a0bafac"
      },
      "execution_count": 38,
      "outputs": [
        {
          "output_type": "execute_result",
          "data": {
            "text/plain": [
              "tensor([11, 12, 13])"
            ]
          },
          "metadata": {},
          "execution_count": 38
        }
      ]
    },
    {
      "cell_type": "markdown",
      "source": [
        "Matrix multiplication\n",
        "Two main ways of performing multiplication in neural networks and deep learning:\n",
        "1. Element-wise multiplication\n",
        "2. Matrix mutliplication (dot product)\n",
        "More information on multiplying matrices -  https://www.mathsisfun.com/algebra/matrix-multiplying.html\n"
      ],
      "metadata": {
        "id": "0f8EgpQxLI0t"
      }
    },
    {
      "cell_type": "code",
      "source": [
        "%%time\n",
        "torch.matmul(tensor,tensor)\n",
        "## since the total time is 10 time or more less than for loop this method is too better"
      ],
      "metadata": {
        "colab": {
          "base_uri": "https://localhost:8080/"
        },
        "id": "AThTEaGnJoPS",
        "outputId": "9e68653a-f6e4-47f9-9259-17e5f86d6b96"
      },
      "execution_count": 39,
      "outputs": [
        {
          "output_type": "stream",
          "name": "stdout",
          "text": [
            "CPU times: user 742 µs, sys: 0 ns, total: 742 µs\n",
            "Wall time: 13.2 ms\n"
          ]
        },
        {
          "output_type": "execute_result",
          "data": {
            "text/plain": [
              "tensor(14)"
            ]
          },
          "metadata": {},
          "execution_count": 39
        }
      ]
    },
    {
      "cell_type": "code",
      "source": [
        "%%time\n",
        "value = 0\n",
        "for i in range(len(tensor)):\n",
        "  value += tensor[i] * tensor[i]\n",
        "print(value)"
      ],
      "metadata": {
        "colab": {
          "base_uri": "https://localhost:8080/"
        },
        "id": "4_CLfEtKJoNE",
        "outputId": "f5120a8c-1418-42cc-aed5-53eae0ca598f"
      },
      "execution_count": 40,
      "outputs": [
        {
          "output_type": "stream",
          "name": "stdout",
          "text": [
            "tensor(14)\n",
            "CPU times: user 1.29 ms, sys: 914 µs, total: 2.21 ms\n",
            "Wall time: 2.47 ms\n"
          ]
        }
      ]
    },
    {
      "cell_type": "markdown",
      "source": [
        "* short cut for torch.matmul is @\n",
        "1. the first rule in matrxt multiblication is the inner dimintion should be equla\n",
        "- for example:\n",
        "* '(3,2)'@'(3,2)' not work\n",
        "* '(3,2)'@'(2,3)' will work\n",
        "* '(2,3)'@'(3,2)' will work\n",
        "2. the resultin is the outer dimintion"
      ],
      "metadata": {
        "id": "z56ejk-LV4Xp"
      }
    },
    {
      "cell_type": "code",
      "source": [
        "(torch.rand(3,2) @ torch.rand(2,3) ).shape"
      ],
      "metadata": {
        "colab": {
          "base_uri": "https://localhost:8080/"
        },
        "id": "NEnANCqmJoKp",
        "outputId": "c621e431-5941-4754-ce4c-8c9781f79fc0"
      },
      "execution_count": 41,
      "outputs": [
        {
          "output_type": "execute_result",
          "data": {
            "text/plain": [
              "torch.Size([3, 3])"
            ]
          },
          "metadata": {},
          "execution_count": 41
        }
      ]
    },
    {
      "cell_type": "markdown",
      "source": [
        "#the transpose is importatint how to use it"
      ],
      "metadata": {
        "id": "TJHRb0tkJoIF"
      }
    },
    {
      "cell_type": "code",
      "source": [
        "tensor=torch.rand(3,2)\n",
        "tensor"
      ],
      "metadata": {
        "colab": {
          "base_uri": "https://localhost:8080/"
        },
        "id": "B_RjhCGJbZIw",
        "outputId": "836c28ef-afc5-4256-84dc-b14889faafeb"
      },
      "execution_count": 42,
      "outputs": [
        {
          "output_type": "execute_result",
          "data": {
            "text/plain": [
              "tensor([[0.8453, 0.9532],\n",
              "        [0.5906, 0.9629],\n",
              "        [0.6374, 0.1191]])"
            ]
          },
          "metadata": {},
          "execution_count": 42
        }
      ]
    },
    {
      "cell_type": "code",
      "source": [
        "tensor @ tensor.T"
      ],
      "metadata": {
        "colab": {
          "base_uri": "https://localhost:8080/"
        },
        "id": "sSuSBiEdbgZw",
        "outputId": "7174b628-2492-456a-c8d2-30173fdfd64e"
      },
      "execution_count": 43,
      "outputs": [
        {
          "output_type": "execute_result",
          "data": {
            "text/plain": [
              "tensor([[1.6232, 1.4171, 0.6523],\n",
              "        [1.4171, 1.2759, 0.4911],\n",
              "        [0.6523, 0.4911, 0.4204]])"
            ]
          },
          "metadata": {},
          "execution_count": 43
        }
      ]
    },
    {
      "cell_type": "code",
      "source": [
        "x=torch.arange(0,100,10)\n",
        "x"
      ],
      "metadata": {
        "id": "wbO8FvOPbkEA",
        "colab": {
          "base_uri": "https://localhost:8080/"
        },
        "outputId": "de7428d2-d37e-422d-e96b-5ea6e7cf63e0"
      },
      "execution_count": 44,
      "outputs": [
        {
          "output_type": "execute_result",
          "data": {
            "text/plain": [
              "tensor([ 0, 10, 20, 30, 40, 50, 60, 70, 80, 90])"
            ]
          },
          "metadata": {},
          "execution_count": 44
        }
      ]
    },
    {
      "cell_type": "code",
      "source": [
        "torch.max(x),x.max()"
      ],
      "metadata": {
        "colab": {
          "base_uri": "https://localhost:8080/"
        },
        "id": "oYcowH7iEpMQ",
        "outputId": "e4d5804a-3dc0-4baa-e09c-e8379aa4e99c"
      },
      "execution_count": 45,
      "outputs": [
        {
          "output_type": "execute_result",
          "data": {
            "text/plain": [
              "(tensor(90), tensor(90))"
            ]
          },
          "metadata": {},
          "execution_count": 45
        }
      ]
    },
    {
      "cell_type": "code",
      "source": [
        "torch.min(x),x.min()"
      ],
      "metadata": {
        "colab": {
          "base_uri": "https://localhost:8080/"
        },
        "id": "AtOvCwbbEvq-",
        "outputId": "7b8060b3-a955-4ad9-a36a-a58d8f491f72"
      },
      "execution_count": 46,
      "outputs": [
        {
          "output_type": "execute_result",
          "data": {
            "text/plain": [
              "(tensor(0), tensor(0))"
            ]
          },
          "metadata": {},
          "execution_count": 46
        }
      ]
    },
    {
      "cell_type": "code",
      "source": [
        "torch.mean(x.type(torch.float32)),x.type(torch.float32).mean()"
      ],
      "metadata": {
        "colab": {
          "base_uri": "https://localhost:8080/"
        },
        "id": "C4uBji8UEz0X",
        "outputId": "1672bce0-23a5-4d61-a4d6-db3cdef37593"
      },
      "execution_count": 47,
      "outputs": [
        {
          "output_type": "execute_result",
          "data": {
            "text/plain": [
              "(tensor(45.), tensor(45.))"
            ]
          },
          "metadata": {},
          "execution_count": 47
        }
      ]
    },
    {
      "cell_type": "code",
      "source": [
        "torch.sum(x),x.sum()"
      ],
      "metadata": {
        "colab": {
          "base_uri": "https://localhost:8080/"
        },
        "id": "LZNk-7RYE3K_",
        "outputId": "4095d325-7b53-4285-b200-a1faa771500d"
      },
      "execution_count": 48,
      "outputs": [
        {
          "output_type": "execute_result",
          "data": {
            "text/plain": [
              "(tensor(450), tensor(450))"
            ]
          },
          "metadata": {},
          "execution_count": 48
        }
      ]
    },
    {
      "cell_type": "code",
      "source": [
        "x.argmax()"
      ],
      "metadata": {
        "colab": {
          "base_uri": "https://localhost:8080/"
        },
        "id": "EZyp-ixXF6uX",
        "outputId": "df53d05f-620a-4949-b66f-7309a7016d4d"
      },
      "execution_count": 49,
      "outputs": [
        {
          "output_type": "execute_result",
          "data": {
            "text/plain": [
              "tensor(9)"
            ]
          },
          "metadata": {},
          "execution_count": 49
        }
      ]
    },
    {
      "cell_type": "code",
      "source": [
        "x.argmin()"
      ],
      "metadata": {
        "id": "0dNs-nNvG4yn",
        "outputId": "9f4a834a-d4df-4b65-cdd1-3d98a0939863",
        "colab": {
          "base_uri": "https://localhost:8080/"
        }
      },
      "execution_count": 50,
      "outputs": [
        {
          "output_type": "execute_result",
          "data": {
            "text/plain": [
              "tensor(0)"
            ]
          },
          "metadata": {},
          "execution_count": 50
        }
      ]
    },
    {
      "cell_type": "markdown",
      "source": [
        "##Reshaping, stacking, squeezing and unsqueezing tensors\n",
        "* Reshaping - reshapes an input tensor to a defined shape\n",
        "View\n",
        "* Return a view of an input tensor of certain shape but keep the same memory as the original tensor\n",
        "Stacking\n",
        "* combine multiple tensors on top of each other (vstack) or side by side (hstack)\n",
        "\n",
        "* Squeeze removes all 1 dimensions from a tensor\n",
        "\n",
        "* Unsqueeze add a 1 dimension to a target tensor\n",
        "\n",
        "* Permute Return a view of the input with dimensions permuted (swapped) in a certain way"
      ],
      "metadata": {
        "id": "muIaSSToG6Lf"
      }
    },
    {
      "cell_type": "code",
      "source": [
        "tensor=torch.arange(1,10)\n",
        "tensor,tensor.shape"
      ],
      "metadata": {
        "id": "XmW19RUtdl6E",
        "colab": {
          "base_uri": "https://localhost:8080/"
        },
        "outputId": "ab1d478c-1a31-45b8-bc95-f2d772278609"
      },
      "execution_count": 51,
      "outputs": [
        {
          "output_type": "execute_result",
          "data": {
            "text/plain": [
              "(tensor([1, 2, 3, 4, 5, 6, 7, 8, 9]), torch.Size([9]))"
            ]
          },
          "metadata": {},
          "execution_count": 51
        }
      ]
    },
    {
      "cell_type": "code",
      "source": [
        "tensor_reshape=tensor.reshape(1,9)\n",
        "tensor_reshape,tensor_reshape.shape"
      ],
      "metadata": {
        "colab": {
          "base_uri": "https://localhost:8080/"
        },
        "id": "lZHHyYTH0s5a",
        "outputId": "162ed47c-db50-4969-c73f-534e166b2ade"
      },
      "execution_count": 52,
      "outputs": [
        {
          "output_type": "execute_result",
          "data": {
            "text/plain": [
              "(tensor([[1, 2, 3, 4, 5, 6, 7, 8, 9]]), torch.Size([1, 9]))"
            ]
          },
          "metadata": {},
          "execution_count": 52
        }
      ]
    },
    {
      "cell_type": "code",
      "source": [
        "tensor_reshape=tensor.reshape(3,3)\n",
        "tensor_reshape,tensor_reshape.shape"
      ],
      "metadata": {
        "colab": {
          "base_uri": "https://localhost:8080/"
        },
        "id": "-i6UWn8K04pw",
        "outputId": "de3440bb-ee98-4b0b-8147-e77b54d2ad75"
      },
      "execution_count": 53,
      "outputs": [
        {
          "output_type": "execute_result",
          "data": {
            "text/plain": [
              "(tensor([[1, 2, 3],\n",
              "         [4, 5, 6],\n",
              "         [7, 8, 9]]),\n",
              " torch.Size([3, 3]))"
            ]
          },
          "metadata": {},
          "execution_count": 53
        }
      ]
    },
    {
      "cell_type": "code",
      "source": [
        "tensor , tensor_reshape"
      ],
      "metadata": {
        "colab": {
          "base_uri": "https://localhost:8080/"
        },
        "id": "5BkmVSRD0zKP",
        "outputId": "5689e0d5-46d7-4871-f424-7a54f0ee220e"
      },
      "execution_count": 54,
      "outputs": [
        {
          "output_type": "execute_result",
          "data": {
            "text/plain": [
              "(tensor([1, 2, 3, 4, 5, 6, 7, 8, 9]),\n",
              " tensor([[1, 2, 3],\n",
              "         [4, 5, 6],\n",
              "         [7, 8, 9]]))"
            ]
          },
          "metadata": {},
          "execution_count": 54
        }
      ]
    },
    {
      "cell_type": "code",
      "source": [
        "tensor[0]=66\n",
        "tensor , tensor_reshape"
      ],
      "metadata": {
        "colab": {
          "base_uri": "https://localhost:8080/"
        },
        "id": "NbaSurwY6IQC",
        "outputId": "6278a082-2ec6-4845-d5dd-6ae1bf7a5b91"
      },
      "execution_count": 55,
      "outputs": [
        {
          "output_type": "execute_result",
          "data": {
            "text/plain": [
              "(tensor([66,  2,  3,  4,  5,  6,  7,  8,  9]),\n",
              " tensor([[66,  2,  3],\n",
              "         [ 4,  5,  6],\n",
              "         [ 7,  8,  9]]))"
            ]
          },
          "metadata": {},
          "execution_count": 55
        }
      ]
    },
    {
      "cell_type": "code",
      "source": [
        "x=torch.arange(1,10)\n",
        "x ,x.shape"
      ],
      "metadata": {
        "colab": {
          "base_uri": "https://localhost:8080/"
        },
        "id": "6C5dVrka1DFV",
        "outputId": "a2b6ea37-1a21-4bee-ca54-4c983682e7e0"
      },
      "execution_count": 56,
      "outputs": [
        {
          "output_type": "execute_result",
          "data": {
            "text/plain": [
              "(tensor([1, 2, 3, 4, 5, 6, 7, 8, 9]), torch.Size([9]))"
            ]
          },
          "metadata": {},
          "execution_count": 56
        }
      ]
    },
    {
      "cell_type": "code",
      "source": [
        "z=x.view(3,3)\n",
        "z"
      ],
      "metadata": {
        "colab": {
          "base_uri": "https://localhost:8080/"
        },
        "id": "y0-xT3Ev1DC-",
        "outputId": "f260eb7e-f763-4122-ffa4-d7e7d543402b"
      },
      "execution_count": 57,
      "outputs": [
        {
          "output_type": "execute_result",
          "data": {
            "text/plain": [
              "tensor([[1, 2, 3],\n",
              "        [4, 5, 6],\n",
              "        [7, 8, 9]])"
            ]
          },
          "metadata": {},
          "execution_count": 57
        }
      ]
    },
    {
      "cell_type": "code",
      "source": [
        "x[0]=55\n",
        "x,z\n",
        "#reshape and view do the same"
      ],
      "metadata": {
        "colab": {
          "base_uri": "https://localhost:8080/"
        },
        "id": "EfaM4nPk1DAm",
        "outputId": "2e934739-c073-407d-9dee-e566f0f5d96c"
      },
      "execution_count": 58,
      "outputs": [
        {
          "output_type": "execute_result",
          "data": {
            "text/plain": [
              "(tensor([55,  2,  3,  4,  5,  6,  7,  8,  9]),\n",
              " tensor([[55,  2,  3],\n",
              "         [ 4,  5,  6],\n",
              "         [ 7,  8,  9]]))"
            ]
          },
          "metadata": {},
          "execution_count": 58
        }
      ]
    },
    {
      "cell_type": "markdown",
      "source": [
        "**contiguous memore** : \"each row follows the previous one directly in memory\"\n",
        "* view : contiguous it work fine but if not not work\n",
        "* reshape : if not contiguous it rearnge it and work fine.\n",
        "\n",
        "**then what make tensor not contiguous ??**"
      ],
      "metadata": {
        "id": "vqFzMTz7ELzl"
      }
    },
    {
      "cell_type": "code",
      "source": [
        "a = torch.tensor([1, 2, 3])\n",
        "b = torch.tensor([4, 5, 6])\n",
        "x = torch.stack((a, b))\n",
        "x,x.shape"
      ],
      "metadata": {
        "colab": {
          "base_uri": "https://localhost:8080/"
        },
        "id": "mMFAySxJ1C-N",
        "outputId": "494c1ebd-5148-4368-dbc5-be7c92843962"
      },
      "execution_count": 59,
      "outputs": [
        {
          "output_type": "execute_result",
          "data": {
            "text/plain": [
              "(tensor([[1, 2, 3],\n",
              "         [4, 5, 6]]),\n",
              " torch.Size([2, 3]))"
            ]
          },
          "metadata": {},
          "execution_count": 59
        }
      ]
    },
    {
      "cell_type": "markdown",
      "source": [
        "the .stack() functions add two tensore together\n",
        "* but using dim attribute behave like: \"where the index of new diminshin will be\"\n",
        "\n",
        "  and this shape how the output will be"
      ],
      "metadata": {
        "id": "cglARpiSTyro"
      }
    },
    {
      "cell_type": "code",
      "source": [
        "x = torch.stack((a, b),dim=0)\n",
        "x,x.shape"
      ],
      "metadata": {
        "colab": {
          "base_uri": "https://localhost:8080/"
        },
        "id": "inOhQ-hp1C7q",
        "outputId": "05b3838b-984b-497d-fa60-5bc43ecc318b"
      },
      "execution_count": 60,
      "outputs": [
        {
          "output_type": "execute_result",
          "data": {
            "text/plain": [
              "(tensor([[1, 2, 3],\n",
              "         [4, 5, 6]]),\n",
              " torch.Size([2, 3]))"
            ]
          },
          "metadata": {},
          "execution_count": 60
        }
      ]
    },
    {
      "cell_type": "code",
      "source": [
        "x = torch.stack((a, b),dim=1)\n",
        "x,x.shape"
      ],
      "metadata": {
        "colab": {
          "base_uri": "https://localhost:8080/"
        },
        "id": "eZkE_4h71C5J",
        "outputId": "5d32ff26-1653-4a2e-b4c0-0a816be382a2"
      },
      "execution_count": 61,
      "outputs": [
        {
          "output_type": "execute_result",
          "data": {
            "text/plain": [
              "(tensor([[1, 4],\n",
              "         [2, 5],\n",
              "         [3, 6]]),\n",
              " torch.Size([3, 2]))"
            ]
          },
          "metadata": {},
          "execution_count": 61
        }
      ]
    },
    {
      "cell_type": "markdown",
      "source": [
        "### try higher diminshions"
      ],
      "metadata": {
        "id": "nBluMjaZVqow"
      }
    },
    {
      "cell_type": "code",
      "source": [
        "a = torch.randn(2, 3)\n",
        "b = torch.randn(2, 3)\n",
        "d = torch.randn(2, 3)\n",
        "print(f\"The stack when dim is 0 :\\n{torch.stack((a, b, d), dim=0)}\")\n",
        "print(f\"The shpae of stack when The dim is 0 :\\n{torch.stack((a, b, d), dim=0).shape}\")\n",
        "print(\"************************************************************************************************\")\n",
        "print(f\"The stack when dim is 1 :\\n{torch.stack((a, b, d), dim=1)}\")\n",
        "print(f\"The shpae of stack when The dim is 1 :\\n{torch.stack((a, b, d), dim=1).shape}\")\n",
        "print(\"************************************************************************************************\")\n",
        "print(f\"The stack when dim is 2 :\\n{torch.stack((a, b, d), dim=2)}\")\n",
        "print(f\"The shpae of stack when The dim is 2 :\\n{torch.stack((a, b, d), dim=2).shape}\")\n",
        "## the dim = 3 cuse error"
      ],
      "metadata": {
        "colab": {
          "base_uri": "https://localhost:8080/"
        },
        "id": "V_c2ktP91C24",
        "outputId": "bed2e9a0-bb3c-4cb2-d7a9-13ee59e11b01"
      },
      "execution_count": 62,
      "outputs": [
        {
          "output_type": "stream",
          "name": "stdout",
          "text": [
            "The stack when dim is 0 :\n",
            "tensor([[[ 0.3097, -0.4222,  0.4748],\n",
            "         [-2.4333,  1.8548,  1.5133]],\n",
            "\n",
            "        [[-0.9410, -0.6206,  1.5652],\n",
            "         [ 0.4664, -2.0762, -1.6407]],\n",
            "\n",
            "        [[-0.8835,  1.4499,  0.6416],\n",
            "         [ 0.0332, -0.5398,  0.7937]]])\n",
            "The shpae of stack when The dim is 0 :\n",
            "torch.Size([3, 2, 3])\n",
            "************************************************************************************************\n",
            "The stack when dim is 1 :\n",
            "tensor([[[ 0.3097, -0.4222,  0.4748],\n",
            "         [-0.9410, -0.6206,  1.5652],\n",
            "         [-0.8835,  1.4499,  0.6416]],\n",
            "\n",
            "        [[-2.4333,  1.8548,  1.5133],\n",
            "         [ 0.4664, -2.0762, -1.6407],\n",
            "         [ 0.0332, -0.5398,  0.7937]]])\n",
            "The shpae of stack when The dim is 1 :\n",
            "torch.Size([2, 3, 3])\n",
            "************************************************************************************************\n",
            "The stack when dim is 2 :\n",
            "tensor([[[ 0.3097, -0.9410, -0.8835],\n",
            "         [-0.4222, -0.6206,  1.4499],\n",
            "         [ 0.4748,  1.5652,  0.6416]],\n",
            "\n",
            "        [[-2.4333,  0.4664,  0.0332],\n",
            "         [ 1.8548, -2.0762, -0.5398],\n",
            "         [ 1.5133, -1.6407,  0.7937]]])\n",
            "The shpae of stack when The dim is 2 :\n",
            "torch.Size([2, 3, 3])\n"
          ]
        }
      ]
    },
    {
      "cell_type": "markdown",
      "source": [
        "###the squeeze tensors"
      ],
      "metadata": {
        "id": "Afad0RE2Fb5z"
      }
    },
    {
      "cell_type": "code",
      "source": [
        "tensor=torch.arange(1,10).reshape(1,9)\n",
        "tensor, tensor.shape\n",
        "\n",
        "print(f\"the tensore before squezze:{tensor}\")\n",
        "print(f\"the shape before squezze:{tensor.shape}\")\n",
        "print(\"************************************************************************************************\")\n",
        "print(f\"the tensore after squezze:{tensor.squeeze()}\")\n",
        "print(f\"the shape after squezze:{tensor.squeeze().shape}\")"
      ],
      "metadata": {
        "colab": {
          "base_uri": "https://localhost:8080/"
        },
        "id": "AGUHT3XJdViK",
        "outputId": "b00ab4ce-c240-4d4b-b98f-41f5ad658976"
      },
      "execution_count": 63,
      "outputs": [
        {
          "output_type": "stream",
          "name": "stdout",
          "text": [
            "the tensore before squezze:tensor([[1, 2, 3, 4, 5, 6, 7, 8, 9]])\n",
            "the shape before squezze:torch.Size([1, 9])\n",
            "************************************************************************************************\n",
            "the tensore after squezze:tensor([1, 2, 3, 4, 5, 6, 7, 8, 9])\n",
            "the shape after squezze:torch.Size([9])\n"
          ]
        }
      ]
    },
    {
      "cell_type": "code",
      "source": [
        "tensor=torch.arange(1,10)\n",
        "tensor, tensor.shape\n",
        "\n",
        "print(f\"the tensore before unsquezze:{tensor}\")\n",
        "print(f\"the shape before unsquezze:{tensor.shape}\")\n",
        "print(\"************************************************************************************************\")\n",
        "print(f\"the tensore after unsquezze dim = 0:{tensor.unsqueeze(dim=0)}\")\n",
        "print(f\"the shape after unsquezze dim = 0:{tensor.unsqueeze(dim=0).shape}\")\n",
        "print(\"************************************************************************************************\")\n",
        "print(f\"the tensore after unsquezze dim = 1:{tensor.unsqueeze(dim=1)}\")\n",
        "print(f\"the shape after unsquezze dim = 1:{tensor.unsqueeze(dim=1).shape}\")"
      ],
      "metadata": {
        "colab": {
          "base_uri": "https://localhost:8080/"
        },
        "id": "KoxLGss2detR",
        "outputId": "ccee2a90-2802-41d4-ee10-c4d50cef2518"
      },
      "execution_count": 64,
      "outputs": [
        {
          "output_type": "stream",
          "name": "stdout",
          "text": [
            "the tensore before unsquezze:tensor([1, 2, 3, 4, 5, 6, 7, 8, 9])\n",
            "the shape before unsquezze:torch.Size([9])\n",
            "************************************************************************************************\n",
            "the tensore after unsquezze dim = 0:tensor([[1, 2, 3, 4, 5, 6, 7, 8, 9]])\n",
            "the shape after unsquezze dim = 0:torch.Size([1, 9])\n",
            "************************************************************************************************\n",
            "the tensore after unsquezze dim = 1:tensor([[1],\n",
            "        [2],\n",
            "        [3],\n",
            "        [4],\n",
            "        [5],\n",
            "        [6],\n",
            "        [7],\n",
            "        [8],\n",
            "        [9]])\n",
            "the shape after unsquezze dim = 1:torch.Size([9, 1])\n"
          ]
        }
      ]
    },
    {
      "cell_type": "code",
      "source": [
        "orginal_tensor=torch.rand(size=(5,6,7))\n",
        "tranc_tensor=orginal_tensor.permute(2,0,1)\n",
        "print(f\"orginal_tensor shape:{orginal_tensor.shape}\")\n",
        "print(f\"trans_tensor shape:{tranc_tensor.shape}\")\n",
        "print(f\"orginal_tensor shape:{orginal_tensor.shape}\")\n",
        "## poth share the same memory but have diffrent view\n",
        "print(f\"the index on orginal tensor:{orginal_tensor[0,0,0]}\")\n",
        "print(f\"the index on trans_tensor:{tranc_tensor[0,0,0]}\")\n",
        "orginal_tensor[0,0,0]=2\n",
        "print(f\"the index on orginal tensor after change:{orginal_tensor[0,0,0]}\")\n",
        "print(f\"the index on trans_tensor after change:{tranc_tensor[0,0,0]}\")\n",
        "\n"
      ],
      "metadata": {
        "colab": {
          "base_uri": "https://localhost:8080/"
        },
        "id": "wzHP_XAodqEx",
        "outputId": "757fb050-cce6-4ff0-f93e-a784936648f9"
      },
      "execution_count": 65,
      "outputs": [
        {
          "output_type": "stream",
          "name": "stdout",
          "text": [
            "orginal_tensor shape:torch.Size([5, 6, 7])\n",
            "trans_tensor shape:torch.Size([7, 5, 6])\n",
            "orginal_tensor shape:torch.Size([5, 6, 7])\n",
            "the index on orginal tensor:0.6841785311698914\n",
            "the index on trans_tensor:0.6841785311698914\n",
            "the index on orginal tensor after change:2.0\n",
            "the index on trans_tensor after change:2.0\n"
          ]
        }
      ]
    },
    {
      "cell_type": "markdown",
      "source": [
        "# indexing"
      ],
      "metadata": {
        "id": "RLxhRJ7FivHj"
      }
    },
    {
      "cell_type": "code",
      "source": [
        "x=torch.arange(1,10).reshape(1,3,3)\n",
        "x,x.shape"
      ],
      "metadata": {
        "colab": {
          "base_uri": "https://localhost:8080/"
        },
        "id": "TKQez6iEFIMZ",
        "outputId": "c021bb0d-09a0-482d-ad2e-d285665564de"
      },
      "execution_count": 67,
      "outputs": [
        {
          "output_type": "execute_result",
          "data": {
            "text/plain": [
              "(tensor([[[1, 2, 3],\n",
              "          [4, 5, 6],\n",
              "          [7, 8, 9]]]),\n",
              " torch.Size([1, 3, 3]))"
            ]
          },
          "metadata": {},
          "execution_count": 67
        }
      ]
    },
    {
      "cell_type": "code",
      "source": [
        "x[0]"
      ],
      "metadata": {
        "colab": {
          "base_uri": "https://localhost:8080/"
        },
        "id": "FvJmVKxLFJt7",
        "outputId": "bf4718dc-ff70-4dc5-ca67-6cb7d59d7473"
      },
      "execution_count": 68,
      "outputs": [
        {
          "output_type": "execute_result",
          "data": {
            "text/plain": [
              "tensor([[1, 2, 3],\n",
              "        [4, 5, 6],\n",
              "        [7, 8, 9]])"
            ]
          },
          "metadata": {},
          "execution_count": 68
        }
      ]
    },
    {
      "cell_type": "code",
      "source": [
        "x[0][0]"
      ],
      "metadata": {
        "colab": {
          "base_uri": "https://localhost:8080/"
        },
        "id": "GcEIdYcMFJrZ",
        "outputId": "244dd41a-7e5e-40d3-f03d-b8646ae146e6"
      },
      "execution_count": 69,
      "outputs": [
        {
          "output_type": "execute_result",
          "data": {
            "text/plain": [
              "tensor([1, 2, 3])"
            ]
          },
          "metadata": {},
          "execution_count": 69
        }
      ]
    },
    {
      "cell_type": "code",
      "source": [
        "#seperte [n][n][n] is equal to [n,n,n]\n",
        "x[0,0,0]"
      ],
      "metadata": {
        "colab": {
          "base_uri": "https://localhost:8080/"
        },
        "id": "vAU7Kd5eFJom",
        "outputId": "ae201924-0f88-4d03-e1d9-43cdfcc82649"
      },
      "execution_count": 72,
      "outputs": [
        {
          "output_type": "execute_result",
          "data": {
            "text/plain": [
              "tensor(1)"
            ]
          },
          "metadata": {},
          "execution_count": 72
        }
      ]
    },
    {
      "cell_type": "code",
      "source": [
        "# we use : to say select all elemnt in this diminshine\n",
        "x[:,0]"
      ],
      "metadata": {
        "colab": {
          "base_uri": "https://localhost:8080/"
        },
        "id": "EhVnATtyFJly",
        "outputId": "7ace62f2-4d65-4662-91a9-1014dfab2ed5"
      },
      "execution_count": 73,
      "outputs": [
        {
          "output_type": "execute_result",
          "data": {
            "text/plain": [
              "tensor([[1, 2, 3]])"
            ]
          },
          "metadata": {},
          "execution_count": 73
        }
      ]
    },
    {
      "cell_type": "code",
      "source": [
        "new=torch.arange(11,20).reshape(1,3,3)\n",
        "x=torch.cat((x,new),dim=0)\n",
        "x"
      ],
      "metadata": {
        "colab": {
          "base_uri": "https://localhost:8080/"
        },
        "id": "EySmPIdTFJjA",
        "outputId": "8deb378f-f478-4a09-f510-51faa11f3cb0"
      },
      "execution_count": 78,
      "outputs": [
        {
          "output_type": "execute_result",
          "data": {
            "text/plain": [
              "tensor([[[ 1,  2,  3],\n",
              "         [ 4,  5,  6],\n",
              "         [ 7,  8,  9]],\n",
              "\n",
              "        [[11, 12, 13],\n",
              "         [14, 15, 16],\n",
              "         [17, 18, 19]]])"
            ]
          },
          "metadata": {},
          "execution_count": 78
        }
      ]
    },
    {
      "cell_type": "code",
      "source": [
        "x[:,0]"
      ],
      "metadata": {
        "colab": {
          "base_uri": "https://localhost:8080/"
        },
        "id": "R8BmoGZvFJgA",
        "outputId": "63eaf566-d9d1-4d2f-d3e4-64b45cba1be2"
      },
      "execution_count": 79,
      "outputs": [
        {
          "output_type": "execute_result",
          "data": {
            "text/plain": [
              "tensor([[ 1,  2,  3],\n",
              "        [11, 12, 13]])"
            ]
          },
          "metadata": {},
          "execution_count": 79
        }
      ]
    },
    {
      "cell_type": "code",
      "source": [
        "x[:,0,2]"
      ],
      "metadata": {
        "colab": {
          "base_uri": "https://localhost:8080/"
        },
        "id": "1k7zlV8HFJc9",
        "outputId": "6a2c6857-765f-44ba-cfa5-f107d6a6a531"
      },
      "execution_count": 87,
      "outputs": [
        {
          "output_type": "execute_result",
          "data": {
            "text/plain": [
              "tensor([ 3, 13])"
            ]
          },
          "metadata": {},
          "execution_count": 87
        }
      ]
    },
    {
      "cell_type": "markdown",
      "source": [
        "## get start from numpy to tensor"
      ],
      "metadata": {
        "id": "RFanP8y3Qua1"
      }
    },
    {
      "cell_type": "code",
      "source": [
        "import numpy as np\n",
        "array=np.arange(1,8)\n",
        "tensor=torch.from_numpy(array)\n",
        "array,tensor"
      ],
      "metadata": {
        "colab": {
          "base_uri": "https://localhost:8080/"
        },
        "id": "N0B3WiQEFJaK",
        "outputId": "9ddcfe5f-9239-4fb0-9075-70c5b4ef2c34"
      },
      "execution_count": 90,
      "outputs": [
        {
          "output_type": "execute_result",
          "data": {
            "text/plain": [
              "(array([1, 2, 3, 4, 5, 6, 7]), tensor([1, 2, 3, 4, 5, 6, 7]))"
            ]
          },
          "metadata": {},
          "execution_count": 90
        }
      ]
    },
    {
      "cell_type": "code",
      "source": [],
      "metadata": {
        "id": "TtyOoooYFJXP"
      },
      "execution_count": null,
      "outputs": []
    },
    {
      "cell_type": "code",
      "source": [],
      "metadata": {
        "id": "NYMepgf0FJU7"
      },
      "execution_count": null,
      "outputs": []
    },
    {
      "cell_type": "code",
      "source": [],
      "metadata": {
        "id": "fEYvOIrQFJSd"
      },
      "execution_count": null,
      "outputs": []
    },
    {
      "cell_type": "code",
      "source": [],
      "metadata": {
        "id": "EDgqdiLHFJPj"
      },
      "execution_count": null,
      "outputs": []
    },
    {
      "cell_type": "code",
      "source": [],
      "metadata": {
        "id": "ETfTnugmFJMz"
      },
      "execution_count": null,
      "outputs": []
    },
    {
      "cell_type": "code",
      "source": [],
      "metadata": {
        "id": "DFTftcExFJKS"
      },
      "execution_count": null,
      "outputs": []
    }
  ]
}