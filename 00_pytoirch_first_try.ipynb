{
  "nbformat": 4,
  "nbformat_minor": 0,
  "metadata": {
    "colab": {
      "provenance": [],
      "gpuType": "T4",
      "authorship_tag": "ABX9TyNWYC5Tq7AyH6hlEio5btcS",
      "include_colab_link": true
    },
    "kernelspec": {
      "name": "python3",
      "display_name": "Python 3"
    },
    "language_info": {
      "name": "python"
    }
  },
  "cells": [
    {
      "cell_type": "markdown",
      "metadata": {
        "id": "view-in-github",
        "colab_type": "text"
      },
      "source": [
        "<a href=\"https://colab.research.google.com/github/MD2001/Pytorch_Bignnier/blob/main/00_pytoirch_first_try.ipynb\" target=\"_parent\"><img src=\"https://colab.research.google.com/assets/colab-badge.svg\" alt=\"Open In Colab\"/></a>"
      ]
    },
    {
      "cell_type": "markdown",
      "source": [
        "## Title: 00. PyTorch Fundamentals\n",
        "Resource notebook: https://www.learnpytorch.io/00_pytorch_fundamentals/\n",
        "\n",
        "Discussion forum: https://github.com/mrdbourke/pytorch-deep-learning/discussions"
      ],
      "metadata": {
        "id": "0e83aUeWF9Dz"
      }
    },
    {
      "cell_type": "code",
      "execution_count": 1,
      "metadata": {
        "colab": {
          "base_uri": "https://localhost:8080/"
        },
        "id": "22YQ1fs4Fq0N",
        "outputId": "e743867e-809e-415c-f835-d38fa361d1dd"
      },
      "outputs": [
        {
          "output_type": "stream",
          "name": "stdout",
          "text": [
            "2.8.0+cu126\n"
          ]
        }
      ],
      "source": [
        "import torch\n",
        "import pandas as pd\n",
        "import numpy as np\n",
        "import matplotlib.pyplot as plt\n",
        "print(torch.__version__)"
      ]
    },
    {
      "cell_type": "markdown",
      "source": [
        "## introduction\n",
        "### tensors"
      ],
      "metadata": {
        "id": "UOicOkERGZy4"
      }
    },
    {
      "cell_type": "code",
      "source": [
        "#scaler\n",
        "scaler=torch.tensor(7)\n",
        "scaler"
      ],
      "metadata": {
        "colab": {
          "base_uri": "https://localhost:8080/"
        },
        "id": "VciDj-PUHFQS",
        "outputId": "6ce2fff5-2c4f-45da-faec-200c2fb3e20e"
      },
      "execution_count": 2,
      "outputs": [
        {
          "output_type": "execute_result",
          "data": {
            "text/plain": [
              "tensor(7)"
            ]
          },
          "metadata": {},
          "execution_count": 2
        }
      ]
    },
    {
      "cell_type": "code",
      "source": [
        "scaler.shape"
      ],
      "metadata": {
        "colab": {
          "base_uri": "https://localhost:8080/"
        },
        "id": "SPUx3EwaOfaC",
        "outputId": "b265b894-603d-4ee8-b9d6-f9a3f2ae3f82"
      },
      "execution_count": 3,
      "outputs": [
        {
          "output_type": "execute_result",
          "data": {
            "text/plain": [
              "torch.Size([])"
            ]
          },
          "metadata": {},
          "execution_count": 3
        }
      ]
    },
    {
      "cell_type": "code",
      "source": [
        "scaler.ndim"
      ],
      "metadata": {
        "colab": {
          "base_uri": "https://localhost:8080/"
        },
        "id": "JifVtElKOiOx",
        "outputId": "ee29a70e-149e-4a15-9899-f0795e65157e"
      },
      "execution_count": 4,
      "outputs": [
        {
          "output_type": "execute_result",
          "data": {
            "text/plain": [
              "0"
            ]
          },
          "metadata": {},
          "execution_count": 4
        }
      ]
    },
    {
      "cell_type": "code",
      "source": [
        "#Vector\n",
        "Vector=torch.tensor([7,7])\n",
        "Vector"
      ],
      "metadata": {
        "colab": {
          "base_uri": "https://localhost:8080/"
        },
        "id": "7CIzc3JHOrOZ",
        "outputId": "d1d612d6-5561-41b1-f767-ff191c948f7a"
      },
      "execution_count": 5,
      "outputs": [
        {
          "output_type": "execute_result",
          "data": {
            "text/plain": [
              "tensor([7, 7])"
            ]
          },
          "metadata": {},
          "execution_count": 5
        }
      ]
    },
    {
      "cell_type": "code",
      "source": [
        "Vector.shape"
      ],
      "metadata": {
        "colab": {
          "base_uri": "https://localhost:8080/"
        },
        "id": "AE1nhNg0OukR",
        "outputId": "458e5ee2-15b8-495e-dc49-485ba4ff8957"
      },
      "execution_count": 6,
      "outputs": [
        {
          "output_type": "execute_result",
          "data": {
            "text/plain": [
              "torch.Size([2])"
            ]
          },
          "metadata": {},
          "execution_count": 6
        }
      ]
    },
    {
      "cell_type": "code",
      "source": [
        "Vector.ndim"
      ],
      "metadata": {
        "colab": {
          "base_uri": "https://localhost:8080/"
        },
        "id": "ELIcgDtMO-7a",
        "outputId": "242da7d8-7a8a-4c27-8146-31ea46f38ec1"
      },
      "execution_count": 7,
      "outputs": [
        {
          "output_type": "execute_result",
          "data": {
            "text/plain": [
              "1"
            ]
          },
          "metadata": {},
          "execution_count": 7
        }
      ]
    },
    {
      "cell_type": "code",
      "source": [
        "#MATRIX\n",
        "MATRIX =torch.tensor([[1,3],[2,4]])\n",
        "MATRIX"
      ],
      "metadata": {
        "colab": {
          "base_uri": "https://localhost:8080/"
        },
        "id": "lnKrOHGJPD-i",
        "outputId": "0df0d1a9-d9b5-4bab-d4db-49e27f4884c7"
      },
      "execution_count": 8,
      "outputs": [
        {
          "output_type": "execute_result",
          "data": {
            "text/plain": [
              "tensor([[1, 3],\n",
              "        [2, 4]])"
            ]
          },
          "metadata": {},
          "execution_count": 8
        }
      ]
    },
    {
      "cell_type": "code",
      "source": [
        "MATRIX.shape"
      ],
      "metadata": {
        "colab": {
          "base_uri": "https://localhost:8080/"
        },
        "id": "BAAQ128APSFa",
        "outputId": "828cfe71-c36b-491a-83b5-009e1e2c022a"
      },
      "execution_count": 9,
      "outputs": [
        {
          "output_type": "execute_result",
          "data": {
            "text/plain": [
              "torch.Size([2, 2])"
            ]
          },
          "metadata": {},
          "execution_count": 9
        }
      ]
    },
    {
      "cell_type": "code",
      "source": [
        "MATRIX.ndim"
      ],
      "metadata": {
        "colab": {
          "base_uri": "https://localhost:8080/"
        },
        "id": "2tq80fJhPXXS",
        "outputId": "a3f8c8fa-61b2-4d3d-938c-ff99a4f36877"
      },
      "execution_count": 10,
      "outputs": [
        {
          "output_type": "execute_result",
          "data": {
            "text/plain": [
              "2"
            ]
          },
          "metadata": {},
          "execution_count": 10
        }
      ]
    },
    {
      "cell_type": "code",
      "source": [
        "MATRIX[0]"
      ],
      "metadata": {
        "colab": {
          "base_uri": "https://localhost:8080/"
        },
        "id": "Re0pS3G1PgLy",
        "outputId": "527fe311-ffae-4cd4-c7c6-5e283d6f95b1"
      },
      "execution_count": 11,
      "outputs": [
        {
          "output_type": "execute_result",
          "data": {
            "text/plain": [
              "tensor([1, 3])"
            ]
          },
          "metadata": {},
          "execution_count": 11
        }
      ]
    },
    {
      "cell_type": "code",
      "source": [
        "MATRIX[1]"
      ],
      "metadata": {
        "colab": {
          "base_uri": "https://localhost:8080/"
        },
        "id": "IiOfer8RQOfK",
        "outputId": "4071a50c-4f60-4cf5-cbc6-fb2abbc66215"
      },
      "execution_count": 12,
      "outputs": [
        {
          "output_type": "execute_result",
          "data": {
            "text/plain": [
              "tensor([2, 4])"
            ]
          },
          "metadata": {},
          "execution_count": 12
        }
      ]
    },
    {
      "cell_type": "code",
      "source": [
        "#Tensors\n",
        "TENSOR = torch.tensor([[[1,2,3,4],[5,6,7,8],[9,10,11,12]]])\n",
        "TENSOR"
      ],
      "metadata": {
        "colab": {
          "base_uri": "https://localhost:8080/"
        },
        "id": "n25J-YdcQSCK",
        "outputId": "d7fdaa73-8396-441b-cfdf-5506de679f4f"
      },
      "execution_count": 13,
      "outputs": [
        {
          "output_type": "execute_result",
          "data": {
            "text/plain": [
              "tensor([[[ 1,  2,  3,  4],\n",
              "         [ 5,  6,  7,  8],\n",
              "         [ 9, 10, 11, 12]]])"
            ]
          },
          "metadata": {},
          "execution_count": 13
        }
      ]
    },
    {
      "cell_type": "code",
      "source": [
        "TENSOR.shape"
      ],
      "metadata": {
        "colab": {
          "base_uri": "https://localhost:8080/"
        },
        "id": "tkVcZiJnQXxi",
        "outputId": "f1391a1b-9a16-401c-8ad1-b6298907cb50"
      },
      "execution_count": 14,
      "outputs": [
        {
          "output_type": "execute_result",
          "data": {
            "text/plain": [
              "torch.Size([1, 3, 4])"
            ]
          },
          "metadata": {},
          "execution_count": 14
        }
      ]
    },
    {
      "cell_type": "code",
      "source": [
        "TENSOR.ndim"
      ],
      "metadata": {
        "colab": {
          "base_uri": "https://localhost:8080/"
        },
        "id": "SHmVrFvLQxvi",
        "outputId": "74f25e47-190a-4601-e5c4-0aef129bcbcc"
      },
      "execution_count": 15,
      "outputs": [
        {
          "output_type": "execute_result",
          "data": {
            "text/plain": [
              "3"
            ]
          },
          "metadata": {},
          "execution_count": 15
        }
      ]
    },
    {
      "cell_type": "code",
      "source": [
        "TENSOR[0]"
      ],
      "metadata": {
        "colab": {
          "base_uri": "https://localhost:8080/"
        },
        "id": "AEwxzbAiQ4vq",
        "outputId": "e324ddd6-a4c0-4320-e28d-3c64cfe6b4f1"
      },
      "execution_count": 16,
      "outputs": [
        {
          "output_type": "execute_result",
          "data": {
            "text/plain": [
              "tensor([[ 1,  2,  3,  4],\n",
              "        [ 5,  6,  7,  8],\n",
              "        [ 9, 10, 11, 12]])"
            ]
          },
          "metadata": {},
          "execution_count": 16
        }
      ]
    },
    {
      "cell_type": "code",
      "source": [
        "Tesnor2=torch.tensor([[[1,2],[3,4],[5,6]],[[7,8],[9,10],[11,12]]])\n",
        "Tesnor2"
      ],
      "metadata": {
        "colab": {
          "base_uri": "https://localhost:8080/"
        },
        "id": "ez_LtaTjQ6ka",
        "outputId": "2a4603e4-829c-4150-e7f3-c59fda0fddcd"
      },
      "execution_count": 17,
      "outputs": [
        {
          "output_type": "execute_result",
          "data": {
            "text/plain": [
              "tensor([[[ 1,  2],\n",
              "         [ 3,  4],\n",
              "         [ 5,  6]],\n",
              "\n",
              "        [[ 7,  8],\n",
              "         [ 9, 10],\n",
              "         [11, 12]]])"
            ]
          },
          "metadata": {},
          "execution_count": 17
        }
      ]
    },
    {
      "cell_type": "code",
      "source": [
        "Tesnor2.ndim"
      ],
      "metadata": {
        "colab": {
          "base_uri": "https://localhost:8080/"
        },
        "id": "MxFQTjiaQ-ka",
        "outputId": "35e29e13-97ed-4570-e1bc-0e72dca1ead0"
      },
      "execution_count": 18,
      "outputs": [
        {
          "output_type": "execute_result",
          "data": {
            "text/plain": [
              "3"
            ]
          },
          "metadata": {},
          "execution_count": 18
        }
      ]
    },
    {
      "cell_type": "code",
      "source": [
        "Tesnor2.shape"
      ],
      "metadata": {
        "colab": {
          "base_uri": "https://localhost:8080/"
        },
        "id": "eGnClSgVWSzW",
        "outputId": "8bec0fe4-441f-4dfc-bf57-da6b74120782"
      },
      "execution_count": 19,
      "outputs": [
        {
          "output_type": "execute_result",
          "data": {
            "text/plain": [
              "torch.Size([2, 3, 2])"
            ]
          },
          "metadata": {},
          "execution_count": 19
        }
      ]
    },
    {
      "cell_type": "markdown",
      "source": [
        "## Random tensors\n",
        "### Why random tensors?\n",
        "### Random tensors are important because the way many neural networks learn is that they start with tensors full of random numbers and then\n",
        "### Torch random tensors-https://docs.pytorch.org/docs/stable/generated/torch.rand.html"
      ],
      "metadata": {
        "id": "pUsMxHP5WYAz"
      }
    },
    {
      "cell_type": "code",
      "source": [
        "tensore_rand=torch.rand(3,4)\n",
        "tensore_rand"
      ],
      "metadata": {
        "colab": {
          "base_uri": "https://localhost:8080/"
        },
        "id": "EDTkZ56yxqa6",
        "outputId": "b2355f55-b207-4e3f-8ad5-d15c2cc58c32"
      },
      "execution_count": 20,
      "outputs": [
        {
          "output_type": "execute_result",
          "data": {
            "text/plain": [
              "tensor([[0.6973, 0.1848, 0.2394, 0.8562],\n",
              "        [0.1613, 0.5661, 0.4597, 0.7260],\n",
              "        [0.2411, 0.0914, 0.9587, 0.8112]])"
            ]
          },
          "metadata": {},
          "execution_count": 20
        }
      ]
    },
    {
      "cell_type": "code",
      "source": [
        "tensore_rand2=torch.rand(size=(3,224,224))\n",
        "tensore_rand2"
      ],
      "metadata": {
        "colab": {
          "base_uri": "https://localhost:8080/"
        },
        "id": "PiMJWhaHxx27",
        "outputId": "f69dcb46-d3da-4e07-9f83-c81962f62148"
      },
      "execution_count": 21,
      "outputs": [
        {
          "output_type": "execute_result",
          "data": {
            "text/plain": [
              "tensor([[[0.4006, 0.9347, 0.6030,  ..., 0.3382, 0.1852, 0.0079],\n",
              "         [0.3808, 0.0141, 0.3198,  ..., 0.8540, 0.0636, 0.3483],\n",
              "         [0.5279, 0.0979, 0.5408,  ..., 0.1474, 0.4956, 0.7134],\n",
              "         ...,\n",
              "         [0.0719, 0.3899, 0.4326,  ..., 0.2124, 0.4217, 0.5050],\n",
              "         [0.2712, 0.8000, 0.5662,  ..., 0.9608, 0.9324, 0.3991],\n",
              "         [0.6103, 0.3761, 0.8970,  ..., 0.1341, 0.4927, 0.2721]],\n",
              "\n",
              "        [[0.7871, 0.9248, 0.4622,  ..., 0.8196, 0.0152, 0.5638],\n",
              "         [0.2310, 0.5822, 0.2027,  ..., 0.6749, 0.4712, 0.0078],\n",
              "         [0.8241, 0.7803, 0.1790,  ..., 0.7991, 0.7484, 0.3185],\n",
              "         ...,\n",
              "         [0.3649, 0.5789, 0.2976,  ..., 0.5109, 0.5095, 0.6978],\n",
              "         [0.5050, 0.4666, 0.8696,  ..., 0.7384, 0.3527, 0.1292],\n",
              "         [0.2942, 0.2622, 0.6345,  ..., 0.8201, 0.2135, 0.6822]],\n",
              "\n",
              "        [[0.4784, 0.0749, 0.9893,  ..., 0.5031, 0.8829, 0.3531],\n",
              "         [0.2357, 0.6974, 0.6230,  ..., 0.3095, 0.3359, 0.0963],\n",
              "         [0.7924, 0.0507, 0.4924,  ..., 0.6009, 0.8867, 0.0893],\n",
              "         ...,\n",
              "         [0.8151, 0.5805, 0.4520,  ..., 0.7058, 0.9226, 0.7047],\n",
              "         [0.1737, 0.7316, 0.8761,  ..., 0.6015, 0.6293, 0.8113],\n",
              "         [0.5829, 0.2102, 0.6794,  ..., 0.0335, 0.1647, 0.6171]]])"
            ]
          },
          "metadata": {},
          "execution_count": 21
        }
      ]
    },
    {
      "cell_type": "code",
      "source": [
        "tensore_rand2.ndim , tensore_rand2.shape"
      ],
      "metadata": {
        "colab": {
          "base_uri": "https://localhost:8080/"
        },
        "id": "TNbJhmLByJOD",
        "outputId": "75ea1e39-db8c-4352-fd6c-b5be9aab100d"
      },
      "execution_count": 22,
      "outputs": [
        {
          "output_type": "execute_result",
          "data": {
            "text/plain": [
              "(3, torch.Size([3, 224, 224]))"
            ]
          },
          "metadata": {},
          "execution_count": 22
        }
      ]
    },
    {
      "cell_type": "markdown",
      "source": [
        "## zeros or ones arrays useed often to mask biger arrays"
      ],
      "metadata": {
        "id": "x5Ssi8J1z9R8"
      }
    },
    {
      "cell_type": "code",
      "source": [
        "zeros=torch.zeros(size=(3,4))\n",
        "zeros"
      ],
      "metadata": {
        "colab": {
          "base_uri": "https://localhost:8080/"
        },
        "id": "iGAD4OdrycC8",
        "outputId": "b658f598-37e6-41b3-ce5c-419c4d8c8ba1"
      },
      "execution_count": 23,
      "outputs": [
        {
          "output_type": "execute_result",
          "data": {
            "text/plain": [
              "tensor([[0., 0., 0., 0.],\n",
              "        [0., 0., 0., 0.],\n",
              "        [0., 0., 0., 0.]])"
            ]
          },
          "metadata": {},
          "execution_count": 23
        }
      ]
    },
    {
      "cell_type": "code",
      "source": [
        "ones=torch.ones(size=(3,4))\n",
        "ones"
      ],
      "metadata": {
        "colab": {
          "base_uri": "https://localhost:8080/"
        },
        "id": "Wss6DNfnzxUL",
        "outputId": "ab425fa5-162e-42ae-bed4-c5df6ecca820"
      },
      "execution_count": 24,
      "outputs": [
        {
          "output_type": "execute_result",
          "data": {
            "text/plain": [
              "tensor([[1., 1., 1., 1.],\n",
              "        [1., 1., 1., 1.],\n",
              "        [1., 1., 1., 1.]])"
            ]
          },
          "metadata": {},
          "execution_count": 24
        }
      ]
    },
    {
      "cell_type": "code",
      "source": [
        "aranges=torch.arange(1,11,1)\n",
        "aranges"
      ],
      "metadata": {
        "colab": {
          "base_uri": "https://localhost:8080/"
        },
        "id": "qXAetFmyz4tq",
        "outputId": "bc7e5aab-d7dd-4e20-aaea-2c0a3edfbeeb"
      },
      "execution_count": 25,
      "outputs": [
        {
          "output_type": "execute_result",
          "data": {
            "text/plain": [
              "tensor([ 1,  2,  3,  4,  5,  6,  7,  8,  9, 10])"
            ]
          },
          "metadata": {},
          "execution_count": 25
        }
      ]
    },
    {
      "cell_type": "code",
      "source": [
        "zeros_like=torch.zeros_like(input=aranges)\n",
        "zeros_like"
      ],
      "metadata": {
        "colab": {
          "base_uri": "https://localhost:8080/"
        },
        "id": "1UsF3L0a0ruN",
        "outputId": "c1da8696-489a-4b13-ccf8-956b2387ae6b"
      },
      "execution_count": 26,
      "outputs": [
        {
          "output_type": "execute_result",
          "data": {
            "text/plain": [
              "tensor([0, 0, 0, 0, 0, 0, 0, 0, 0, 0])"
            ]
          },
          "metadata": {},
          "execution_count": 26
        }
      ]
    },
    {
      "cell_type": "markdown",
      "source": [
        "### Tensor datatypes\n",
        "**Note:** Tensor datatypes is one of the 3 big errors you'll run into with PyTorch\n",
        "& deep learning:\n",
        "1. Tensors not right datatype\n",
        "2. Tensors not right shape\n",
        "3. Tensors not on the right device"
      ],
      "metadata": {
        "id": "Lcoo9keUO6iO"
      }
    },
    {
      "cell_type": "code",
      "source": [
        "float_32_tensor=torch.tensor([3.0,6.0,9.0],\n",
        "                             dtype=None,\n",
        "                             device=None,\n",
        "                             requires_grad=False)\n",
        "float_32_tensor"
      ],
      "metadata": {
        "id": "1eShMBWC10O9",
        "colab": {
          "base_uri": "https://localhost:8080/"
        },
        "outputId": "6edb0faa-087e-4a7a-f33d-1deef0e0b0fe"
      },
      "execution_count": 27,
      "outputs": [
        {
          "output_type": "execute_result",
          "data": {
            "text/plain": [
              "tensor([3., 6., 9.])"
            ]
          },
          "metadata": {},
          "execution_count": 27
        }
      ]
    },
    {
      "cell_type": "code",
      "source": [
        "float_16_tensor=float_32_tensor.type(torch.float16)\n",
        "float_16_tensor"
      ],
      "metadata": {
        "colab": {
          "base_uri": "https://localhost:8080/"
        },
        "id": "N5h3XyGpPT70",
        "outputId": "cf409a80-90ba-40da-fcce-87f099acdc6e"
      },
      "execution_count": 28,
      "outputs": [
        {
          "output_type": "execute_result",
          "data": {
            "text/plain": [
              "tensor([3., 6., 9.], dtype=torch.float16)"
            ]
          },
          "metadata": {},
          "execution_count": 28
        }
      ]
    },
    {
      "cell_type": "code",
      "source": [
        "float_16_tensor*float_32_tensor ## why this work?"
      ],
      "metadata": {
        "colab": {
          "base_uri": "https://localhost:8080/"
        },
        "id": "P8mXggQCQRoF",
        "outputId": "945a67ba-708c-4135-a1a2-458b70644ccf"
      },
      "execution_count": 29,
      "outputs": [
        {
          "output_type": "execute_result",
          "data": {
            "text/plain": [
              "tensor([ 9., 36., 81.])"
            ]
          },
          "metadata": {},
          "execution_count": 29
        }
      ]
    },
    {
      "cell_type": "code",
      "source": [
        "int_32_tensor=torch.tensor([1,2,3],dtype=torch.int32)\n",
        "int_32_tensor"
      ],
      "metadata": {
        "id": "HxkmWW3sQoAs",
        "colab": {
          "base_uri": "https://localhost:8080/"
        },
        "outputId": "de2d4910-62fe-487c-d863-c765ffacc5e1"
      },
      "execution_count": 30,
      "outputs": [
        {
          "output_type": "execute_result",
          "data": {
            "text/plain": [
              "tensor([1, 2, 3], dtype=torch.int32)"
            ]
          },
          "metadata": {},
          "execution_count": 30
        }
      ]
    },
    {
      "cell_type": "code",
      "source": [
        "float_16_tensor*int_32_tensor"
      ],
      "metadata": {
        "colab": {
          "base_uri": "https://localhost:8080/"
        },
        "id": "H3gvKmr8E5wk",
        "outputId": "84a477c4-4e2d-4b7b-ba25-b8e984d1b63f"
      },
      "execution_count": 31,
      "outputs": [
        {
          "output_type": "execute_result",
          "data": {
            "text/plain": [
              "tensor([ 3., 12., 27.], dtype=torch.float16)"
            ]
          },
          "metadata": {},
          "execution_count": 31
        }
      ]
    },
    {
      "cell_type": "code",
      "source": [
        "some_tensor=torch.rand(3,4)\n",
        "some_tensor"
      ],
      "metadata": {
        "colab": {
          "base_uri": "https://localhost:8080/"
        },
        "id": "LSvXYJCyE_sz",
        "outputId": "5e863c82-5187-490e-88fe-0fdf69761995"
      },
      "execution_count": 32,
      "outputs": [
        {
          "output_type": "execute_result",
          "data": {
            "text/plain": [
              "tensor([[0.6581, 0.2271, 0.9844, 0.4664],\n",
              "        [0.9351, 0.3675, 0.0837, 0.7338],\n",
              "        [0.3667, 0.4722, 0.1421, 0.6756]])"
            ]
          },
          "metadata": {},
          "execution_count": 32
        }
      ]
    },
    {
      "cell_type": "code",
      "source": [
        "print(some_tensor)\n",
        "print(f\"this is the dtype of tensor: {some_tensor.dtype}\")\n",
        "print(f\"this is the shape of tenosr: {some_tensor.shape}\")\n",
        "print(f\"this is the device of tensor: {some_tensor.device}\")"
      ],
      "metadata": {
        "colab": {
          "base_uri": "https://localhost:8080/"
        },
        "id": "MGbE5HtYGrLU",
        "outputId": "f072599b-55c3-4e41-ceb9-3f9cc5f94d98"
      },
      "execution_count": 33,
      "outputs": [
        {
          "output_type": "stream",
          "name": "stdout",
          "text": [
            "tensor([[0.6581, 0.2271, 0.9844, 0.4664],\n",
            "        [0.9351, 0.3675, 0.0837, 0.7338],\n",
            "        [0.3667, 0.4722, 0.1421, 0.6756]])\n",
            "this is the dtype of tensor: torch.float32\n",
            "this is the shape of tenosr: torch.Size([3, 4])\n",
            "this is the device of tensor: cpu\n"
          ]
        }
      ]
    },
    {
      "cell_type": "markdown",
      "source": [
        "##math in tensors"
      ],
      "metadata": {
        "id": "Kobaa0ShG-7F"
      }
    },
    {
      "cell_type": "code",
      "source": [
        "tensor=torch.tensor([1,2,3])\n",
        "tensor"
      ],
      "metadata": {
        "colab": {
          "base_uri": "https://localhost:8080/"
        },
        "id": "GhaZVXKjJfts",
        "outputId": "ad8a164a-9fb3-4ee7-c773-04b5671ef4f9"
      },
      "execution_count": 34,
      "outputs": [
        {
          "output_type": "execute_result",
          "data": {
            "text/plain": [
              "tensor([1, 2, 3])"
            ]
          },
          "metadata": {},
          "execution_count": 34
        }
      ]
    },
    {
      "cell_type": "code",
      "source": [
        "tensor+10"
      ],
      "metadata": {
        "colab": {
          "base_uri": "https://localhost:8080/"
        },
        "id": "87nx9CHjJlcM",
        "outputId": "92a72b5d-f09e-4970-c0c7-59a8a81ab5c9"
      },
      "execution_count": 35,
      "outputs": [
        {
          "output_type": "execute_result",
          "data": {
            "text/plain": [
              "tensor([11, 12, 13])"
            ]
          },
          "metadata": {},
          "execution_count": 35
        }
      ]
    },
    {
      "cell_type": "code",
      "source": [
        "tensor*10"
      ],
      "metadata": {
        "colab": {
          "base_uri": "https://localhost:8080/"
        },
        "id": "X7Brkwm8JoWH",
        "outputId": "1d0743b0-73f1-4560-fd49-1a70a848c8c5"
      },
      "execution_count": 36,
      "outputs": [
        {
          "output_type": "execute_result",
          "data": {
            "text/plain": [
              "tensor([10, 20, 30])"
            ]
          },
          "metadata": {},
          "execution_count": 36
        }
      ]
    },
    {
      "cell_type": "code",
      "source": [
        "tensor-10"
      ],
      "metadata": {
        "colab": {
          "base_uri": "https://localhost:8080/"
        },
        "id": "ap5cvfK-JoTy",
        "outputId": "8f4c7926-665c-4e3d-8f1e-9b166f419266"
      },
      "execution_count": 37,
      "outputs": [
        {
          "output_type": "execute_result",
          "data": {
            "text/plain": [
              "tensor([-9, -8, -7])"
            ]
          },
          "metadata": {},
          "execution_count": 37
        }
      ]
    },
    {
      "cell_type": "code",
      "source": [
        "torch.add(tensor,10)"
      ],
      "metadata": {
        "colab": {
          "base_uri": "https://localhost:8080/"
        },
        "id": "Zr7U6KnpJoRe",
        "outputId": "7227e1f3-d41b-4e44-eae8-6a2843720d08"
      },
      "execution_count": 38,
      "outputs": [
        {
          "output_type": "execute_result",
          "data": {
            "text/plain": [
              "tensor([11, 12, 13])"
            ]
          },
          "metadata": {},
          "execution_count": 38
        }
      ]
    },
    {
      "cell_type": "markdown",
      "source": [
        "Matrix multiplication\n",
        "Two main ways of performing multiplication in neural networks and deep learning:\n",
        "1. Element-wise multiplication\n",
        "2. Matrix mutliplication (dot product)\n",
        "More information on multiplying matrices -  https://www.mathsisfun.com/algebra/matrix-multiplying.html\n"
      ],
      "metadata": {
        "id": "0f8EgpQxLI0t"
      }
    },
    {
      "cell_type": "code",
      "source": [
        "%%time\n",
        "torch.matmul(tensor,tensor)\n",
        "## since the total time is 10 time or more less than for loop this method is too better"
      ],
      "metadata": {
        "colab": {
          "base_uri": "https://localhost:8080/"
        },
        "id": "AThTEaGnJoPS",
        "outputId": "f1d6cf38-30e3-4be4-d87a-72d61fa697ef"
      },
      "execution_count": 39,
      "outputs": [
        {
          "output_type": "stream",
          "name": "stdout",
          "text": [
            "CPU times: user 230 µs, sys: 1.05 ms, total: 1.28 ms\n",
            "Wall time: 15.7 ms\n"
          ]
        },
        {
          "output_type": "execute_result",
          "data": {
            "text/plain": [
              "tensor(14)"
            ]
          },
          "metadata": {},
          "execution_count": 39
        }
      ]
    },
    {
      "cell_type": "code",
      "source": [
        "%%time\n",
        "value = 0\n",
        "for i in range(len(tensor)):\n",
        "  value += tensor[i] * tensor[i]\n",
        "print(value)"
      ],
      "metadata": {
        "colab": {
          "base_uri": "https://localhost:8080/"
        },
        "id": "4_CLfEtKJoNE",
        "outputId": "d0502be0-80d7-4d9c-d847-9609f4f62860"
      },
      "execution_count": 40,
      "outputs": [
        {
          "output_type": "stream",
          "name": "stdout",
          "text": [
            "tensor(14)\n",
            "CPU times: user 538 µs, sys: 765 µs, total: 1.3 ms\n",
            "Wall time: 1.56 ms\n"
          ]
        }
      ]
    },
    {
      "cell_type": "markdown",
      "source": [
        "* short cut for torch.matmul is @\n",
        "1. the first rule in matrxt multiblication is the inner dimintion should be equla\n",
        "- for example:\n",
        "* '(3,2)'@'(3,2)' not work\n",
        "* '(3,2)'@'(2,3)' will work\n",
        "* '(2,3)'@'(3,2)' will work\n",
        "2. the resultin is the outer dimintion"
      ],
      "metadata": {
        "id": "z56ejk-LV4Xp"
      }
    },
    {
      "cell_type": "code",
      "source": [
        "(torch.rand(3,2) @ torch.rand(2,3) ).shape"
      ],
      "metadata": {
        "colab": {
          "base_uri": "https://localhost:8080/"
        },
        "id": "NEnANCqmJoKp",
        "outputId": "c47f72a4-5e0c-4e4e-aeb2-421bff6fd6d0"
      },
      "execution_count": 41,
      "outputs": [
        {
          "output_type": "execute_result",
          "data": {
            "text/plain": [
              "torch.Size([3, 3])"
            ]
          },
          "metadata": {},
          "execution_count": 41
        }
      ]
    },
    {
      "cell_type": "markdown",
      "source": [
        "#the transpose is importatint how to use it"
      ],
      "metadata": {
        "id": "TJHRb0tkJoIF"
      }
    },
    {
      "cell_type": "code",
      "source": [
        "tensor=torch.rand(3,2)\n",
        "tensor"
      ],
      "metadata": {
        "colab": {
          "base_uri": "https://localhost:8080/"
        },
        "id": "B_RjhCGJbZIw",
        "outputId": "5c12e8d7-7ced-4810-f992-7af75101069e"
      },
      "execution_count": 42,
      "outputs": [
        {
          "output_type": "execute_result",
          "data": {
            "text/plain": [
              "tensor([[0.0118, 0.6669],\n",
              "        [0.6816, 0.4462],\n",
              "        [0.3887, 0.6731]])"
            ]
          },
          "metadata": {},
          "execution_count": 42
        }
      ]
    },
    {
      "cell_type": "code",
      "source": [
        "tensor @ tensor.T"
      ],
      "metadata": {
        "colab": {
          "base_uri": "https://localhost:8080/"
        },
        "id": "sSuSBiEdbgZw",
        "outputId": "8b5c9cb5-1977-4785-9a88-98a1b2471480"
      },
      "execution_count": 43,
      "outputs": [
        {
          "output_type": "execute_result",
          "data": {
            "text/plain": [
              "tensor([[0.4449, 0.3057, 0.4535],\n",
              "        [0.3057, 0.6637, 0.5653],\n",
              "        [0.4535, 0.5653, 0.6042]])"
            ]
          },
          "metadata": {},
          "execution_count": 43
        }
      ]
    },
    {
      "cell_type": "code",
      "source": [
        "x=torch.arange(0,100,10)\n",
        "x"
      ],
      "metadata": {
        "id": "wbO8FvOPbkEA",
        "colab": {
          "base_uri": "https://localhost:8080/"
        },
        "outputId": "82e9192f-21b8-43a5-f1d4-0eff23e0e57e"
      },
      "execution_count": 44,
      "outputs": [
        {
          "output_type": "execute_result",
          "data": {
            "text/plain": [
              "tensor([ 0, 10, 20, 30, 40, 50, 60, 70, 80, 90])"
            ]
          },
          "metadata": {},
          "execution_count": 44
        }
      ]
    },
    {
      "cell_type": "code",
      "source": [
        "torch.max(x),x.max()"
      ],
      "metadata": {
        "colab": {
          "base_uri": "https://localhost:8080/"
        },
        "id": "oYcowH7iEpMQ",
        "outputId": "db5a2157-9290-4d9c-e7a8-390386248912"
      },
      "execution_count": 45,
      "outputs": [
        {
          "output_type": "execute_result",
          "data": {
            "text/plain": [
              "(tensor(90), tensor(90))"
            ]
          },
          "metadata": {},
          "execution_count": 45
        }
      ]
    },
    {
      "cell_type": "code",
      "source": [
        "torch.min(x),x.min()"
      ],
      "metadata": {
        "colab": {
          "base_uri": "https://localhost:8080/"
        },
        "id": "AtOvCwbbEvq-",
        "outputId": "a5a469ee-9ad9-4301-fb2b-87e71f3f3909"
      },
      "execution_count": 46,
      "outputs": [
        {
          "output_type": "execute_result",
          "data": {
            "text/plain": [
              "(tensor(0), tensor(0))"
            ]
          },
          "metadata": {},
          "execution_count": 46
        }
      ]
    },
    {
      "cell_type": "code",
      "source": [
        "torch.mean(x.type(torch.float32)),x.type(torch.float32).mean()"
      ],
      "metadata": {
        "colab": {
          "base_uri": "https://localhost:8080/"
        },
        "id": "C4uBji8UEz0X",
        "outputId": "d08b1a7d-637e-4ac9-cc04-ae03419a204f"
      },
      "execution_count": 47,
      "outputs": [
        {
          "output_type": "execute_result",
          "data": {
            "text/plain": [
              "(tensor(45.), tensor(45.))"
            ]
          },
          "metadata": {},
          "execution_count": 47
        }
      ]
    },
    {
      "cell_type": "code",
      "source": [
        "torch.sum(x),x.sum()"
      ],
      "metadata": {
        "colab": {
          "base_uri": "https://localhost:8080/"
        },
        "id": "LZNk-7RYE3K_",
        "outputId": "841ed267-8d3a-4e00-f3ed-d6338fd17e40"
      },
      "execution_count": 48,
      "outputs": [
        {
          "output_type": "execute_result",
          "data": {
            "text/plain": [
              "(tensor(450), tensor(450))"
            ]
          },
          "metadata": {},
          "execution_count": 48
        }
      ]
    },
    {
      "cell_type": "code",
      "source": [
        "x.argmax()"
      ],
      "metadata": {
        "colab": {
          "base_uri": "https://localhost:8080/"
        },
        "id": "EZyp-ixXF6uX",
        "outputId": "d597a704-6634-476e-eda2-6ddff51bbcab"
      },
      "execution_count": 49,
      "outputs": [
        {
          "output_type": "execute_result",
          "data": {
            "text/plain": [
              "tensor(9)"
            ]
          },
          "metadata": {},
          "execution_count": 49
        }
      ]
    },
    {
      "cell_type": "code",
      "source": [
        "x.argmin()"
      ],
      "metadata": {
        "id": "0dNs-nNvG4yn",
        "outputId": "524b16b0-57a4-471d-d536-2b909e205b3e",
        "colab": {
          "base_uri": "https://localhost:8080/"
        }
      },
      "execution_count": 50,
      "outputs": [
        {
          "output_type": "execute_result",
          "data": {
            "text/plain": [
              "tensor(0)"
            ]
          },
          "metadata": {},
          "execution_count": 50
        }
      ]
    },
    {
      "cell_type": "markdown",
      "source": [
        "##Reshaping, stacking, squeezing and unsqueezing tensors\n",
        "* Reshaping - reshapes an input tensor to a defined shape\n",
        "View\n",
        "* Return a view of an input tensor of certain shape but keep the same memory as the original tensor\n",
        "Stacking\n",
        "* combine multiple tensors on top of each other (vstack) or side by side (hstack)\n",
        "Squeeze\n",
        "* removes all 1 dimensions from a tensor\n",
        "Unsqueeze\n",
        "* add a 1 dimension to a target tensor\n",
        "Permute\n",
        "* Return a view of the input with dimensions permuted (swapped) in a certain way"
      ],
      "metadata": {
        "id": "muIaSSToG6Lf"
      }
    },
    {
      "cell_type": "code",
      "source": [
        "tensor=torch.arange(1,10)\n",
        "tensor,tensor.shape"
      ],
      "metadata": {
        "id": "XmW19RUtdl6E",
        "colab": {
          "base_uri": "https://localhost:8080/"
        },
        "outputId": "6501e7b3-c0c2-4352-ac50-fce85a1e303d"
      },
      "execution_count": 51,
      "outputs": [
        {
          "output_type": "execute_result",
          "data": {
            "text/plain": [
              "(tensor([1, 2, 3, 4, 5, 6, 7, 8, 9]), torch.Size([9]))"
            ]
          },
          "metadata": {},
          "execution_count": 51
        }
      ]
    },
    {
      "cell_type": "code",
      "source": [
        "tensor_reshape=tensor.reshape(1,9)\n",
        "tensor_reshape,tensor_reshape.shape"
      ],
      "metadata": {
        "colab": {
          "base_uri": "https://localhost:8080/"
        },
        "id": "lZHHyYTH0s5a",
        "outputId": "11e0c96c-945d-4b54-b598-8d579a367789"
      },
      "execution_count": 52,
      "outputs": [
        {
          "output_type": "execute_result",
          "data": {
            "text/plain": [
              "(tensor([[1, 2, 3, 4, 5, 6, 7, 8, 9]]), torch.Size([1, 9]))"
            ]
          },
          "metadata": {},
          "execution_count": 52
        }
      ]
    },
    {
      "cell_type": "code",
      "source": [
        "tensor_reshape=tensor.reshape(3,3)\n",
        "tensor_reshape,tensor_reshape.shape"
      ],
      "metadata": {
        "colab": {
          "base_uri": "https://localhost:8080/"
        },
        "id": "-i6UWn8K04pw",
        "outputId": "5c1aef41-9358-4001-ceae-511ef2ab9a7d"
      },
      "execution_count": 53,
      "outputs": [
        {
          "output_type": "execute_result",
          "data": {
            "text/plain": [
              "(tensor([[1, 2, 3],\n",
              "         [4, 5, 6],\n",
              "         [7, 8, 9]]),\n",
              " torch.Size([3, 3]))"
            ]
          },
          "metadata": {},
          "execution_count": 53
        }
      ]
    },
    {
      "cell_type": "code",
      "source": [
        "tensor , tensor_reshape"
      ],
      "metadata": {
        "colab": {
          "base_uri": "https://localhost:8080/"
        },
        "id": "5BkmVSRD0zKP",
        "outputId": "2dc6ed43-c9d3-481c-cc41-7ef13fc6c137"
      },
      "execution_count": 54,
      "outputs": [
        {
          "output_type": "execute_result",
          "data": {
            "text/plain": [
              "(tensor([1, 2, 3, 4, 5, 6, 7, 8, 9]),\n",
              " tensor([[1, 2, 3],\n",
              "         [4, 5, 6],\n",
              "         [7, 8, 9]]))"
            ]
          },
          "metadata": {},
          "execution_count": 54
        }
      ]
    },
    {
      "cell_type": "code",
      "source": [
        "tensor[0]=66\n",
        "tensor , tensor_reshape"
      ],
      "metadata": {
        "colab": {
          "base_uri": "https://localhost:8080/"
        },
        "id": "NbaSurwY6IQC",
        "outputId": "8eccf885-bcd8-4946-9380-42637cfe2dcf"
      },
      "execution_count": 55,
      "outputs": [
        {
          "output_type": "execute_result",
          "data": {
            "text/plain": [
              "(tensor([66,  2,  3,  4,  5,  6,  7,  8,  9]),\n",
              " tensor([[66,  2,  3],\n",
              "         [ 4,  5,  6],\n",
              "         [ 7,  8,  9]]))"
            ]
          },
          "metadata": {},
          "execution_count": 55
        }
      ]
    },
    {
      "cell_type": "code",
      "source": [
        "x=torch.arange(1,10)\n",
        "x ,x.shape"
      ],
      "metadata": {
        "colab": {
          "base_uri": "https://localhost:8080/"
        },
        "id": "6C5dVrka1DFV",
        "outputId": "469b85d6-361e-43df-9b3f-dcea442f0d13"
      },
      "execution_count": 56,
      "outputs": [
        {
          "output_type": "execute_result",
          "data": {
            "text/plain": [
              "(tensor([1, 2, 3, 4, 5, 6, 7, 8, 9]), torch.Size([9]))"
            ]
          },
          "metadata": {},
          "execution_count": 56
        }
      ]
    },
    {
      "cell_type": "code",
      "source": [
        "z=x.view(3,3)\n",
        "z"
      ],
      "metadata": {
        "colab": {
          "base_uri": "https://localhost:8080/"
        },
        "id": "y0-xT3Ev1DC-",
        "outputId": "8ee62dbe-ce9e-4ad7-b751-b3b3237781d5"
      },
      "execution_count": 57,
      "outputs": [
        {
          "output_type": "execute_result",
          "data": {
            "text/plain": [
              "tensor([[1, 2, 3],\n",
              "        [4, 5, 6],\n",
              "        [7, 8, 9]])"
            ]
          },
          "metadata": {},
          "execution_count": 57
        }
      ]
    },
    {
      "cell_type": "code",
      "source": [
        "x[0]=55\n",
        "x,z\n",
        "#reshape and view do the same"
      ],
      "metadata": {
        "colab": {
          "base_uri": "https://localhost:8080/"
        },
        "id": "EfaM4nPk1DAm",
        "outputId": "8e1f2774-4c6b-4c8f-cc4d-2079444a4c6c"
      },
      "execution_count": 58,
      "outputs": [
        {
          "output_type": "execute_result",
          "data": {
            "text/plain": [
              "(tensor([55,  2,  3,  4,  5,  6,  7,  8,  9]),\n",
              " tensor([[55,  2,  3],\n",
              "         [ 4,  5,  6],\n",
              "         [ 7,  8,  9]]))"
            ]
          },
          "metadata": {},
          "execution_count": 58
        }
      ]
    },
    {
      "cell_type": "markdown",
      "source": [
        "**contiguous memore** : \"each row follows the previous one directly in memory\"\n",
        "* view : contiguous it work fine but if not not work\n",
        "* reshape : if not contiguous it rearnge it and work fine.\n",
        "\n",
        "**then what make tensor not contiguous ??**"
      ],
      "metadata": {
        "id": "vqFzMTz7ELzl"
      }
    },
    {
      "cell_type": "code",
      "source": [
        "a = torch.tensor([1, 2, 3])\n",
        "b = torch.tensor([4, 5, 6])\n",
        "x = torch.stack((a, b))\n",
        "x,x.shape"
      ],
      "metadata": {
        "colab": {
          "base_uri": "https://localhost:8080/"
        },
        "id": "mMFAySxJ1C-N",
        "outputId": "b87781cf-82e5-4c95-b417-6a624a7a3002"
      },
      "execution_count": 59,
      "outputs": [
        {
          "output_type": "execute_result",
          "data": {
            "text/plain": [
              "(tensor([[1, 2, 3],\n",
              "         [4, 5, 6]]),\n",
              " torch.Size([2, 3]))"
            ]
          },
          "metadata": {},
          "execution_count": 59
        }
      ]
    },
    {
      "cell_type": "markdown",
      "source": [
        "the .stack() functions add two tensore together\n",
        "* but using dim attribute behave like: \"where the index of new diminshin will be\"\n",
        "\n",
        "  and this shape how the output will be"
      ],
      "metadata": {
        "id": "cglARpiSTyro"
      }
    },
    {
      "cell_type": "code",
      "source": [
        "x = torch.stack((a, b),dim=0)\n",
        "x,x.shape"
      ],
      "metadata": {
        "colab": {
          "base_uri": "https://localhost:8080/"
        },
        "id": "inOhQ-hp1C7q",
        "outputId": "9be2929a-479a-46d4-bd52-55f90ea567b0"
      },
      "execution_count": 60,
      "outputs": [
        {
          "output_type": "execute_result",
          "data": {
            "text/plain": [
              "(tensor([[1, 2, 3],\n",
              "         [4, 5, 6]]),\n",
              " torch.Size([2, 3]))"
            ]
          },
          "metadata": {},
          "execution_count": 60
        }
      ]
    },
    {
      "cell_type": "code",
      "source": [
        "x = torch.stack((a, b),dim=1)\n",
        "x,x.shape"
      ],
      "metadata": {
        "colab": {
          "base_uri": "https://localhost:8080/"
        },
        "id": "eZkE_4h71C5J",
        "outputId": "39c598f9-4fa9-411b-a193-993500ba0b35"
      },
      "execution_count": 61,
      "outputs": [
        {
          "output_type": "execute_result",
          "data": {
            "text/plain": [
              "(tensor([[1, 4],\n",
              "         [2, 5],\n",
              "         [3, 6]]),\n",
              " torch.Size([3, 2]))"
            ]
          },
          "metadata": {},
          "execution_count": 61
        }
      ]
    },
    {
      "cell_type": "markdown",
      "source": [
        "### try higher diminshions"
      ],
      "metadata": {
        "id": "nBluMjaZVqow"
      }
    },
    {
      "cell_type": "code",
      "source": [
        "a = torch.randn(2, 3)\n",
        "b = torch.randn(2, 3)\n",
        "d = torch.randn(2, 3)\n",
        "print(f\"The stack when dim is 0 :\\n{torch.stack((a, b, d), dim=0)}\")\n",
        "print(f\"The shpae of stack when The dim is 0 :\\n{torch.stack((a, b, d), dim=0).shape}\")\n",
        "print(\"************************************************************************************************\")\n",
        "print(f\"The stack when dim is 1 :\\n{torch.stack((a, b, d), dim=1)}\")\n",
        "print(f\"The shpae of stack when The dim is 1 :\\n{torch.stack((a, b, d), dim=1).shape}\")\n",
        "print(\"************************************************************************************************\")\n",
        "print(f\"The stack when dim is 2 :\\n{torch.stack((a, b, d), dim=2)}\")\n",
        "print(f\"The shpae of stack when The dim is 2 :\\n{torch.stack((a, b, d), dim=2).shape}\")\n",
        "## the dim = 3 cuse error"
      ],
      "metadata": {
        "colab": {
          "base_uri": "https://localhost:8080/"
        },
        "id": "V_c2ktP91C24",
        "outputId": "317c4695-db8d-4721-b6da-e5a63f9e9b3d"
      },
      "execution_count": 62,
      "outputs": [
        {
          "output_type": "stream",
          "name": "stdout",
          "text": [
            "The stack when dim is 0 :\n",
            "tensor([[[ 0.1350,  0.8696,  0.3536],\n",
            "         [-0.2692, -0.5747,  0.0524]],\n",
            "\n",
            "        [[ 1.4977, -0.3021, -0.7952],\n",
            "         [-1.9307, -0.2103, -1.6042]],\n",
            "\n",
            "        [[ 1.5348, -2.0596,  0.0401],\n",
            "         [-0.2737, -0.8442, -1.2611]]])\n",
            "The shpae of stack when The dim is 0 :\n",
            "torch.Size([3, 2, 3])\n",
            "************************************************************************************************\n",
            "The stack when dim is 1 :\n",
            "tensor([[[ 0.1350,  0.8696,  0.3536],\n",
            "         [ 1.4977, -0.3021, -0.7952],\n",
            "         [ 1.5348, -2.0596,  0.0401]],\n",
            "\n",
            "        [[-0.2692, -0.5747,  0.0524],\n",
            "         [-1.9307, -0.2103, -1.6042],\n",
            "         [-0.2737, -0.8442, -1.2611]]])\n",
            "The shpae of stack when The dim is 1 :\n",
            "torch.Size([2, 3, 3])\n",
            "************************************************************************************************\n",
            "The stack when dim is 2 :\n",
            "tensor([[[ 0.1350,  1.4977,  1.5348],\n",
            "         [ 0.8696, -0.3021, -2.0596],\n",
            "         [ 0.3536, -0.7952,  0.0401]],\n",
            "\n",
            "        [[-0.2692, -1.9307, -0.2737],\n",
            "         [-0.5747, -0.2103, -0.8442],\n",
            "         [ 0.0524, -1.6042, -1.2611]]])\n",
            "The shpae of stack when The dim is 2 :\n",
            "torch.Size([2, 3, 3])\n"
          ]
        }
      ]
    },
    {
      "cell_type": "markdown",
      "source": [
        "###the squeeze tensors"
      ],
      "metadata": {
        "id": "Afad0RE2Fb5z"
      }
    },
    {
      "cell_type": "code",
      "source": [
        "tensor=torch.arange(1,10).reshape(1,9)\n",
        "tensor, tensor.shape\n",
        "\n",
        "print(f\"the tensore before squezze:{tensor}\")\n",
        "print(f\"the shape before squezze:{tensor.shape}\")\n",
        "print(\"************************************************************************************************\")\n",
        "print(f\"the tensore after squezze:{tensor.squeeze()}\")\n",
        "print(f\"the shape after squezze:{tensor.squeeze().shape}\")"
      ],
      "metadata": {
        "colab": {
          "base_uri": "https://localhost:8080/"
        },
        "id": "AGUHT3XJdViK",
        "outputId": "6e11b8c7-d83a-4d45-89cd-a7cff016fec9"
      },
      "execution_count": 63,
      "outputs": [
        {
          "output_type": "stream",
          "name": "stdout",
          "text": [
            "the tensore before squezze:tensor([[1, 2, 3, 4, 5, 6, 7, 8, 9]])\n",
            "the shape before squezze:torch.Size([1, 9])\n",
            "************************************************************************************************\n",
            "the tensore after squezze:tensor([1, 2, 3, 4, 5, 6, 7, 8, 9])\n",
            "the shape after squezze:torch.Size([9])\n"
          ]
        }
      ]
    },
    {
      "cell_type": "code",
      "source": [],
      "metadata": {
        "id": "KoxLGss2detR"
      },
      "execution_count": 63,
      "outputs": []
    },
    {
      "cell_type": "code",
      "source": [],
      "metadata": {
        "id": "wzHP_XAodqEx"
      },
      "execution_count": 63,
      "outputs": []
    }
  ]
}