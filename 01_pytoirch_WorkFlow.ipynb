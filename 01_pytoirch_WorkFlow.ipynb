{
  "nbformat": 4,
  "nbformat_minor": 0,
  "metadata": {
    "colab": {
      "provenance": [],
      "gpuType": "T4",
      "authorship_tag": "ABX9TyOyAKj4q+T5kzURVTqU+CAm",
      "include_colab_link": true
    },
    "kernelspec": {
      "name": "python3",
      "display_name": "Python 3"
    },
    "language_info": {
      "name": "python"
    }
  },
  "cells": [
    {
      "cell_type": "markdown",
      "metadata": {
        "id": "view-in-github",
        "colab_type": "text"
      },
      "source": [
        "<a href=\"https://colab.research.google.com/github/MD2001/Pytorch_Bignnier/blob/main/01_pytoirch_WorkFlow.ipynb\" target=\"_parent\"><img src=\"https://colab.research.google.com/assets/colab-badge.svg\" alt=\"Open In Colab\"/></a>"
      ]
    },
    {
      "cell_type": "markdown",
      "source": [
        "PyTorch Workflow\n",
        "\n",
        "Let's explore a an example PyTorch end-to-end workflow.\n",
        "\n",
        "Resources:\n",
        "* Ground truth notebook - https://github.com/mrdbourke/pytorch-deep-learning/blob/main/01_pytorch_workflow.ipynb\n",
        "* Book version of notebook - https://www.learnpytorch.io/01_pytorch_workflow/\n",
        "* Ask a question- https://github.com/mrdbourke/pytorch-deep-learning/discussions"
      ],
      "metadata": {
        "id": "iw3uY54Mt6oy"
      }
    },
    {
      "cell_type": "code",
      "source": [
        "import torch\n",
        "from torch import nn ## has all bulding block for nueral network\n",
        "import matplotlib.pyplot as plt"
      ],
      "metadata": {
        "id": "2i9UBhxSt62B"
      },
      "execution_count": 102,
      "outputs": []
    },
    {
      "cell_type": "markdown",
      "source": [
        "# Data (preparing and loading)"
      ],
      "metadata": {
        "id": "dIG4bYGEwg-p"
      }
    },
    {
      "cell_type": "markdown",
      "source": [
        "Data can be almost anything... in machine learning.\n",
        "* Excel speadsheet\n",
        "* Images of any kind\n",
        "* Videos (YouTube has lots of data...)\n",
        "* Audio like songs or podcasts\n",
        "* DNA\n",
        "* Text\n",
        "Machine learning is a game of two parts:\n",
        "1. Get data into a numerical representation.\n",
        "2. Build a model to learn patterns in that numerical representation.\n",
        "\n",
        "To showcase this, let's create some *known* data using the linear regression formula.\n",
        "\n",
        "We'll use a linear regression formula to make a straight line with *known* **parameters**.|"
      ],
      "metadata": {
        "id": "8g6hA1mQ1hm7"
      }
    },
    {
      "cell_type": "code",
      "source": [
        "#parameters\n",
        "wight=0.7\n",
        "bias=0.3\n",
        "#create tensor\n",
        "start=0\n",
        "end=1\n",
        "step=0.02\n",
        "\n",
        "X=torch.arange(start,end,step).unsqueeze(dim=1)\n",
        "\n",
        "Y=wight*X+bias\n",
        "\n",
        "print(X[:10],Y[:10])\n",
        "print(len(X),len(Y))\n",
        "\n"
      ],
      "metadata": {
        "colab": {
          "base_uri": "https://localhost:8080/"
        },
        "id": "T-XeiRLHxIgI",
        "outputId": "c13aa891-d14b-4eeb-a102-e59b421cd332"
      },
      "execution_count": 103,
      "outputs": [
        {
          "output_type": "stream",
          "name": "stdout",
          "text": [
            "tensor([[0.0000],\n",
            "        [0.0200],\n",
            "        [0.0400],\n",
            "        [0.0600],\n",
            "        [0.0800],\n",
            "        [0.1000],\n",
            "        [0.1200],\n",
            "        [0.1400],\n",
            "        [0.1600],\n",
            "        [0.1800]]) tensor([[0.3000],\n",
            "        [0.3140],\n",
            "        [0.3280],\n",
            "        [0.3420],\n",
            "        [0.3560],\n",
            "        [0.3700],\n",
            "        [0.3840],\n",
            "        [0.3980],\n",
            "        [0.4120],\n",
            "        [0.4260]])\n",
            "50 50\n"
          ]
        }
      ]
    },
    {
      "cell_type": "markdown",
      "source": [
        "### Createing the training set and test set for our data set"
      ],
      "metadata": {
        "id": "emrEeiDy6IXu"
      }
    },
    {
      "cell_type": "code",
      "source": [
        "#should but spliting ritoe about 80%:20%\n",
        "traing_split=int(0.8*len(X))\n",
        "x_train,y_train=X[:traing_split],Y[:traing_split]\n",
        "x_test,y_test=X[traing_split:],Y[traing_split:]\n",
        "len(x_train),len(x_test) ,len(y_train),len(y_test)"
      ],
      "metadata": {
        "colab": {
          "base_uri": "https://localhost:8080/"
        },
        "id": "lUJ-VY-ZKfQO",
        "outputId": "1e132d26-66ea-433d-c827-b461bf9ba0c5"
      },
      "execution_count": 104,
      "outputs": [
        {
          "output_type": "execute_result",
          "data": {
            "text/plain": [
              "(40, 10, 40, 10)"
            ]
          },
          "metadata": {},
          "execution_count": 104
        }
      ]
    },
    {
      "cell_type": "code",
      "source": [
        "def plot_predictions(train_data=x_train,\n",
        "                      train_labels=y_train,\n",
        "                      test_data=x_test,\n",
        "                      test_labels=y_test,\n",
        "                      predictions=None):\n",
        "    \"\"\"\n",
        "    Plot training data and test data along with predictions.\n",
        "    \"\"\"\n",
        "    plt.figure(figsize=(10, 7))\n",
        "\n",
        "    # Plot training data in blue\n",
        "    plt.scatter(train_data, train_labels, c=\"b\", s=4, label=\"Training data\")\n",
        "\n",
        "    plt.scatter(test_data, test_labels, c=\"g\", s=4, label=\"Testing data\")\n",
        "\n",
        "    if predictions is not None:\n",
        "        # Plot the predictions in red (predictions were made on the test data)\n",
        "        plt.scatter(test_data, predictions, c=\"r\", s=4, label=\"Predictions\")\n",
        "    plt.legend(prop={\"size\": 14})\n",
        "    plt.show()"
      ],
      "metadata": {
        "id": "tkH7-qhLKvI2"
      },
      "execution_count": 105,
      "outputs": []
    },
    {
      "cell_type": "code",
      "source": [
        "plot_predictions()"
      ],
      "metadata": {
        "colab": {
          "base_uri": "https://localhost:8080/",
          "height": 599
        },
        "id": "KuVYvveQNbl-",
        "outputId": "12d51f3c-4e07-461a-ef29-041c5b736edf"
      },
      "execution_count": 106,
      "outputs": [
        {
          "output_type": "display_data",
          "data": {
            "text/plain": [
              "<Figure size 1000x700 with 1 Axes>"
            ],
            "image/png": "[encoded data removed]"
          },
          "metadata": {}
        }
      ]
    },
    {
      "cell_type": "markdown",
      "source": [
        "##Our first PyTorch model!\n",
        "This is very exciting... let's do it!\n",
        "\n",
        "Because we're going to be building classes throughout the course, I'd recommend getting familiar with OOP in Python, to do so you can use the\n",
        "following resource from Real Python:https://realpython.com/python3-object-oriented-programming .\n"
      ],
      "metadata": {
        "id": "P3ujlg1ZOMCp"
      }
    },
    {
      "cell_type": "code",
      "source": [
        "class LinearRegressionModel(nn.Module):\n",
        "  def __init__(self):\n",
        "      super().__init__()\n",
        "      self.weights = nn.Parameter(torch.rand(1,\n",
        "                                              requires_grad=True,\n",
        "                                              dtype=torch.float32))\n",
        "      self.bias = nn.Parameter(torch.rand(1,\n",
        "                                          requires_grad=True,\n",
        "                                          dtype=torch.float32))\n",
        "\n",
        "  def forward(self, x: torch.Tensor) -> torch.Tensor:\n",
        "      return self.weights * x + self.bias\n"
      ],
      "metadata": {
        "id": "cMF6zfz1Us03"
      },
      "execution_count": 107,
      "outputs": []
    },
    {
      "cell_type": "markdown",
      "source": [
        "### PyTorch model building essentials\n",
        "* torch.nn contains all of the buildings for computational graphs (a neural network can be considered a computational graph)\n",
        "* torch.nn.Parameter what parameters should our model try and learn, often a PyTorch layer from torch.nn will set these for us\n",
        "* torch.nn.Module The base class for all neural network modules,\n",
        "if you subclass it, you should overwrite forward()\n",
        "* torch.optim this where the optimizers in PyTorch live, they will help with gradient descent\n",
        "* def forward() -All nn. Module subclasses require you to overwrite forward(), this method defines what happens in the forward computation\n"
      ],
      "metadata": {
        "id": "lD0FBzWCVhqg"
      }
    },
    {
      "cell_type": "code",
      "source": [
        "#torch.manual_seed(42)\n",
        "model_0 = LinearRegressionModel()\n",
        "model_0"
      ],
      "metadata": {
        "colab": {
          "base_uri": "https://localhost:8080/"
        },
        "id": "jmhNNMze0ge2",
        "outputId": "d9dbb5fb-45fe-4bd7-ec66-a62e193b07ba"
      },
      "execution_count": 108,
      "outputs": [
        {
          "output_type": "execute_result",
          "data": {
            "text/plain": [
              "LinearRegressionModel()"
            ]
          },
          "metadata": {},
          "execution_count": 108
        }
      ]
    },
    {
      "cell_type": "code",
      "source": [
        "list(model_0.parameters())"
      ],
      "metadata": {
        "colab": {
          "base_uri": "https://localhost:8080/"
        },
        "id": "bEwWjf_r-EJo",
        "outputId": "35891ae0-384d-43e7-d093-c570ea5f6d69"
      },
      "execution_count": 109,
      "outputs": [
        {
          "output_type": "execute_result",
          "data": {
            "text/plain": [
              "[Parameter containing:\n",
              " tensor([0.2566], requires_grad=True),\n",
              " Parameter containing:\n",
              " tensor([0.7936], requires_grad=True)]"
            ]
          },
          "metadata": {},
          "execution_count": 109
        }
      ]
    },
    {
      "cell_type": "code",
      "source": [
        "model_0.state_dict()"
      ],
      "metadata": {
        "colab": {
          "base_uri": "https://localhost:8080/"
        },
        "id": "NT4kKKs9BIcq",
        "outputId": "7058c6c7-005b-43bc-f40b-00a18de4cf5f"
      },
      "execution_count": 110,
      "outputs": [
        {
          "output_type": "execute_result",
          "data": {
            "text/plain": [
              "OrderedDict([('weights', tensor([0.2566])), ('bias', tensor([0.7936]))])"
            ]
          },
          "metadata": {},
          "execution_count": 110
        }
      ]
    },
    {
      "cell_type": "code",
      "source": [
        "y_pr=model_0(x_test)\n",
        "y_pr"
      ],
      "metadata": {
        "colab": {
          "base_uri": "https://localhost:8080/"
        },
        "id": "61Vu3AIqUqUx",
        "outputId": "0c317216-2d18-4a7f-e700-66efc6c5de63"
      },
      "execution_count": 115,
      "outputs": [
        {
          "output_type": "execute_result",
          "data": {
            "text/plain": [
              "tensor([[0.9989],\n",
              "        [1.0040],\n",
              "        [1.0092],\n",
              "        [1.0143],\n",
              "        [1.0194],\n",
              "        [1.0246],\n",
              "        [1.0297],\n",
              "        [1.0348],\n",
              "        [1.0400],\n",
              "        [1.0451]], grad_fn=<AddBackward0>)"
            ]
          },
          "metadata": {},
          "execution_count": 115
        }
      ]
    },
    {
      "cell_type": "code",
      "source": [
        "## this way is more faster\n",
        "with torch.inference_mode():\n",
        "  y_predicte=model_0(x_test)\n",
        "\n",
        "y_predicte"
      ],
      "metadata": {
        "colab": {
          "base_uri": "https://localhost:8080/"
        },
        "id": "0phKVuA_BSxI",
        "outputId": "2c9bdccc-4f3c-47d0-8a4f-3dfad1dcffdc"
      },
      "execution_count": 112,
      "outputs": [
        {
          "output_type": "execute_result",
          "data": {
            "text/plain": [
              "tensor([[0.9989],\n",
              "        [1.0040],\n",
              "        [1.0092],\n",
              "        [1.0143],\n",
              "        [1.0194],\n",
              "        [1.0246],\n",
              "        [1.0297],\n",
              "        [1.0348],\n",
              "        [1.0400],\n",
              "        [1.0451]])"
            ]
          },
          "metadata": {},
          "execution_count": 112
        }
      ]
    },
    {
      "cell_type": "code",
      "source": [
        "plot_predictions(predictions=y_predicte)"
      ],
      "metadata": {
        "colab": {
          "base_uri": "https://localhost:8080/",
          "height": 599
        },
        "id": "sKJNvthxL57s",
        "outputId": "f7f475a3-8faf-4e39-dc80-95aa09ed40b0"
      },
      "execution_count": 113,
      "outputs": [
        {
          "output_type": "display_data",
          "data": {
            "text/plain": [
              "<Figure size 1000x700 with 1 Axes>"
            ],
            "image/png": "[encoded data removed]"
          },
          "metadata": {}
        }
      ]
    },
    {
      "cell_type": "code",
      "source": [],
      "metadata": {
        "id": "ypZiqh8sMMJc"
      },
      "execution_count": null,
      "outputs": []
    }
  ]
}