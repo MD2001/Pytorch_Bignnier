{
  "nbformat": 4,
  "nbformat_minor": 0,
  "metadata": {
    "colab": {
      "provenance": [],
      "gpuType": "T4",
      "authorship_tag": "ABX9TyPY5blKte3Gcv0mS31xgq0w",
      "include_colab_link": true
    },
    "kernelspec": {
      "name": "python3",
      "display_name": "Python 3"
    },
    "language_info": {
      "name": "python"
    },
    "accelerator": "GPU"
  },
  "cells": [
    {
      "cell_type": "markdown",
      "metadata": {
        "id": "view-in-github",
        "colab_type": "text"
      },
      "source": [
        "<a href=\"https://colab.research.google.com/github/MD2001/Pytorch_Bignnier/blob/main/01_pytoirch_WorkFlow.ipynb\" target=\"_parent\"><img src=\"https://colab.research.google.com/assets/colab-badge.svg\" alt=\"Open In Colab\"/></a>"
      ]
    },
    {
      "cell_type": "markdown",
      "source": [
        "## Title: 00. PyTorch Fundamentals\n",
        "Resource notebook: https://www.learnpytorch.io/00_pytorch_fundamentals/\n",
        "\n",
        "Discussion forum: https://github.com/mrdbourke/pytorch-deep-learning/discussions"
      ],
      "metadata": {
        "id": "0e83aUeWF9Dz"
      }
    },
    {
      "cell_type": "code",
      "execution_count": 108,
      "metadata": {
        "colab": {
          "base_uri": "https://localhost:8080/"
        },
        "id": "22YQ1fs4Fq0N",
        "outputId": "585df6ae-dd56-4981-d658-257ff7e0ab99"
      },
      "outputs": [
        {
          "output_type": "stream",
          "name": "stdout",
          "text": [
            "2.8.0+cu126\n"
          ]
        }
      ],
      "source": [
        "import torch\n",
        "import pandas as pd\n",
        "import numpy as np\n",
        "import matplotlib.pyplot as plt\n",
        "print(torch.__version__)"
      ]
    },
    {
      "cell_type": "markdown",
      "source": [
        "## introduction\n",
        "### tensors"
      ],
      "metadata": {
        "id": "UOicOkERGZy4"
      }
    },
    {
      "cell_type": "code",
      "source": [
        "#scaler\n",
        "scaler=torch.tensor(7)\n",
        "scaler"
      ],
      "metadata": {
        "colab": {
          "base_uri": "https://localhost:8080/"
        },
        "id": "VciDj-PUHFQS",
        "outputId": "40476fc3-abcd-4fee-b2ae-7468626ccded"
      },
      "execution_count": 109,
      "outputs": [
        {
          "output_type": "execute_result",
          "data": {
            "text/plain": [
              "tensor(7)"
            ]
          },
          "metadata": {},
          "execution_count": 109
        }
      ]
    },
    {
      "cell_type": "code",
      "source": [
        "scaler.shape"
      ],
      "metadata": {
        "colab": {
          "base_uri": "https://localhost:8080/"
        },
        "id": "SPUx3EwaOfaC",
        "outputId": "dd4ec69d-70e4-4d7f-accc-5aff49c5dee7"
      },
      "execution_count": 110,
      "outputs": [
        {
          "output_type": "execute_result",
          "data": {
            "text/plain": [
              "torch.Size([])"
            ]
          },
          "metadata": {},
          "execution_count": 110
        }
      ]
    },
    {
      "cell_type": "code",
      "source": [
        "scaler.ndim"
      ],
      "metadata": {
        "colab": {
          "base_uri": "https://localhost:8080/"
        },
        "id": "JifVtElKOiOx",
        "outputId": "a4d6a6ff-8a7f-478d-f084-e352af53d2df"
      },
      "execution_count": 111,
      "outputs": [
        {
          "output_type": "execute_result",
          "data": {
            "text/plain": [
              "0"
            ]
          },
          "metadata": {},
          "execution_count": 111
        }
      ]
    },
    {
      "cell_type": "code",
      "source": [
        "#Vector\n",
        "Vector=torch.tensor([7,7])\n",
        "Vector"
      ],
      "metadata": {
        "colab": {
          "base_uri": "https://localhost:8080/"
        },
        "id": "7CIzc3JHOrOZ",
        "outputId": "e5a3ac82-f96c-4fe7-ca30-113dad3877bc"
      },
      "execution_count": 112,
      "outputs": [
        {
          "output_type": "execute_result",
          "data": {
            "text/plain": [
              "tensor([7, 7])"
            ]
          },
          "metadata": {},
          "execution_count": 112
        }
      ]
    },
    {
      "cell_type": "code",
      "source": [
        "Vector.shape"
      ],
      "metadata": {
        "colab": {
          "base_uri": "https://localhost:8080/"
        },
        "id": "AE1nhNg0OukR",
        "outputId": "7a17f7ed-d953-4db1-e2be-87abd64bc5c5"
      },
      "execution_count": 113,
      "outputs": [
        {
          "output_type": "execute_result",
          "data": {
            "text/plain": [
              "torch.Size([2])"
            ]
          },
          "metadata": {},
          "execution_count": 113
        }
      ]
    },
    {
      "cell_type": "code",
      "source": [
        "Vector.ndim"
      ],
      "metadata": {
        "colab": {
          "base_uri": "https://localhost:8080/"
        },
        "id": "ELIcgDtMO-7a",
        "outputId": "657f00a8-66f3-48da-fcda-77dcbdf3c517"
      },
      "execution_count": 114,
      "outputs": [
        {
          "output_type": "execute_result",
          "data": {
            "text/plain": [
              "1"
            ]
          },
          "metadata": {},
          "execution_count": 114
        }
      ]
    },
    {
      "cell_type": "code",
      "source": [
        "#MATRIX\n",
        "MATRIX =torch.tensor([[1,3],[2,4]])\n",
        "MATRIX"
      ],
      "metadata": {
        "colab": {
          "base_uri": "https://localhost:8080/"
        },
        "id": "lnKrOHGJPD-i",
        "outputId": "a1b05abe-080b-40e0-c061-1b9ad72bfbee"
      },
      "execution_count": 115,
      "outputs": [
        {
          "output_type": "execute_result",
          "data": {
            "text/plain": [
              "tensor([[1, 3],\n",
              "        [2, 4]])"
            ]
          },
          "metadata": {},
          "execution_count": 115
        }
      ]
    },
    {
      "cell_type": "code",
      "source": [
        "MATRIX.shape"
      ],
      "metadata": {
        "colab": {
          "base_uri": "https://localhost:8080/"
        },
        "id": "BAAQ128APSFa",
        "outputId": "c3655f97-167f-4e41-8cd7-e9291e618866"
      },
      "execution_count": 116,
      "outputs": [
        {
          "output_type": "execute_result",
          "data": {
            "text/plain": [
              "torch.Size([2, 2])"
            ]
          },
          "metadata": {},
          "execution_count": 116
        }
      ]
    },
    {
      "cell_type": "code",
      "source": [
        "MATRIX.ndim"
      ],
      "metadata": {
        "colab": {
          "base_uri": "https://localhost:8080/"
        },
        "id": "2tq80fJhPXXS",
        "outputId": "5ed443fb-a079-48c9-f92e-f2bfcf03db62"
      },
      "execution_count": 117,
      "outputs": [
        {
          "output_type": "execute_result",
          "data": {
            "text/plain": [
              "2"
            ]
          },
          "metadata": {},
          "execution_count": 117
        }
      ]
    },
    {
      "cell_type": "code",
      "source": [
        "MATRIX[0]"
      ],
      "metadata": {
        "colab": {
          "base_uri": "https://localhost:8080/"
        },
        "id": "Re0pS3G1PgLy",
        "outputId": "a4a560b4-411d-490c-a197-6ce693efd6ab"
      },
      "execution_count": 118,
      "outputs": [
        {
          "output_type": "execute_result",
          "data": {
            "text/plain": [
              "tensor([1, 3])"
            ]
          },
          "metadata": {},
          "execution_count": 118
        }
      ]
    },
    {
      "cell_type": "code",
      "source": [
        "MATRIX[1]"
      ],
      "metadata": {
        "colab": {
          "base_uri": "https://localhost:8080/"
        },
        "id": "IiOfer8RQOfK",
        "outputId": "ad10334e-c180-4461-e7d6-f524a3e41baa"
      },
      "execution_count": 119,
      "outputs": [
        {
          "output_type": "execute_result",
          "data": {
            "text/plain": [
              "tensor([2, 4])"
            ]
          },
          "metadata": {},
          "execution_count": 119
        }
      ]
    },
    {
      "cell_type": "code",
      "source": [
        "#Tensors\n",
        "TENSOR = torch.tensor([[[1,2,3,4],[5,6,7,8],[9,10,11,12]]])\n",
        "TENSOR"
      ],
      "metadata": {
        "colab": {
          "base_uri": "https://localhost:8080/"
        },
        "id": "n25J-YdcQSCK",
        "outputId": "847a84e1-b81b-4539-fb89-28960ae23014"
      },
      "execution_count": 120,
      "outputs": [
        {
          "output_type": "execute_result",
          "data": {
            "text/plain": [
              "tensor([[[ 1,  2,  3,  4],\n",
              "         [ 5,  6,  7,  8],\n",
              "         [ 9, 10, 11, 12]]])"
            ]
          },
          "metadata": {},
          "execution_count": 120
        }
      ]
    },
    {
      "cell_type": "code",
      "source": [
        "TENSOR.shape"
      ],
      "metadata": {
        "colab": {
          "base_uri": "https://localhost:8080/"
        },
        "id": "tkVcZiJnQXxi",
        "outputId": "9bf9b0bf-32c9-4318-93a4-5d4a9991a8a2"
      },
      "execution_count": 121,
      "outputs": [
        {
          "output_type": "execute_result",
          "data": {
            "text/plain": [
              "torch.Size([1, 3, 4])"
            ]
          },
          "metadata": {},
          "execution_count": 121
        }
      ]
    },
    {
      "cell_type": "code",
      "source": [
        "TENSOR.ndim"
      ],
      "metadata": {
        "colab": {
          "base_uri": "https://localhost:8080/"
        },
        "id": "SHmVrFvLQxvi",
        "outputId": "f3cec553-6f30-49ea-ec5f-557ecf1f2a86"
      },
      "execution_count": 122,
      "outputs": [
        {
          "output_type": "execute_result",
          "data": {
            "text/plain": [
              "3"
            ]
          },
          "metadata": {},
          "execution_count": 122
        }
      ]
    },
    {
      "cell_type": "code",
      "source": [
        "TENSOR[0]"
      ],
      "metadata": {
        "colab": {
          "base_uri": "https://localhost:8080/"
        },
        "id": "AEwxzbAiQ4vq",
        "outputId": "aee0c19e-a4ae-48c7-968e-be44c8623728"
      },
      "execution_count": 123,
      "outputs": [
        {
          "output_type": "execute_result",
          "data": {
            "text/plain": [
              "tensor([[ 1,  2,  3,  4],\n",
              "        [ 5,  6,  7,  8],\n",
              "        [ 9, 10, 11, 12]])"
            ]
          },
          "metadata": {},
          "execution_count": 123
        }
      ]
    },
    {
      "cell_type": "code",
      "source": [
        "Tesnor2=torch.tensor([[[1,2],[3,4],[5,6]],[[7,8],[9,10],[11,12]]])\n",
        "Tesnor2"
      ],
      "metadata": {
        "colab": {
          "base_uri": "https://localhost:8080/"
        },
        "id": "ez_LtaTjQ6ka",
        "outputId": "2b744811-cb32-4b2c-ad96-23286f599fe9"
      },
      "execution_count": 124,
      "outputs": [
        {
          "output_type": "execute_result",
          "data": {
            "text/plain": [
              "tensor([[[ 1,  2],\n",
              "         [ 3,  4],\n",
              "         [ 5,  6]],\n",
              "\n",
              "        [[ 7,  8],\n",
              "         [ 9, 10],\n",
              "         [11, 12]]])"
            ]
          },
          "metadata": {},
          "execution_count": 124
        }
      ]
    },
    {
      "cell_type": "code",
      "source": [
        "Tesnor2.ndim"
      ],
      "metadata": {
        "colab": {
          "base_uri": "https://localhost:8080/"
        },
        "id": "MxFQTjiaQ-ka",
        "outputId": "34fc1f42-52a5-4850-b36e-27e66521ff2e"
      },
      "execution_count": 125,
      "outputs": [
        {
          "output_type": "execute_result",
          "data": {
            "text/plain": [
              "3"
            ]
          },
          "metadata": {},
          "execution_count": 125
        }
      ]
    },
    {
      "cell_type": "code",
      "source": [
        "Tesnor2.shape"
      ],
      "metadata": {
        "colab": {
          "base_uri": "https://localhost:8080/"
        },
        "id": "eGnClSgVWSzW",
        "outputId": "7ab74fa4-6163-4bbd-e876-cc0f362cc1c4"
      },
      "execution_count": 126,
      "outputs": [
        {
          "output_type": "execute_result",
          "data": {
            "text/plain": [
              "torch.Size([2, 3, 2])"
            ]
          },
          "metadata": {},
          "execution_count": 126
        }
      ]
    },
    {
      "cell_type": "markdown",
      "source": [
        "## Random tensors\n",
        "### Why random tensors?\n",
        "### Random tensors are important because the way many neural networks learn is that they start with tensors full of random numbers and then\n",
        "### Torch random tensors-https://docs.pytorch.org/docs/stable/generated/torch.rand.html"
      ],
      "metadata": {
        "id": "pUsMxHP5WYAz"
      }
    },
    {
      "cell_type": "code",
      "source": [
        "tensore_rand=torch.rand(3,4)\n",
        "tensore_rand"
      ],
      "metadata": {
        "colab": {
          "base_uri": "https://localhost:8080/"
        },
        "id": "EDTkZ56yxqa6",
        "outputId": "d38645a8-c4e3-4fce-8283-dee06aea5292"
      },
      "execution_count": 127,
      "outputs": [
        {
          "output_type": "execute_result",
          "data": {
            "text/plain": [
              "tensor([[0.4216, 0.2373, 0.8111, 0.5340],\n",
              "        [0.6834, 0.6528, 0.6123, 0.9834],\n",
              "        [0.1826, 0.1239, 0.4262, 0.9717]])"
            ]
          },
          "metadata": {},
          "execution_count": 127
        }
      ]
    },
    {
      "cell_type": "code",
      "source": [
        "tensore_rand2=torch.rand(size=(3,224,224))\n",
        "tensore_rand2"
      ],
      "metadata": {
        "colab": {
          "base_uri": "https://localhost:8080/"
        },
        "id": "PiMJWhaHxx27",
        "outputId": "1179038b-c024-4264-a764-f7de4aae9aa5"
      },
      "execution_count": 128,
      "outputs": [
        {
          "output_type": "execute_result",
          "data": {
            "text/plain": [
              "tensor([[[0.6248, 0.7822, 0.4098,  ..., 0.5574, 0.4617, 0.5910],\n",
              "         [0.8125, 0.1991, 0.8147,  ..., 0.0305, 0.8391, 0.8155],\n",
              "         [0.1815, 0.1551, 0.4583,  ..., 0.9515, 0.5850, 0.0560],\n",
              "         ...,\n",
              "         [0.9278, 0.8557, 0.6127,  ..., 0.6272, 0.7446, 0.9792],\n",
              "         [0.8955, 0.5506, 0.2410,  ..., 0.5146, 0.7194, 0.1651],\n",
              "         [0.6431, 0.3780, 0.2382,  ..., 0.2936, 0.6081, 0.0819]],\n",
              "\n",
              "        [[0.6269, 0.4986, 0.6736,  ..., 0.5330, 0.8418, 0.1268],\n",
              "         [0.6790, 0.5004, 0.4073,  ..., 0.4173, 0.5488, 0.2828],\n",
              "         [0.0696, 0.9972, 0.0032,  ..., 0.9242, 0.1857, 0.2759],\n",
              "         ...,\n",
              "         [0.2403, 0.4134, 0.4760,  ..., 0.7852, 0.8114, 0.7579],\n",
              "         [0.1290, 0.5669, 0.3054,  ..., 0.6924, 0.5945, 0.9664],\n",
              "         [0.8446, 0.2196, 0.9623,  ..., 0.2774, 0.7709, 0.5955]],\n",
              "\n",
              "        [[0.2027, 0.8164, 0.5923,  ..., 0.6365, 0.7605, 0.8878],\n",
              "         [0.0560, 0.6202, 0.1344,  ..., 0.7107, 0.2632, 0.7326],\n",
              "         [0.7437, 0.8904, 0.8845,  ..., 0.5876, 0.1500, 0.4703],\n",
              "         ...,\n",
              "         [0.9691, 0.3408, 0.3780,  ..., 0.5340, 0.7731, 0.0074],\n",
              "         [0.8497, 0.5941, 0.3523,  ..., 0.6814, 0.6385, 0.5011],\n",
              "         [0.9404, 0.4460, 0.6003,  ..., 0.0327, 0.2252, 0.9212]]])"
            ]
          },
          "metadata": {},
          "execution_count": 128
        }
      ]
    },
    {
      "cell_type": "code",
      "source": [
        "tensore_rand2.ndim , tensore_rand2.shape"
      ],
      "metadata": {
        "colab": {
          "base_uri": "https://localhost:8080/"
        },
        "id": "TNbJhmLByJOD",
        "outputId": "a94ecefb-4954-4057-9c09-be10b13a517b"
      },
      "execution_count": 129,
      "outputs": [
        {
          "output_type": "execute_result",
          "data": {
            "text/plain": [
              "(3, torch.Size([3, 224, 224]))"
            ]
          },
          "metadata": {},
          "execution_count": 129
        }
      ]
    },
    {
      "cell_type": "markdown",
      "source": [
        "## zeros or ones arrays useed often to mask biger arrays"
      ],
      "metadata": {
        "id": "x5Ssi8J1z9R8"
      }
    },
    {
      "cell_type": "code",
      "source": [
        "zeros=torch.zeros(size=(3,4))\n",
        "zeros"
      ],
      "metadata": {
        "colab": {
          "base_uri": "https://localhost:8080/"
        },
        "id": "iGAD4OdrycC8",
        "outputId": "4335776c-85c2-477f-c0d4-ad1b6ee135b0"
      },
      "execution_count": 130,
      "outputs": [
        {
          "output_type": "execute_result",
          "data": {
            "text/plain": [
              "tensor([[0., 0., 0., 0.],\n",
              "        [0., 0., 0., 0.],\n",
              "        [0., 0., 0., 0.]])"
            ]
          },
          "metadata": {},
          "execution_count": 130
        }
      ]
    },
    {
      "cell_type": "code",
      "source": [
        "ones=torch.ones(size=(3,4))\n",
        "ones"
      ],
      "metadata": {
        "colab": {
          "base_uri": "https://localhost:8080/"
        },
        "id": "Wss6DNfnzxUL",
        "outputId": "0b7a0ba4-c473-4486-d453-729012a58a4f"
      },
      "execution_count": 131,
      "outputs": [
        {
          "output_type": "execute_result",
          "data": {
            "text/plain": [
              "tensor([[1., 1., 1., 1.],\n",
              "        [1., 1., 1., 1.],\n",
              "        [1., 1., 1., 1.]])"
            ]
          },
          "metadata": {},
          "execution_count": 131
        }
      ]
    },
    {
      "cell_type": "code",
      "source": [
        "aranges=torch.arange(1,11,1)\n",
        "aranges"
      ],
      "metadata": {
        "colab": {
          "base_uri": "https://localhost:8080/"
        },
        "id": "qXAetFmyz4tq",
        "outputId": "272ff6c6-2d2d-4724-c8d0-3887cdf0001c"
      },
      "execution_count": 132,
      "outputs": [
        {
          "output_type": "execute_result",
          "data": {
            "text/plain": [
              "tensor([ 1,  2,  3,  4,  5,  6,  7,  8,  9, 10])"
            ]
          },
          "metadata": {},
          "execution_count": 132
        }
      ]
    },
    {
      "cell_type": "code",
      "source": [
        "zeros_like=torch.zeros_like(input=aranges)\n",
        "zeros_like"
      ],
      "metadata": {
        "colab": {
          "base_uri": "https://localhost:8080/"
        },
        "id": "1UsF3L0a0ruN",
        "outputId": "3f51edca-5e2a-4573-9017-036b2f22ffef"
      },
      "execution_count": 133,
      "outputs": [
        {
          "output_type": "execute_result",
          "data": {
            "text/plain": [
              "tensor([0, 0, 0, 0, 0, 0, 0, 0, 0, 0])"
            ]
          },
          "metadata": {},
          "execution_count": 133
        }
      ]
    },
    {
      "cell_type": "markdown",
      "source": [
        "### Tensor datatypes\n",
        "**Note:** Tensor datatypes is one of the 3 big errors you'll run into with PyTorch\n",
        "& deep learning:\n",
        "1. Tensors not right datatype\n",
        "2. Tensors not right shape\n",
        "3. Tensors not on the right device"
      ],
      "metadata": {
        "id": "Lcoo9keUO6iO"
      }
    },
    {
      "cell_type": "code",
      "source": [
        "float_32_tensor=torch.tensor([3.0,6.0,9.0],\n",
        "                             dtype=None,\n",
        "                             device=None,\n",
        "                             requires_grad=False)\n",
        "float_32_tensor"
      ],
      "metadata": {
        "id": "1eShMBWC10O9",
        "colab": {
          "base_uri": "https://localhost:8080/"
        },
        "outputId": "ee7a063a-81a8-488f-b3b4-d5306576442c"
      },
      "execution_count": 134,
      "outputs": [
        {
          "output_type": "execute_result",
          "data": {
            "text/plain": [
              "tensor([3., 6., 9.])"
            ]
          },
          "metadata": {},
          "execution_count": 134
        }
      ]
    },
    {
      "cell_type": "code",
      "source": [
        "float_16_tensor=float_32_tensor.type(torch.float16)\n",
        "float_16_tensor"
      ],
      "metadata": {
        "colab": {
          "base_uri": "https://localhost:8080/"
        },
        "id": "N5h3XyGpPT70",
        "outputId": "aa05a375-d038-43c7-ed8e-19e3e83c0f0b"
      },
      "execution_count": 135,
      "outputs": [
        {
          "output_type": "execute_result",
          "data": {
            "text/plain": [
              "tensor([3., 6., 9.], dtype=torch.float16)"
            ]
          },
          "metadata": {},
          "execution_count": 135
        }
      ]
    },
    {
      "cell_type": "code",
      "source": [
        "float_16_tensor*float_32_tensor ## why this work?"
      ],
      "metadata": {
        "colab": {
          "base_uri": "https://localhost:8080/"
        },
        "id": "P8mXggQCQRoF",
        "outputId": "5aa03864-8825-4f2b-9fc8-afb529a356e6"
      },
      "execution_count": 136,
      "outputs": [
        {
          "output_type": "execute_result",
          "data": {
            "text/plain": [
              "tensor([ 9., 36., 81.])"
            ]
          },
          "metadata": {},
          "execution_count": 136
        }
      ]
    },
    {
      "cell_type": "code",
      "source": [
        "int_32_tensor=torch.tensor([1,2,3],dtype=torch.int32)\n",
        "int_32_tensor"
      ],
      "metadata": {
        "id": "HxkmWW3sQoAs",
        "colab": {
          "base_uri": "https://localhost:8080/"
        },
        "outputId": "5fb0f135-7635-4fec-eb87-54ecd84585c3"
      },
      "execution_count": 137,
      "outputs": [
        {
          "output_type": "execute_result",
          "data": {
            "text/plain": [
              "tensor([1, 2, 3], dtype=torch.int32)"
            ]
          },
          "metadata": {},
          "execution_count": 137
        }
      ]
    },
    {
      "cell_type": "code",
      "source": [
        "float_16_tensor*int_32_tensor"
      ],
      "metadata": {
        "colab": {
          "base_uri": "https://localhost:8080/"
        },
        "id": "H3gvKmr8E5wk",
        "outputId": "c8659d5a-bd58-4da2-e9ac-bd57838599e9"
      },
      "execution_count": 138,
      "outputs": [
        {
          "output_type": "execute_result",
          "data": {
            "text/plain": [
              "tensor([ 3., 12., 27.], dtype=torch.float16)"
            ]
          },
          "metadata": {},
          "execution_count": 138
        }
      ]
    },
    {
      "cell_type": "code",
      "source": [
        "some_tensor=torch.rand(3,4)\n",
        "some_tensor"
      ],
      "metadata": {
        "colab": {
          "base_uri": "https://localhost:8080/"
        },
        "id": "LSvXYJCyE_sz",
        "outputId": "69ac8f2f-85c7-472b-99eb-68146546bc0a"
      },
      "execution_count": 139,
      "outputs": [
        {
          "output_type": "execute_result",
          "data": {
            "text/plain": [
              "tensor([[0.8374, 0.9304, 0.4142, 0.7294],\n",
              "        [0.2263, 0.4782, 0.5584, 0.6144],\n",
              "        [0.6632, 0.9714, 0.2523, 0.9516]])"
            ]
          },
          "metadata": {},
          "execution_count": 139
        }
      ]
    },
    {
      "cell_type": "code",
      "source": [
        "print(some_tensor)\n",
        "print(f\"this is the dtype of tensor: {some_tensor.dtype}\")\n",
        "print(f\"this is the shape of tenosr: {some_tensor.shape}\")\n",
        "print(f\"this is the device of tensor: {some_tensor.device}\")"
      ],
      "metadata": {
        "colab": {
          "base_uri": "https://localhost:8080/"
        },
        "id": "MGbE5HtYGrLU",
        "outputId": "9c4f95b3-a7cc-48da-db16-d9b14f776956"
      },
      "execution_count": 140,
      "outputs": [
        {
          "output_type": "stream",
          "name": "stdout",
          "text": [
            "tensor([[0.8374, 0.9304, 0.4142, 0.7294],\n",
            "        [0.2263, 0.4782, 0.5584, 0.6144],\n",
            "        [0.6632, 0.9714, 0.2523, 0.9516]])\n",
            "this is the dtype of tensor: torch.float32\n",
            "this is the shape of tenosr: torch.Size([3, 4])\n",
            "this is the device of tensor: cpu\n"
          ]
        }
      ]
    },
    {
      "cell_type": "markdown",
      "source": [
        "##math in tensors"
      ],
      "metadata": {
        "id": "Kobaa0ShG-7F"
      }
    },
    {
      "cell_type": "code",
      "source": [
        "tensor=torch.tensor([1,2,3])\n",
        "tensor"
      ],
      "metadata": {
        "colab": {
          "base_uri": "https://localhost:8080/"
        },
        "id": "GhaZVXKjJfts",
        "outputId": "b410b983-3f7e-4a38-b298-d01add1f482e"
      },
      "execution_count": 141,
      "outputs": [
        {
          "output_type": "execute_result",
          "data": {
            "text/plain": [
              "tensor([1, 2, 3])"
            ]
          },
          "metadata": {},
          "execution_count": 141
        }
      ]
    },
    {
      "cell_type": "code",
      "source": [
        "tensor+10"
      ],
      "metadata": {
        "colab": {
          "base_uri": "https://localhost:8080/"
        },
        "id": "87nx9CHjJlcM",
        "outputId": "9833e770-6186-4e59-b9b7-9991682a05cd"
      },
      "execution_count": 142,
      "outputs": [
        {
          "output_type": "execute_result",
          "data": {
            "text/plain": [
              "tensor([11, 12, 13])"
            ]
          },
          "metadata": {},
          "execution_count": 142
        }
      ]
    },
    {
      "cell_type": "code",
      "source": [
        "tensor*10"
      ],
      "metadata": {
        "colab": {
          "base_uri": "https://localhost:8080/"
        },
        "id": "X7Brkwm8JoWH",
        "outputId": "c7a50988-18d9-4f34-886a-649ba3f8389c"
      },
      "execution_count": 143,
      "outputs": [
        {
          "output_type": "execute_result",
          "data": {
            "text/plain": [
              "tensor([10, 20, 30])"
            ]
          },
          "metadata": {},
          "execution_count": 143
        }
      ]
    },
    {
      "cell_type": "code",
      "source": [
        "tensor-10"
      ],
      "metadata": {
        "colab": {
          "base_uri": "https://localhost:8080/"
        },
        "id": "ap5cvfK-JoTy",
        "outputId": "3ff0018a-372d-4d79-d13f-7dfa47718799"
      },
      "execution_count": 144,
      "outputs": [
        {
          "output_type": "execute_result",
          "data": {
            "text/plain": [
              "tensor([-9, -8, -7])"
            ]
          },
          "metadata": {},
          "execution_count": 144
        }
      ]
    },
    {
      "cell_type": "code",
      "source": [
        "torch.add(tensor,10)"
      ],
      "metadata": {
        "colab": {
          "base_uri": "https://localhost:8080/"
        },
        "id": "Zr7U6KnpJoRe",
        "outputId": "33b7b57e-c302-45e3-dcae-8311f1564317"
      },
      "execution_count": 145,
      "outputs": [
        {
          "output_type": "execute_result",
          "data": {
            "text/plain": [
              "tensor([11, 12, 13])"
            ]
          },
          "metadata": {},
          "execution_count": 145
        }
      ]
    },
    {
      "cell_type": "markdown",
      "source": [
        "Matrix multiplication\n",
        "Two main ways of performing multiplication in neural networks and deep learning:\n",
        "1. Element-wise multiplication\n",
        "2. Matrix mutliplication (dot product)\n",
        "More information on multiplying matrices -  https://www.mathsisfun.com/algebra/matrix-multiplying.html\n"
      ],
      "metadata": {
        "id": "0f8EgpQxLI0t"
      }
    },
    {
      "cell_type": "code",
      "source": [
        "%%time\n",
        "torch.matmul(tensor,tensor)\n",
        "## since the total time is 10 time or more less than for loop this method is too better"
      ],
      "metadata": {
        "colab": {
          "base_uri": "https://localhost:8080/"
        },
        "id": "AThTEaGnJoPS",
        "outputId": "d00c9388-a039-483b-85d9-77893fa28cea"
      },
      "execution_count": 146,
      "outputs": [
        {
          "output_type": "stream",
          "name": "stdout",
          "text": [
            "CPU times: user 403 µs, sys: 29 µs, total: 432 µs\n",
            "Wall time: 1.69 ms\n"
          ]
        },
        {
          "output_type": "execute_result",
          "data": {
            "text/plain": [
              "tensor(14)"
            ]
          },
          "metadata": {},
          "execution_count": 146
        }
      ]
    },
    {
      "cell_type": "code",
      "source": [
        "%%time\n",
        "value = 0\n",
        "for i in range(len(tensor)):\n",
        "  value += tensor[i] * tensor[i]\n",
        "print(value)"
      ],
      "metadata": {
        "colab": {
          "base_uri": "https://localhost:8080/"
        },
        "id": "4_CLfEtKJoNE",
        "outputId": "5c9b4452-1223-4817-8130-dfd2e5da03d2"
      },
      "execution_count": 147,
      "outputs": [
        {
          "output_type": "stream",
          "name": "stdout",
          "text": [
            "tensor(14)\n",
            "CPU times: user 889 µs, sys: 66 µs, total: 955 µs\n",
            "Wall time: 1.68 ms\n"
          ]
        }
      ]
    },
    {
      "cell_type": "markdown",
      "source": [
        "* short cut for torch.matmul is @\n",
        "1. the first rule in matrxt multiblication is the inner dimintion should be equla\n",
        "- for example:\n",
        "* '(3,2)'@'(3,2)' not work\n",
        "* '(3,2)'@'(2,3)' will work\n",
        "* '(2,3)'@'(3,2)' will work\n",
        "2. the resultin is the outer dimintion"
      ],
      "metadata": {
        "id": "z56ejk-LV4Xp"
      }
    },
    {
      "cell_type": "code",
      "source": [
        "(torch.rand(3,2) @ torch.rand(2,3) ).shape"
      ],
      "metadata": {
        "colab": {
          "base_uri": "https://localhost:8080/"
        },
        "id": "NEnANCqmJoKp",
        "outputId": "cf9d4a8d-311a-4e3d-887c-f58752546d83"
      },
      "execution_count": 148,
      "outputs": [
        {
          "output_type": "execute_result",
          "data": {
            "text/plain": [
              "torch.Size([3, 3])"
            ]
          },
          "metadata": {},
          "execution_count": 148
        }
      ]
    },
    {
      "cell_type": "markdown",
      "source": [
        "#the transpose is importatint how to use it"
      ],
      "metadata": {
        "id": "TJHRb0tkJoIF"
      }
    },
    {
      "cell_type": "code",
      "source": [
        "tensor=torch.rand(3,2)\n",
        "tensor"
      ],
      "metadata": {
        "colab": {
          "base_uri": "https://localhost:8080/"
        },
        "id": "B_RjhCGJbZIw",
        "outputId": "5d3f3adf-e160-426c-f680-30b33b5a629a"
      },
      "execution_count": 149,
      "outputs": [
        {
          "output_type": "execute_result",
          "data": {
            "text/plain": [
              "tensor([[0.7803, 0.4587],\n",
              "        [0.5491, 0.4142],\n",
              "        [0.5111, 0.1247]])"
            ]
          },
          "metadata": {},
          "execution_count": 149
        }
      ]
    },
    {
      "cell_type": "code",
      "source": [
        "tensor @ tensor.T"
      ],
      "metadata": {
        "colab": {
          "base_uri": "https://localhost:8080/"
        },
        "id": "sSuSBiEdbgZw",
        "outputId": "ec88fc74-8717-4043-c4da-91212a5c5f08"
      },
      "execution_count": 150,
      "outputs": [
        {
          "output_type": "execute_result",
          "data": {
            "text/plain": [
              "tensor([[0.8192, 0.6184, 0.4559],\n",
              "        [0.6184, 0.4730, 0.3323],\n",
              "        [0.4559, 0.3323, 0.2767]])"
            ]
          },
          "metadata": {},
          "execution_count": 150
        }
      ]
    },
    {
      "cell_type": "code",
      "source": [
        "x=torch.arange(0,100,10)\n",
        "x"
      ],
      "metadata": {
        "id": "wbO8FvOPbkEA",
        "colab": {
          "base_uri": "https://localhost:8080/"
        },
        "outputId": "8443657e-3bb2-494f-e1b3-378a48440320"
      },
      "execution_count": 151,
      "outputs": [
        {
          "output_type": "execute_result",
          "data": {
            "text/plain": [
              "tensor([ 0, 10, 20, 30, 40, 50, 60, 70, 80, 90])"
            ]
          },
          "metadata": {},
          "execution_count": 151
        }
      ]
    },
    {
      "cell_type": "code",
      "source": [
        "torch.max(x),x.max()"
      ],
      "metadata": {
        "colab": {
          "base_uri": "https://localhost:8080/"
        },
        "id": "oYcowH7iEpMQ",
        "outputId": "0f9adc30-0bbf-4f63-e77b-f9cbb355b4ac"
      },
      "execution_count": 152,
      "outputs": [
        {
          "output_type": "execute_result",
          "data": {
            "text/plain": [
              "(tensor(90), tensor(90))"
            ]
          },
          "metadata": {},
          "execution_count": 152
        }
      ]
    },
    {
      "cell_type": "code",
      "source": [
        "torch.min(x),x.min()"
      ],
      "metadata": {
        "colab": {
          "base_uri": "https://localhost:8080/"
        },
        "id": "AtOvCwbbEvq-",
        "outputId": "dbbc23d6-1d88-466c-bd71-b427743726dc"
      },
      "execution_count": 153,
      "outputs": [
        {
          "output_type": "execute_result",
          "data": {
            "text/plain": [
              "(tensor(0), tensor(0))"
            ]
          },
          "metadata": {},
          "execution_count": 153
        }
      ]
    },
    {
      "cell_type": "code",
      "source": [
        "torch.mean(x.type(torch.float32)),x.type(torch.float32).mean()"
      ],
      "metadata": {
        "colab": {
          "base_uri": "https://localhost:8080/"
        },
        "id": "C4uBji8UEz0X",
        "outputId": "3daee528-2031-4816-e5df-26a7c98f8be0"
      },
      "execution_count": 154,
      "outputs": [
        {
          "output_type": "execute_result",
          "data": {
            "text/plain": [
              "(tensor(45.), tensor(45.))"
            ]
          },
          "metadata": {},
          "execution_count": 154
        }
      ]
    },
    {
      "cell_type": "code",
      "source": [
        "torch.sum(x),x.sum()"
      ],
      "metadata": {
        "colab": {
          "base_uri": "https://localhost:8080/"
        },
        "id": "LZNk-7RYE3K_",
        "outputId": "af2c47fd-49a0-48c4-bf04-f178f230f241"
      },
      "execution_count": 155,
      "outputs": [
        {
          "output_type": "execute_result",
          "data": {
            "text/plain": [
              "(tensor(450), tensor(450))"
            ]
          },
          "metadata": {},
          "execution_count": 155
        }
      ]
    },
    {
      "cell_type": "code",
      "source": [
        "x.argmax()"
      ],
      "metadata": {
        "colab": {
          "base_uri": "https://localhost:8080/"
        },
        "id": "EZyp-ixXF6uX",
        "outputId": "cfa3df83-a5d5-4db8-aaa1-572c4f941ecf"
      },
      "execution_count": 156,
      "outputs": [
        {
          "output_type": "execute_result",
          "data": {
            "text/plain": [
              "tensor(9)"
            ]
          },
          "metadata": {},
          "execution_count": 156
        }
      ]
    },
    {
      "cell_type": "code",
      "source": [
        "x.argmin()"
      ],
      "metadata": {
        "id": "0dNs-nNvG4yn",
        "outputId": "45e6d042-2077-461f-b935-f3ec54a3d316",
        "colab": {
          "base_uri": "https://localhost:8080/"
        }
      },
      "execution_count": 157,
      "outputs": [
        {
          "output_type": "execute_result",
          "data": {
            "text/plain": [
              "tensor(0)"
            ]
          },
          "metadata": {},
          "execution_count": 157
        }
      ]
    },
    {
      "cell_type": "markdown",
      "source": [
        "##Reshaping, stacking, squeezing and unsqueezing tensors\n",
        "* Reshaping - reshapes an input tensor to a defined shape\n",
        "View\n",
        "* Return a view of an input tensor of certain shape but keep the same memory as the original tensor\n",
        "Stacking\n",
        "* combine multiple tensors on top of each other (vstack) or side by side (hstack)\n",
        "\n",
        "* Squeeze removes all 1 dimensions from a tensor\n",
        "\n",
        "* Unsqueeze add a 1 dimension to a target tensor\n",
        "\n",
        "* Permute Return a view of the input with dimensions permuted (swapped) in a certain way"
      ],
      "metadata": {
        "id": "muIaSSToG6Lf"
      }
    },
    {
      "cell_type": "code",
      "source": [
        "tensor=torch.arange(1,10)\n",
        "tensor,tensor.shape"
      ],
      "metadata": {
        "id": "XmW19RUtdl6E",
        "colab": {
          "base_uri": "https://localhost:8080/"
        },
        "outputId": "1f974a44-58fa-41c3-8f1f-9e1316404711"
      },
      "execution_count": 158,
      "outputs": [
        {
          "output_type": "execute_result",
          "data": {
            "text/plain": [
              "(tensor([1, 2, 3, 4, 5, 6, 7, 8, 9]), torch.Size([9]))"
            ]
          },
          "metadata": {},
          "execution_count": 158
        }
      ]
    },
    {
      "cell_type": "code",
      "source": [
        "tensor_reshape=tensor.reshape(1,9)\n",
        "tensor_reshape,tensor_reshape.shape"
      ],
      "metadata": {
        "colab": {
          "base_uri": "https://localhost:8080/"
        },
        "id": "lZHHyYTH0s5a",
        "outputId": "5f2d024c-6807-406d-bd6d-ff28848b7910"
      },
      "execution_count": 159,
      "outputs": [
        {
          "output_type": "execute_result",
          "data": {
            "text/plain": [
              "(tensor([[1, 2, 3, 4, 5, 6, 7, 8, 9]]), torch.Size([1, 9]))"
            ]
          },
          "metadata": {},
          "execution_count": 159
        }
      ]
    },
    {
      "cell_type": "code",
      "source": [
        "tensor_reshape=tensor.reshape(3,3)\n",
        "tensor_reshape,tensor_reshape.shape"
      ],
      "metadata": {
        "colab": {
          "base_uri": "https://localhost:8080/"
        },
        "id": "-i6UWn8K04pw",
        "outputId": "98c37fb8-6f3e-412f-c787-997a285a678c"
      },
      "execution_count": 160,
      "outputs": [
        {
          "output_type": "execute_result",
          "data": {
            "text/plain": [
              "(tensor([[1, 2, 3],\n",
              "         [4, 5, 6],\n",
              "         [7, 8, 9]]),\n",
              " torch.Size([3, 3]))"
            ]
          },
          "metadata": {},
          "execution_count": 160
        }
      ]
    },
    {
      "cell_type": "code",
      "source": [
        "tensor , tensor_reshape"
      ],
      "metadata": {
        "colab": {
          "base_uri": "https://localhost:8080/"
        },
        "id": "5BkmVSRD0zKP",
        "outputId": "bcf3f309-1676-4dbd-8d45-b549a6c0031d"
      },
      "execution_count": 161,
      "outputs": [
        {
          "output_type": "execute_result",
          "data": {
            "text/plain": [
              "(tensor([1, 2, 3, 4, 5, 6, 7, 8, 9]),\n",
              " tensor([[1, 2, 3],\n",
              "         [4, 5, 6],\n",
              "         [7, 8, 9]]))"
            ]
          },
          "metadata": {},
          "execution_count": 161
        }
      ]
    },
    {
      "cell_type": "code",
      "source": [
        "tensor[0]=66\n",
        "tensor , tensor_reshape"
      ],
      "metadata": {
        "colab": {
          "base_uri": "https://localhost:8080/"
        },
        "id": "NbaSurwY6IQC",
        "outputId": "31afe6ab-fd28-488d-d931-ce85c5bf40f8"
      },
      "execution_count": 162,
      "outputs": [
        {
          "output_type": "execute_result",
          "data": {
            "text/plain": [
              "(tensor([66,  2,  3,  4,  5,  6,  7,  8,  9]),\n",
              " tensor([[66,  2,  3],\n",
              "         [ 4,  5,  6],\n",
              "         [ 7,  8,  9]]))"
            ]
          },
          "metadata": {},
          "execution_count": 162
        }
      ]
    },
    {
      "cell_type": "code",
      "source": [
        "x=torch.arange(1,10)\n",
        "x ,x.shape"
      ],
      "metadata": {
        "colab": {
          "base_uri": "https://localhost:8080/"
        },
        "id": "6C5dVrka1DFV",
        "outputId": "b1a5bb46-b08d-424b-dde6-5c9860ecb4e2"
      },
      "execution_count": 163,
      "outputs": [
        {
          "output_type": "execute_result",
          "data": {
            "text/plain": [
              "(tensor([1, 2, 3, 4, 5, 6, 7, 8, 9]), torch.Size([9]))"
            ]
          },
          "metadata": {},
          "execution_count": 163
        }
      ]
    },
    {
      "cell_type": "code",
      "source": [
        "z=x.view(3,3)\n",
        "z"
      ],
      "metadata": {
        "colab": {
          "base_uri": "https://localhost:8080/"
        },
        "id": "y0-xT3Ev1DC-",
        "outputId": "b25b90d9-c341-48af-b14d-97f500b4d116"
      },
      "execution_count": 164,
      "outputs": [
        {
          "output_type": "execute_result",
          "data": {
            "text/plain": [
              "tensor([[1, 2, 3],\n",
              "        [4, 5, 6],\n",
              "        [7, 8, 9]])"
            ]
          },
          "metadata": {},
          "execution_count": 164
        }
      ]
    },
    {
      "cell_type": "code",
      "source": [
        "x[0]=55\n",
        "x,z\n",
        "#reshape and view do the same"
      ],
      "metadata": {
        "colab": {
          "base_uri": "https://localhost:8080/"
        },
        "id": "EfaM4nPk1DAm",
        "outputId": "71ad9b40-bf51-4c84-bbd4-08c613991621"
      },
      "execution_count": 165,
      "outputs": [
        {
          "output_type": "execute_result",
          "data": {
            "text/plain": [
              "(tensor([55,  2,  3,  4,  5,  6,  7,  8,  9]),\n",
              " tensor([[55,  2,  3],\n",
              "         [ 4,  5,  6],\n",
              "         [ 7,  8,  9]]))"
            ]
          },
          "metadata": {},
          "execution_count": 165
        }
      ]
    },
    {
      "cell_type": "markdown",
      "source": [
        "**contiguous memore** : \"each row follows the previous one directly in memory\"\n",
        "* view : contiguous it work fine but if not not work\n",
        "* reshape : if not contiguous it rearnge it and work fine.\n",
        "\n",
        "**then what make tensor not contiguous ??**"
      ],
      "metadata": {
        "id": "vqFzMTz7ELzl"
      }
    },
    {
      "cell_type": "code",
      "source": [
        "a = torch.tensor([1, 2, 3])\n",
        "b = torch.tensor([4, 5, 6])\n",
        "x = torch.stack((a, b))\n",
        "x,x.shape"
      ],
      "metadata": {
        "colab": {
          "base_uri": "https://localhost:8080/"
        },
        "id": "mMFAySxJ1C-N",
        "outputId": "3c218e22-2e3b-4a94-f80c-c1f78126b124"
      },
      "execution_count": 166,
      "outputs": [
        {
          "output_type": "execute_result",
          "data": {
            "text/plain": [
              "(tensor([[1, 2, 3],\n",
              "         [4, 5, 6]]),\n",
              " torch.Size([2, 3]))"
            ]
          },
          "metadata": {},
          "execution_count": 166
        }
      ]
    },
    {
      "cell_type": "markdown",
      "source": [
        "the .stack() functions add two tensore together\n",
        "* but using dim attribute behave like: \"where the index of new diminshin will be\"\n",
        "\n",
        "  and this shape how the output will be"
      ],
      "metadata": {
        "id": "cglARpiSTyro"
      }
    },
    {
      "cell_type": "code",
      "source": [
        "x = torch.stack((a, b),dim=0)\n",
        "x,x.shape"
      ],
      "metadata": {
        "colab": {
          "base_uri": "https://localhost:8080/"
        },
        "id": "inOhQ-hp1C7q",
        "outputId": "72b1b8a4-7570-4c5b-82e4-ba0214fc97e9"
      },
      "execution_count": 167,
      "outputs": [
        {
          "output_type": "execute_result",
          "data": {
            "text/plain": [
              "(tensor([[1, 2, 3],\n",
              "         [4, 5, 6]]),\n",
              " torch.Size([2, 3]))"
            ]
          },
          "metadata": {},
          "execution_count": 167
        }
      ]
    },
    {
      "cell_type": "code",
      "source": [
        "x = torch.stack((a, b),dim=1)\n",
        "x,x.shape"
      ],
      "metadata": {
        "colab": {
          "base_uri": "https://localhost:8080/"
        },
        "id": "eZkE_4h71C5J",
        "outputId": "5e182871-3655-44e4-99e3-3bd12f4592be"
      },
      "execution_count": 168,
      "outputs": [
        {
          "output_type": "execute_result",
          "data": {
            "text/plain": [
              "(tensor([[1, 4],\n",
              "         [2, 5],\n",
              "         [3, 6]]),\n",
              " torch.Size([3, 2]))"
            ]
          },
          "metadata": {},
          "execution_count": 168
        }
      ]
    },
    {
      "cell_type": "markdown",
      "source": [
        "### try higher diminshions"
      ],
      "metadata": {
        "id": "nBluMjaZVqow"
      }
    },
    {
      "cell_type": "code",
      "source": [
        "a = torch.randn(2, 3)\n",
        "b = torch.randn(2, 3)\n",
        "d = torch.randn(2, 3)\n",
        "print(f\"The stack when dim is 0 :\\n{torch.stack((a, b, d), dim=0)}\")\n",
        "print(f\"The shpae of stack when The dim is 0 :\\n{torch.stack((a, b, d), dim=0).shape}\")\n",
        "print(\"************************************************************************************************\")\n",
        "print(f\"The stack when dim is 1 :\\n{torch.stack((a, b, d), dim=1)}\")\n",
        "print(f\"The shpae of stack when The dim is 1 :\\n{torch.stack((a, b, d), dim=1).shape}\")\n",
        "print(\"************************************************************************************************\")\n",
        "print(f\"The stack when dim is 2 :\\n{torch.stack((a, b, d), dim=2)}\")\n",
        "print(f\"The shpae of stack when The dim is 2 :\\n{torch.stack((a, b, d), dim=2).shape}\")\n",
        "## the dim = 3 cuse error"
      ],
      "metadata": {
        "colab": {
          "base_uri": "https://localhost:8080/"
        },
        "id": "V_c2ktP91C24",
        "outputId": "128111c6-64c8-4ab8-8408-2912784c3b88"
      },
      "execution_count": 169,
      "outputs": [
        {
          "output_type": "stream",
          "name": "stdout",
          "text": [
            "The stack when dim is 0 :\n",
            "tensor([[[-0.4231, -0.2759, -0.1044],\n",
            "         [ 2.4374,  0.9525, -1.6060]],\n",
            "\n",
            "        [[ 0.5182,  1.1752,  0.0723],\n",
            "         [ 1.5628,  0.2253,  0.4295]],\n",
            "\n",
            "        [[ 0.3529,  1.6247, -2.3077],\n",
            "         [-0.7570,  1.6156,  0.2700]]])\n",
            "The shpae of stack when The dim is 0 :\n",
            "torch.Size([3, 2, 3])\n",
            "************************************************************************************************\n",
            "The stack when dim is 1 :\n",
            "tensor([[[-0.4231, -0.2759, -0.1044],\n",
            "         [ 0.5182,  1.1752,  0.0723],\n",
            "         [ 0.3529,  1.6247, -2.3077]],\n",
            "\n",
            "        [[ 2.4374,  0.9525, -1.6060],\n",
            "         [ 1.5628,  0.2253,  0.4295],\n",
            "         [-0.7570,  1.6156,  0.2700]]])\n",
            "The shpae of stack when The dim is 1 :\n",
            "torch.Size([2, 3, 3])\n",
            "************************************************************************************************\n",
            "The stack when dim is 2 :\n",
            "tensor([[[-0.4231,  0.5182,  0.3529],\n",
            "         [-0.2759,  1.1752,  1.6247],\n",
            "         [-0.1044,  0.0723, -2.3077]],\n",
            "\n",
            "        [[ 2.4374,  1.5628, -0.7570],\n",
            "         [ 0.9525,  0.2253,  1.6156],\n",
            "         [-1.6060,  0.4295,  0.2700]]])\n",
            "The shpae of stack when The dim is 2 :\n",
            "torch.Size([2, 3, 3])\n"
          ]
        }
      ]
    },
    {
      "cell_type": "markdown",
      "source": [
        "###the squeeze tensors"
      ],
      "metadata": {
        "id": "Afad0RE2Fb5z"
      }
    },
    {
      "cell_type": "code",
      "source": [
        "tensor=torch.arange(1,10).reshape(1,9)\n",
        "tensor, tensor.shape\n",
        "\n",
        "print(f\"the tensore before squezze:{tensor}\")\n",
        "print(f\"the shape before squezze:{tensor.shape}\")\n",
        "print(\"************************************************************************************************\")\n",
        "print(f\"the tensore after squezze:{tensor.squeeze()}\")\n",
        "print(f\"the shape after squezze:{tensor.squeeze().shape}\")"
      ],
      "metadata": {
        "colab": {
          "base_uri": "https://localhost:8080/"
        },
        "id": "AGUHT3XJdViK",
        "outputId": "6dec8a62-a31c-4e78-c0e4-50bb941f0968"
      },
      "execution_count": 170,
      "outputs": [
        {
          "output_type": "stream",
          "name": "stdout",
          "text": [
            "the tensore before squezze:tensor([[1, 2, 3, 4, 5, 6, 7, 8, 9]])\n",
            "the shape before squezze:torch.Size([1, 9])\n",
            "************************************************************************************************\n",
            "the tensore after squezze:tensor([1, 2, 3, 4, 5, 6, 7, 8, 9])\n",
            "the shape after squezze:torch.Size([9])\n"
          ]
        }
      ]
    },
    {
      "cell_type": "code",
      "source": [
        "tensor=torch.arange(1,10)\n",
        "tensor, tensor.shape\n",
        "\n",
        "print(f\"the tensore before unsquezze:{tensor}\")\n",
        "print(f\"the shape before unsquezze:{tensor.shape}\")\n",
        "print(\"************************************************************************************************\")\n",
        "print(f\"the tensore after unsquezze dim = 0:{tensor.unsqueeze(dim=0)}\")\n",
        "print(f\"the shape after unsquezze dim = 0:{tensor.unsqueeze(dim=0).shape}\")\n",
        "print(\"************************************************************************************************\")\n",
        "print(f\"the tensore after unsquezze dim = 1:{tensor.unsqueeze(dim=1)}\")\n",
        "print(f\"the shape after unsquezze dim = 1:{tensor.unsqueeze(dim=1).shape}\")"
      ],
      "metadata": {
        "colab": {
          "base_uri": "https://localhost:8080/"
        },
        "id": "KoxLGss2detR",
        "outputId": "14d0dd79-ae95-4722-f9a6-d5f8ec836960"
      },
      "execution_count": 171,
      "outputs": [
        {
          "output_type": "stream",
          "name": "stdout",
          "text": [
            "the tensore before unsquezze:tensor([1, 2, 3, 4, 5, 6, 7, 8, 9])\n",
            "the shape before unsquezze:torch.Size([9])\n",
            "************************************************************************************************\n",
            "the tensore after unsquezze dim = 0:tensor([[1, 2, 3, 4, 5, 6, 7, 8, 9]])\n",
            "the shape after unsquezze dim = 0:torch.Size([1, 9])\n",
            "************************************************************************************************\n",
            "the tensore after unsquezze dim = 1:tensor([[1],\n",
            "        [2],\n",
            "        [3],\n",
            "        [4],\n",
            "        [5],\n",
            "        [6],\n",
            "        [7],\n",
            "        [8],\n",
            "        [9]])\n",
            "the shape after unsquezze dim = 1:torch.Size([9, 1])\n"
          ]
        }
      ]
    },
    {
      "cell_type": "code",
      "source": [
        "orginal_tensor=torch.rand(size=(5,6,7))\n",
        "tranc_tensor=orginal_tensor.permute(2,0,1)\n",
        "print(f\"orginal_tensor shape:{orginal_tensor.shape}\")\n",
        "print(f\"trans_tensor shape:{tranc_tensor.shape}\")\n",
        "print(f\"orginal_tensor shape:{orginal_tensor.shape}\")\n",
        "## poth share the same memory but have diffrent view\n",
        "print(f\"the index on orginal tensor:{orginal_tensor[0,0,0]}\")\n",
        "print(f\"the index on trans_tensor:{tranc_tensor[0,0,0]}\")\n",
        "orginal_tensor[0,0,0]=2\n",
        "print(f\"the index on orginal tensor after change:{orginal_tensor[0,0,0]}\")\n",
        "print(f\"the index on trans_tensor after change:{tranc_tensor[0,0,0]}\")\n",
        "\n"
      ],
      "metadata": {
        "colab": {
          "base_uri": "https://localhost:8080/"
        },
        "id": "wzHP_XAodqEx",
        "outputId": "268b59d8-a1bb-4eba-df0b-e987eb0afbc3"
      },
      "execution_count": 172,
      "outputs": [
        {
          "output_type": "stream",
          "name": "stdout",
          "text": [
            "orginal_tensor shape:torch.Size([5, 6, 7])\n",
            "trans_tensor shape:torch.Size([7, 5, 6])\n",
            "orginal_tensor shape:torch.Size([5, 6, 7])\n",
            "the index on orginal tensor:0.3541228771209717\n",
            "the index on trans_tensor:0.3541228771209717\n",
            "the index on orginal tensor after change:2.0\n",
            "the index on trans_tensor after change:2.0\n"
          ]
        }
      ]
    },
    {
      "cell_type": "markdown",
      "source": [
        "# indexing"
      ],
      "metadata": {
        "id": "RLxhRJ7FivHj"
      }
    },
    {
      "cell_type": "code",
      "source": [
        "x=torch.arange(1,10).reshape(1,3,3)\n",
        "x,x.shape"
      ],
      "metadata": {
        "colab": {
          "base_uri": "https://localhost:8080/"
        },
        "id": "TKQez6iEFIMZ",
        "outputId": "eb6f1b04-3825-49fe-f709-e3596c1480c8"
      },
      "execution_count": 173,
      "outputs": [
        {
          "output_type": "execute_result",
          "data": {
            "text/plain": [
              "(tensor([[[1, 2, 3],\n",
              "          [4, 5, 6],\n",
              "          [7, 8, 9]]]),\n",
              " torch.Size([1, 3, 3]))"
            ]
          },
          "metadata": {},
          "execution_count": 173
        }
      ]
    },
    {
      "cell_type": "code",
      "source": [
        "x[0]"
      ],
      "metadata": {
        "colab": {
          "base_uri": "https://localhost:8080/"
        },
        "id": "FvJmVKxLFJt7",
        "outputId": "84293a60-f5c6-40ed-ce90-fbce9fb39500"
      },
      "execution_count": 174,
      "outputs": [
        {
          "output_type": "execute_result",
          "data": {
            "text/plain": [
              "tensor([[1, 2, 3],\n",
              "        [4, 5, 6],\n",
              "        [7, 8, 9]])"
            ]
          },
          "metadata": {},
          "execution_count": 174
        }
      ]
    },
    {
      "cell_type": "code",
      "source": [
        "x[0][0]"
      ],
      "metadata": {
        "colab": {
          "base_uri": "https://localhost:8080/"
        },
        "id": "GcEIdYcMFJrZ",
        "outputId": "4cd2335f-fe08-4377-c85c-c46d1350b208"
      },
      "execution_count": 175,
      "outputs": [
        {
          "output_type": "execute_result",
          "data": {
            "text/plain": [
              "tensor([1, 2, 3])"
            ]
          },
          "metadata": {},
          "execution_count": 175
        }
      ]
    },
    {
      "cell_type": "code",
      "source": [
        "#seperte [n][n][n] is equal to [n,n,n]\n",
        "x[0,0,0]"
      ],
      "metadata": {
        "colab": {
          "base_uri": "https://localhost:8080/"
        },
        "id": "vAU7Kd5eFJom",
        "outputId": "932862e2-3c12-4b17-ce0d-1aaf1fd6ddc5"
      },
      "execution_count": 176,
      "outputs": [
        {
          "output_type": "execute_result",
          "data": {
            "text/plain": [
              "tensor(1)"
            ]
          },
          "metadata": {},
          "execution_count": 176
        }
      ]
    },
    {
      "cell_type": "code",
      "source": [
        "# we use : to say select all elemnt in this diminshine\n",
        "x[:,0]"
      ],
      "metadata": {
        "colab": {
          "base_uri": "https://localhost:8080/"
        },
        "id": "EhVnATtyFJly",
        "outputId": "3d1a8867-da84-4466-e8fc-460eb0171f0f"
      },
      "execution_count": 177,
      "outputs": [
        {
          "output_type": "execute_result",
          "data": {
            "text/plain": [
              "tensor([[1, 2, 3]])"
            ]
          },
          "metadata": {},
          "execution_count": 177
        }
      ]
    },
    {
      "cell_type": "code",
      "source": [
        "new=torch.arange(11,20).reshape(1,3,3)\n",
        "x=torch.cat((x,new),dim=0)\n",
        "x"
      ],
      "metadata": {
        "colab": {
          "base_uri": "https://localhost:8080/"
        },
        "id": "EySmPIdTFJjA",
        "outputId": "8de70952-06b4-47ab-dc20-02170342e5c2"
      },
      "execution_count": 178,
      "outputs": [
        {
          "output_type": "execute_result",
          "data": {
            "text/plain": [
              "tensor([[[ 1,  2,  3],\n",
              "         [ 4,  5,  6],\n",
              "         [ 7,  8,  9]],\n",
              "\n",
              "        [[11, 12, 13],\n",
              "         [14, 15, 16],\n",
              "         [17, 18, 19]]])"
            ]
          },
          "metadata": {},
          "execution_count": 178
        }
      ]
    },
    {
      "cell_type": "code",
      "source": [
        "x[:,0]"
      ],
      "metadata": {
        "colab": {
          "base_uri": "https://localhost:8080/"
        },
        "id": "R8BmoGZvFJgA",
        "outputId": "e9fc16bc-2a9f-4815-e136-c6676bbb5406"
      },
      "execution_count": 179,
      "outputs": [
        {
          "output_type": "execute_result",
          "data": {
            "text/plain": [
              "tensor([[ 1,  2,  3],\n",
              "        [11, 12, 13]])"
            ]
          },
          "metadata": {},
          "execution_count": 179
        }
      ]
    },
    {
      "cell_type": "code",
      "source": [
        "x[:,0,2]"
      ],
      "metadata": {
        "colab": {
          "base_uri": "https://localhost:8080/"
        },
        "id": "1k7zlV8HFJc9",
        "outputId": "dff6d3ae-b7ce-40fa-8a71-0594f39a3281"
      },
      "execution_count": 180,
      "outputs": [
        {
          "output_type": "execute_result",
          "data": {
            "text/plain": [
              "tensor([ 3, 13])"
            ]
          },
          "metadata": {},
          "execution_count": 180
        }
      ]
    },
    {
      "cell_type": "markdown",
      "source": [
        "## get start from numpy to tensor"
      ],
      "metadata": {
        "id": "RFanP8y3Qua1"
      }
    },
    {
      "cell_type": "code",
      "source": [
        "import numpy as np\n",
        "array=np.arange(1,8)\n",
        "tensor=torch.from_numpy(array)\n",
        "array,tensor"
      ],
      "metadata": {
        "colab": {
          "base_uri": "https://localhost:8080/"
        },
        "id": "N0B3WiQEFJaK",
        "outputId": "f6e9bc05-b0ca-440f-e577-effa9ef7b44d"
      },
      "execution_count": 181,
      "outputs": [
        {
          "output_type": "execute_result",
          "data": {
            "text/plain": [
              "(array([1, 2, 3, 4, 5, 6, 7]), tensor([1, 2, 3, 4, 5, 6, 7]))"
            ]
          },
          "metadata": {},
          "execution_count": 181
        }
      ]
    },
    {
      "cell_type": "code",
      "source": [
        "## every time you run this line you get differant tensor\n",
        "rand_tensor=torch.rand(3,4)\n",
        "rand_tensor\n"
      ],
      "metadata": {
        "id": "TtyOoooYFJXP",
        "colab": {
          "base_uri": "https://localhost:8080/"
        },
        "outputId": "2958a386-08b3-42cd-cb81-f4cc835e785f"
      },
      "execution_count": 182,
      "outputs": [
        {
          "output_type": "execute_result",
          "data": {
            "text/plain": [
              "tensor([[0.0539, 0.1522, 0.6414, 0.8040],\n",
              "        [0.9498, 0.8600, 0.5898, 0.7526],\n",
              "        [0.3401, 0.6602, 0.1139, 0.4753]])"
            ]
          },
          "metadata": {},
          "execution_count": 182
        }
      ]
    },
    {
      "cell_type": "code",
      "source": [
        "## always get the same set of number\n",
        "torch.manual_seed(42)\n",
        "rand_tensor=torch.rand(3,4)\n",
        "rand_tensor"
      ],
      "metadata": {
        "id": "NYMepgf0FJU7",
        "colab": {
          "base_uri": "https://localhost:8080/"
        },
        "outputId": "2701047a-00b8-43ae-a0a3-f025dc1a0d94"
      },
      "execution_count": 183,
      "outputs": [
        {
          "output_type": "execute_result",
          "data": {
            "text/plain": [
              "tensor([[0.8823, 0.9150, 0.3829, 0.9593],\n",
              "        [0.3904, 0.6009, 0.2566, 0.7936],\n",
              "        [0.9408, 0.1332, 0.9346, 0.5936]])"
            ]
          },
          "metadata": {},
          "execution_count": 183
        }
      ]
    },
    {
      "cell_type": "code",
      "source": [
        "!nvidia-smi ## do it after reasigne the runtime hardware to gpu"
      ],
      "metadata": {
        "id": "fEYvOIrQFJSd",
        "colab": {
          "base_uri": "https://localhost:8080/"
        },
        "outputId": "be498946-28d8-4fce-a25c-3154e90cf696"
      },
      "execution_count": 184,
      "outputs": [
        {
          "output_type": "stream",
          "name": "stdout",
          "text": [
            "Tue Oct 28 12:05:32 2025       \n",
            "+-----------------------------------------------------------------------------------------+\n",
            "| NVIDIA-SMI 550.54.15              Driver Version: 550.54.15      CUDA Version: 12.4     |\n",
            "|-----------------------------------------+------------------------+----------------------+\n",
            "| GPU  Name                 Persistence-M | Bus-Id          Disp.A | Volatile Uncorr. ECC |\n",
            "| Fan  Temp   Perf          Pwr:Usage/Cap |           Memory-Usage | GPU-Util  Compute M. |\n",
            "|                                         |                        |               MIG M. |\n",
            "|=========================================+========================+======================|\n",
            "|   0  Tesla T4                       Off |   00000000:00:04.0 Off |                    0 |\n",
            "| N/A   76C    P0             32W /   70W |     120MiB /  15360MiB |      0%      Default |\n",
            "|                                         |                        |                  N/A |\n",
            "+-----------------------------------------+------------------------+----------------------+\n",
            "                                                                                         \n",
            "+-----------------------------------------------------------------------------------------+\n",
            "| Processes:                                                                              |\n",
            "|  GPU   GI   CI        PID   Type   Process name                              GPU Memory |\n",
            "|        ID   ID                                                               Usage      |\n",
            "|=========================================================================================|\n",
            "+-----------------------------------------------------------------------------------------+\n"
          ]
        }
      ]
    },
    {
      "cell_type": "code",
      "source": [
        "device= \"cuda\" if torch.cuda.is_available() else \"cpu\"\n",
        "device"
      ],
      "metadata": {
        "colab": {
          "base_uri": "https://localhost:8080/",
          "height": 36
        },
        "id": "p6zeqRdXio42",
        "outputId": "e8dc10d2-ca49-4cfb-b2fe-6e048ac58019"
      },
      "execution_count": 185,
      "outputs": [
        {
          "output_type": "execute_result",
          "data": {
            "text/plain": [
              "'cuda'"
            ],
            "application/vnd.google.colaboratory.intrinsic+json": {
              "type": "string"
            }
          },
          "metadata": {},
          "execution_count": 185
        }
      ]
    },
    {
      "cell_type": "code",
      "source": [
        "torch.cuda.is_available()"
      ],
      "metadata": {
        "id": "EDgqdiLHFJPj",
        "colab": {
          "base_uri": "https://localhost:8080/"
        },
        "outputId": "4af5b938-9555-43b6-b7d7-d2334f5397e4"
      },
      "execution_count": 186,
      "outputs": [
        {
          "output_type": "execute_result",
          "data": {
            "text/plain": [
              "True"
            ]
          },
          "metadata": {},
          "execution_count": 186
        }
      ]
    },
    {
      "cell_type": "code",
      "source": [
        "torch.cuda.device_count()"
      ],
      "metadata": {
        "id": "ETfTnugmFJMz",
        "colab": {
          "base_uri": "https://localhost:8080/"
        },
        "outputId": "bab1aafd-3874-4640-b9b8-944760a3c6ef"
      },
      "execution_count": 187,
      "outputs": [
        {
          "output_type": "execute_result",
          "data": {
            "text/plain": [
              "1"
            ]
          },
          "metadata": {},
          "execution_count": 187
        }
      ]
    },
    {
      "cell_type": "code",
      "source": [
        "torch.manual_seed(45) ## this function her because no reasone just i try it\n",
        "tensor=torch.rand(3,4)\n",
        "print(tensor,tensor.device)"
      ],
      "metadata": {
        "id": "DFTftcExFJKS",
        "colab": {
          "base_uri": "https://localhost:8080/"
        },
        "outputId": "d507ec42-b0f5-4dea-cf44-d27ac8ce57b1"
      },
      "execution_count": 188,
      "outputs": [
        {
          "output_type": "stream",
          "name": "stdout",
          "text": [
            "tensor([[0.1869, 0.9613, 0.6834, 0.8988],\n",
            "        [0.0505, 0.5555, 0.7861, 0.0566],\n",
            "        [0.7842, 0.1480, 0.0388, 0.1037]]) cpu\n"
          ]
        }
      ]
    },
    {
      "cell_type": "code",
      "source": [
        "tensor=tensor.to(device)\n",
        "print(tensor ,tensor.device)\n"
      ],
      "metadata": {
        "colab": {
          "base_uri": "https://localhost:8080/"
        },
        "id": "dr5wW_RqklH2",
        "outputId": "84b73220-9d90-4524-f591-bfd28e88c5ef"
      },
      "execution_count": 189,
      "outputs": [
        {
          "output_type": "stream",
          "name": "stdout",
          "text": [
            "tensor([[0.1869, 0.9613, 0.6834, 0.8988],\n",
            "        [0.0505, 0.5555, 0.7861, 0.0566],\n",
            "        [0.7842, 0.1480, 0.0388, 0.1037]], device='cuda:0') cuda:0\n"
          ]
        }
      ]
    },
    {
      "cell_type": "code",
      "source": [
        "## Note: if the tensore on the gpu can't move to numpy ,,, to do it you have get back to cpu then you can move tensor to numpy\n",
        "tensor_back_to_cpu=tensor.cpu().numpy()\n",
        "tensor_back_to_cpu"
      ],
      "metadata": {
        "colab": {
          "base_uri": "https://localhost:8080/"
        },
        "id": "ttpH_tQ1kuHG",
        "outputId": "a408d8a2-1c11-49a7-8c2d-119f1ef4c8bf"
      },
      "execution_count": 190,
      "outputs": [
        {
          "output_type": "execute_result",
          "data": {
            "text/plain": [
              "array([[0.18694752, 0.9613284 , 0.683449  , 0.89879584],\n",
              "       [0.0505085 , 0.5554561 , 0.7861288 , 0.0566228 ],\n",
              "       [0.7841894 , 0.14798379, 0.03884083, 0.1037364 ]], dtype=float32)"
            ]
          },
          "metadata": {},
          "execution_count": 190
        }
      ]
    },
    {
      "cell_type": "markdown",
      "source": [
        "## Exirsies"
      ],
      "metadata": {
        "id": "AJb5iOwMkyRG"
      }
    },
    {
      "cell_type": "code",
      "source": [],
      "metadata": {
        "id": "uNjxVTnUmmzP"
      },
      "execution_count": 190,
      "outputs": []
    }
  ]
}